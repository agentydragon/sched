{
  "nbformat": 4,
  "nbformat_minor": 0,
  "metadata": {
    "colab": {
      "name": "Explore Anki data",
      "version": "0.3.2",
      "provenance": [],
      "collapsed_sections": [],
      "include_colab_link": true
    },
    "kernelspec": {
      "name": "python3",
      "display_name": "Python 3"
    },
    "accelerator": "GPU"
  },
  "cells": [
    {
      "cell_type": "markdown",
      "metadata": {
        "id": "view-in-github",
        "colab_type": "text"
      },
      "source": [
        "<a href=\"https://colab.research.google.com/github/agentydragon/sched/blob/master/Explore_Anki_data.ipynb\" target=\"_parent\"><img src=\"https://colab.research.google.com/assets/colab-badge.svg\" alt=\"Open In Colab\"/></a>"
      ]
    },
    {
      "cell_type": "code",
      "metadata": {
        "id": "U67javkAzODA",
        "colab_type": "code",
        "outputId": "72f8682b-8f55-43d1-ec9c-88cf8262d27e",
        "colab": {
          "base_uri": "https://localhost:8080/",
          "height": 35
        }
      },
      "source": [
        "%matplotlib inline\n",
        "import sqlite3\n",
        "import pandas as pd\n",
        "import matplotlib\n",
        "import matplotlib.pyplot as plt\n",
        "import numpy as np\n",
        "import tensorflow as tf\n",
        "from datetime import timedelta\n",
        "from google.colab import drive\n",
        "drive.mount('/content/gdrive')"
      ],
      "execution_count": 4,
      "outputs": [
        {
          "output_type": "stream",
          "text": [
            "Drive already mounted at /content/gdrive; to attempt to forcibly remount, call drive.mount(\"/content/gdrive\", force_remount=True).\n"
          ],
          "name": "stdout"
        }
      ]
    },
    {
      "cell_type": "code",
      "metadata": {
        "id": "l6L9Fgt2zgto",
        "colab_type": "code",
        "colab": {}
      },
      "source": [
        "conn = sqlite3.connect('/content/gdrive/My Drive/collection.anki2')\n",
        "data = []\n",
        "for row in conn.execute('SELECT id, cid, ease, time, type FROM revlog;'):\n",
        "  id, cid, ease, time, type = row\n",
        "  data.append((pd.Timestamp(id, unit='ms'), cid, ease, time, type))\n",
        "df = pd.DataFrame(data, columns = ['id', 'cid', 'ease', 'time', 'type'])"
      ],
      "execution_count": 0,
      "outputs": []
    },
    {
      "cell_type": "markdown",
      "metadata": {
        "id": "YMJ086KkCYGC",
        "colab_type": "text"
      },
      "source": [
        "Let's get the number of cards I have."
      ]
    },
    {
      "cell_type": "code",
      "metadata": {
        "id": "raQj0FHXyI5I",
        "colab_type": "code",
        "outputId": "73a620c9-de79-401d-b42e-3234674142a9",
        "colab": {
          "base_uri": "https://localhost:8080/",
          "height": 34
        }
      },
      "source": [
        "print(len(pd.unique(df['cid'])))"
      ],
      "execution_count": 0,
      "outputs": [
        {
          "output_type": "stream",
          "text": [
            "34537\n"
          ],
          "name": "stdout"
        }
      ]
    },
    {
      "cell_type": "markdown",
      "metadata": {
        "id": "O8jc2cu2CPWJ",
        "colab_type": "text"
      },
      "source": [
        "Forgetting curves\n",
        "=="
      ]
    },
    {
      "cell_type": "code",
      "metadata": {
        "id": "pZ45dWes9B-7",
        "colab_type": "code",
        "outputId": "1618feef-8b69-499a-8419-92bbf10fa6b7",
        "colab": {
          "base_uri": "https://localhost:8080/",
          "height": 339
        }
      },
      "source": [
        "x = np.linspace(0.0, 10.0)\n",
        "plt.plot(x, np.exp(-x), x, np.exp(-0.5 * x), x, np.exp(-0.25 * x), x, np.exp(-0.05 * x))"
      ],
      "execution_count": 0,
      "outputs": [
        {
          "output_type": "execute_result",
          "data": {
            "text/plain": [
              "[<matplotlib.lines.Line2D at 0x7fb4628c6128>,\n",
              " <matplotlib.lines.Line2D at 0x7fb4628c62b0>,\n",
              " <matplotlib.lines.Line2D at 0x7fb4628c6630>,\n",
              " <matplotlib.lines.Line2D at 0x7fb4628c6978>]"
            ]
          },
          "metadata": {
            "tags": []
          },
          "execution_count": 12
        },
        {
          "output_type": "display_data",
          "data": {
            "image/png": "[encoded data removed]",
            "text/plain": [
              "<Figure size 432x288 with 1 Axes>"
            ]
          },
          "metadata": {
            "tags": []
          }
        }
      ]
    },
    {
      "cell_type": "code",
      "metadata": {
        "id": "nHNXUJxPDeoy",
        "colab_type": "code",
        "colab": {}
      },
      "source": [
        "def get_card_reviews(cid):\n",
        "  card_reviews = df[df.cid == cid]\n",
        "  card_reviews = card_reviews.loc[:, ['id', 'ease', 'time', 'type']]\n",
        "  card_reviews['correct'] = card_reviews.ease > 1\n",
        "  card_reviews = card_reviews.loc[:, ['id', 'correct']]\n",
        "  card_reviews.head()\n",
        "  card_reviews['diff'] = card_reviews['id'].diff()\n",
        "  return card_reviews[~card_reviews['diff'].isnull()]\n",
        "\n",
        "def get_sample_card_ids(n, random_state=1):\n",
        "  return pd.Series(pd.unique(df['cid'])).sort_values().sample(n=n, random_state=random_state).to_numpy()"
      ],
      "execution_count": 0,
      "outputs": []
    },
    {
      "cell_type": "markdown",
      "metadata": {
        "id": "_rN7g3WXf5gm",
        "colab_type": "text"
      },
      "source": [
        "Card difficulty - making lambda smaller/bigger on win/loss\n",
        "==="
      ]
    },
    {
      "cell_type": "markdown",
      "metadata": {
        "id": "eZnbx0r99D_E",
        "colab_type": "text"
      },
      "source": [
        "Model: probability of getting a card right is $\\hat{p} = e^{-\\lambda \\cdot t}$.\n",
        "If you get a card right, $\\lambda$ gets multiplied by $w$, and if you get it wrong, it gets multiplied by $l$.\n",
        "The initial value of $\\lambda$ is $\\lambda_1$. $t$ is measured in floating-point days since last review. Parameters are $[\\lambda_1, w, l]$ and they are initialized with ones. To prevent taking logs of numbers very close to 0, we cap $\\hat{p}$ between 0.001 and 0.998. Here we try to fit one global model.\n",
        "\n",
        "We optimize $H(p, \\hat{p})$ by stochastic gradient descent. The model is trained on 1000 random cards."
      ]
    },
    {
      "cell_type": "code",
      "metadata": {
        "id": "0zpZCsgn-cXK",
        "colab_type": "code",
        "cellView": "both",
        "colab": {}
      },
      "source": [
        "num_cards = 300 #@param {type:\"integer\"}\n",
        "epochs = 100 #@param {type:\"integer\"}\n"
      ],
      "execution_count": 0,
      "outputs": []
    },
    {
      "cell_type": "code",
      "metadata": {
        "id": "gubhQKRbfxuB",
        "colab_type": "code",
        "outputId": "44101eef-20f5-443d-bfbc-0e41ac7791d7",
        "colab": {
          "base_uri": "https://localhost:8080/",
          "height": 2129
        }
      },
      "source": [
        "# Old, direct model\n",
        "\n",
        "lambda1 = tf.Variable(1.0, name=\"lambda1\", trainable=True)\n",
        "win_p = tf.Variable(1.0)\n",
        "loss_p = tf.Variable(1.0)\n",
        "variables = [lambda1, win_p, loss_p]\n",
        "\n",
        "l = lambda1\n",
        "losses = []\n",
        "probabilities = []\n",
        "\n",
        "def build_losses_for_reviews(card_reviews):\n",
        "  l = lambda1\n",
        "  for index, row in card_reviews.iterrows():\n",
        "    #print(row)\n",
        "    diff_seconds = row['diff'].total_seconds()\n",
        "    diff_days = diff_seconds / 86400.0\n",
        "    current_probability = 0.998 * tf.exp(-l * diff_days) + 0.001\n",
        "    probabilities.append(current_probability)\n",
        "\n",
        "    if row['correct']:\n",
        "      # we predicted probability current_probability --> if it was 1, do nothing\n",
        "      loss_bit = -tf.log(current_probability)\n",
        "      losses.append(loss_bit)\n",
        "      l = l * win_p\n",
        "    else:\n",
        "      loss_bit = -tf.log(1.0 - current_probability)\n",
        "      losses.append(loss_bit)\n",
        "      l = l * loss_p\n",
        "      \n",
        "from IPython.display import HTML, display\n",
        "\n",
        "def progress(value, max=100):\n",
        "    return HTML(\"\"\"\n",
        "        <progress value='{value}' max='{max}' style='width: 100%'>\n",
        "            {value}\n",
        "        </progress>\n",
        "    \"\"\".format(value=value, max=max))\n",
        "\n",
        "out = display(progress(0, num_cards), display_id=True)\n",
        "for i, card in enumerate(get_sample_card_ids(num_cards)):\n",
        "  build_losses_for_reviews(get_card_reviews(card))\n",
        "  out.update(progress(i, num_cards))\n",
        "out.update(HTML(\"Losses for reviews built.\"))\n",
        "  \n",
        "loss = tf.reduce_sum(losses) / len(losses)\n",
        "# Making training rate higher than 0.01 leads to shooting out to NaNs.\n",
        "opt = tf.train.GradientDescentOptimizer(learning_rate=0.01)\n",
        "train_op = opt.minimize(loss, var_list=variables)\n",
        "\n",
        "losses = []\n",
        "values = []\n",
        "\n",
        "with tf.Session() as sess:\n",
        "  sess.run(tf.global_variables_initializer())\n",
        " \n",
        "  epoch_progress = display(progress(0, epochs), display_id=True)\n",
        "  for i in range(epochs):\n",
        "    metadata = tf.RunMetadata()\n",
        "    sess.run(train_op)\n",
        "    epoch_progress.update(progress(i, epochs))\n",
        "    vars_value = sess.run(variables)\n",
        "    loss_value = sess.run(loss)\n",
        "    if i % 10 == 0:\n",
        "      print(\"after round\", i, vars_value, \"loss=\", loss_value)\n",
        "      values.append(tuple(vars_value + [loss_value]))\n",
        "    losses.append(loss_value)\n",
        "  \n",
        "  print('Final:')\n",
        "  print(sess.run(variables))\n",
        "#  print('Probs: ', sess.run(probabilities))\n",
        "#  print('Loss: ', sess.run(loss))\n",
        "\n",
        "plt.plot(range(epochs), losses)\n",
        "    "
      ],
      "execution_count": 0,
      "outputs": [
        {
          "output_type": "display_data",
          "data": {
            "text/html": [
              "Losses for reviews built."
            ],
            "text/plain": [
              "<IPython.core.display.HTML object>"
            ]
          },
          "metadata": {
            "tags": []
          }
        },
        {
          "output_type": "display_data",
          "data": {
            "text/html": [
              "\n",
              "        <progress value='999' max='1000' style='width: 100%'>\n",
              "            999\n",
              "        </progress>\n",
              "    "
            ],
            "text/plain": [
              "<IPython.core.display.HTML object>"
            ]
          },
          "metadata": {
            "tags": []
          }
        },
        {
          "output_type": "stream",
          "text": [
            "after round 0 [0.9945055, 0.93423533, 0.97033834] loss= 2.7519743\n",
            "after round 10 [0.94985366, 0.66264117, 0.9748742] loss= 1.9895054\n",
            "after round 20 [0.91090345, 0.43794712, 1.0167735] loss= 1.4496759\n",
            "after round 30 [0.88259596, 0.30348274, 1.0486419] loss= 1.2508247\n",
            "after round 40 [0.8660628, 0.2434753, 1.0730766] loss= 1.2056427\n",
            "after round 50 [0.853892, 0.21343252, 1.0952047] loss= 1.1902815\n",
            "after round 60 [0.84347653, 0.19556598, 1.1166805] loss= 1.1814158\n",
            "after round 70 [0.8340132, 0.18460307, 1.1382266] loss= 1.1746796\n",
            "after round 80 [0.82515955, 0.17861727, 1.1603539] loss= 1.1686306\n",
            "after round 90 [0.8167018, 0.17667276, 1.1836007] loss= 1.1624476\n",
            "after round 100 [0.8084728, 0.17826156, 1.208644] loss= 1.1554301\n",
            "after round 110 [0.8003359, 0.18324481, 1.2363651] loss= 1.1467637\n",
            "after round 120 [0.792171, 0.1916948, 1.267818] loss= 1.1353811\n",
            "after round 130 [0.78385144, 0.20355752, 1.3039334] loss= 1.1201038\n",
            "after round 140 [0.77517134, 0.2176452, 1.3444469] loss= 1.1008602\n",
            "after round 150 [0.7658337, 0.2316324, 1.3873332] loss= 1.0796208\n",
            "after round 160 [0.75559264, 0.24302438, 1.4296981] loss= 1.0593747\n",
            "after round 170 [0.74441785, 0.24940325, 1.468233] loss= 1.0429357\n",
            "after round 180 [0.7325445, 0.24977177, 1.5002775] loss= 1.031294\n",
            "after round 190 [0.7204183, 0.24510564, 1.5250545] loss= 1.0234948\n",
            "after round 200 [0.7084571, 0.2387589, 1.5445366] loss= 1.0178922\n",
            "after round 210 [0.6968015, 0.23283839, 1.5606765] loss= 1.013598\n",
            "after round 220 [0.6854263, 0.22802138, 1.5746033] loss= 1.0101452\n",
            "after round 230 [0.67426205, 0.22473735, 1.5871369] loss= 1.0072259\n",
            "after round 240 [0.66320884, 0.22362626, 1.599063] loss= 1.0045698\n",
            "after round 250 [0.65208036, 0.22296125, 1.6096673] loss= 1.002207\n",
            "after round 260 [0.6408724, 0.22094637, 1.6180409] loss= 1.0002127\n",
            "after round 270 [0.62972003, 0.21864836, 1.6249233] loss= 0.9984457\n",
            "after round 280 [0.6186671, 0.21662226, 1.6307919] loss= 0.99684143\n",
            "after round 290 [0.60771424, 0.21496978, 1.63585] loss= 0.9953613\n",
            "after round 300 [0.5968532, 0.21367954, 1.6402125] loss= 0.9939763\n",
            "after round 310 [0.58607495, 0.21271926, 1.6439636] loss= 0.992666\n",
            "after round 320 [0.5753717, 0.21205588, 1.6471713] loss= 0.99141395\n",
            "after round 330 [0.5647367, 0.21165925, 1.6498941] loss= 0.9902074\n",
            "after round 340 [0.5541648, 0.21150294, 1.6521822] loss= 0.98903805\n",
            "after round 350 [0.54365164, 0.21156336, 1.6540797] loss= 0.9878971\n",
            "after round 360 [0.53319454, 0.21182032, 1.6556251] loss= 0.9867795\n",
            "after round 370 [0.5227919, 0.21225603, 1.6568527] loss= 0.98568094\n",
            "after round 380 [0.51244307, 0.21285515, 1.6577928] loss= 0.9845975\n",
            "after round 390 [0.5021486, 0.21360451, 1.6584724] loss= 0.9835278\n",
            "after round 400 [0.49191007, 0.21449295, 1.6589153] loss= 0.9824702\n",
            "after round 410 [0.48172978, 0.21551119, 1.6591427] loss= 0.98142296\n",
            "after round 420 [0.4716108, 0.21665207, 1.6591742] loss= 0.9803862\n",
            "after round 430 [0.4615568, 0.21791048, 1.6590272] loss= 0.97935975\n",
            "after round 440 [0.45157164, 0.21928394, 1.6587181] loss= 0.9783434\n",
            "after round 450 [0.44165948, 0.22077326, 1.6582624] loss= 0.9773364\n",
            "after round 460 [0.4318242, 0.2223839, 1.6576756] loss= 0.97633964\n",
            "after round 470 [0.42206928, 0.22412919, 1.6569757] loss= 0.97535294\n",
            "after round 480 [0.41239676, 0.22603698, 1.6561854] loss= 0.97437483\n",
            "after round 490 [0.40280658, 0.22816895, 1.6553414] loss= 0.97340226\n",
            "after round 500 [0.39329475, 0.23068431, 1.6545271] loss= 0.9724278\n",
            "after round 510 [0.38385454, 0.23415786, 1.6540364] loss= 0.9714082\n",
            "after round 520 [0.37450927, 0.2414973, 1.6554636] loss= 0.96989906\n",
            "after round 530 [0.3647451, 0.25012764, 1.6582152] loss= 0.9681005\n",
            "after round 540 [0.35439223, 0.25332227, 1.6583586] loss= 0.9669219\n",
            "after round 550 [0.34408197, 0.2552557, 1.6576759] loss= 0.96581775\n",
            "after round 560 [0.3339769, 0.2570836, 1.6567389] loss= 0.96475536\n",
            "after round 570 [0.32411173, 0.2589623, 1.655644] loss= 0.9637359\n",
            "after round 580 [0.31450298, 0.2609043, 1.6544168] loss= 0.96276116\n",
            "after round 590 [0.30516475, 0.26290363, 1.653072] loss= 0.96183175\n",
            "after round 600 [0.29611078, 0.26495194, 1.6516217] loss= 0.96095073\n",
            "after round 610 [0.2873546, 0.2670408, 1.6500765] loss= 0.96011734\n",
            "after round 620 [0.27890894, 0.26916158, 1.6484456] loss= 0.95933324\n",
            "after round 630 [0.27078557, 0.27130613, 1.6467367] loss= 0.9585992\n",
            "after round 640 [0.26299506, 0.27346632, 1.644956] loss= 0.9579154\n",
            "after round 650 [0.25554624, 0.27563462, 1.6431078] loss= 0.9572806\n",
            "after round 660 [0.2484458, 0.277804, 1.6411954] loss= 0.956694\n",
            "after round 670 [0.2416982, 0.27996805, 1.6392206] loss= 0.95615345\n",
            "after round 680 [0.23530535, 0.28212103, 1.6371831] loss= 0.9556579\n",
            "after round 690 [0.22926632, 0.28425804, 1.6350812] loss= 0.95520437\n",
            "after round 700 [0.22357734, 0.2863755, 1.6329117] loss= 0.9547896\n",
            "after round 710 [0.21823187, 0.2884708, 1.6306702] loss= 0.9544105\n",
            "after round 720 [0.21322063, 0.2905431, 1.628352] loss= 0.9540634\n",
            "after round 730 [0.20853202, 0.2925932, 1.6259528] loss= 0.95374465\n",
            "after round 740 [0.20415257, 0.29462424, 1.623471] loss= 0.95345074\n",
            "after round 750 [0.20006755, 0.29664144, 1.6209098] loss= 0.953178\n",
            "after round 760 [0.19626153, 0.29865178, 1.6182793] loss= 0.9529238\n",
            "after round 770 [0.1927189, 0.30066213, 1.6155978] loss= 0.9526862\n",
            "after round 780 [0.18942381, 0.30267686, 1.6128896] loss= 0.9524639\n",
            "after round 790 [0.18636036, 0.30469567, 1.6101828] loss= 0.9522567\n",
            "after round 800 [0.18351233, 0.3067129, 1.6075046] loss= 0.95206314\n",
            "after round 810 [0.18086368, 0.30871877, 1.6048788] loss= 0.9518838\n",
            "after round 820 [0.17839874, 0.3107017, 1.6023245] loss= 0.95171887\n",
            "after round 830 [0.17610273, 0.3126502, 1.599855] loss= 0.9515677\n",
            "after round 840 [0.17396191, 0.3145545, 1.5974797] loss= 0.9514294\n",
            "after round 850 [0.17196366, 0.31640685, 1.5952045] loss= 0.9513044\n",
            "after round 860 [0.17009644, 0.3182017, 1.5930322] loss= 0.95119\n",
            "after round 870 [0.16834973, 0.31993538, 1.5909638] loss= 0.9510867\n",
            "after round 880 [0.16671394, 0.32160598, 1.5889983] loss= 0.9509934\n",
            "after round 890 [0.1651803, 0.32321313, 1.5871335] loss= 0.9509097\n",
            "after round 900 [0.16374065, 0.3247573, 1.5853666] loss= 0.95083433\n",
            "after round 910 [0.16238756, 0.32623997, 1.583694] loss= 0.95076567\n",
            "after round 920 [0.16111417, 0.32766333, 1.5821118] loss= 0.95070523\n",
            "after round 930 [0.15991403, 0.32902998, 1.5806161] loss= 0.9506493\n",
            "after round 940 [0.15878114, 0.33034298, 1.5792022] loss= 0.950599\n",
            "after round 950 [0.15770996, 0.33160588, 1.5778664] loss= 0.95055443\n",
            "after round 960 [0.15669514, 0.33282262, 1.5766041] loss= 0.95051336\n",
            "after round 970 [0.15573166, 0.3339972, 1.5754118] loss= 0.9504761\n",
            "after round 980 [0.15481469, 0.33513418, 1.5742855] loss= 0.950442\n",
            "after round 990 [0.15393949, 0.3362388, 1.5732214] loss= 0.95041114\n",
            "Final:\n",
            "[0.15318371, 0.33721024, 1.5723146]\n"
          ],
          "name": "stdout"
        },
        {
          "output_type": "execute_result",
          "data": {
            "text/plain": [
              "[<matplotlib.lines.Line2D at 0x7fb3d5e12c50>]"
            ]
          },
          "metadata": {
            "tags": []
          },
          "execution_count": 28
        },
        {
          "output_type": "display_data",
          "data": {
            "image/png": "[encoded data removed]",
            "text/plain": [
              "<Figure size 432x288 with 1 Axes>"
            ]
          },
          "metadata": {
            "tags": []
          }
        }
      ]
    },
    {
      "cell_type": "markdown",
      "metadata": {
        "id": "cVZna9rzMChC",
        "colab_type": "text"
      },
      "source": [
        "3D + color plot of the optimization\n",
        "=="
      ]
    },
    {
      "cell_type": "code",
      "metadata": {
        "id": "OVs1yU6fLo7O",
        "colab_type": "code",
        "outputId": "7d4eb42e-a404-4df8-ed6e-3d4f1bcb7d9d",
        "colab": {
          "base_uri": "https://localhost:8080/",
          "height": 256
        }
      },
      "source": [
        "from mpl_toolkits.mplot3d import Axes3D\n",
        "fig = plt.figure()\n",
        "ax = fig.add_subplot(111, projection='3d')\n",
        "\n",
        "x = list(map(lambda p: p[0], values))\n",
        "y = list(map(lambda p: p[1], values))\n",
        "z = list(map(lambda p: p[2], values))\n",
        "c = list(map(lambda p: p[3], values))\n",
        "\n",
        "img = ax.scatter(x, y, z, c=c, cmap=plt.hot())\n",
        "fig.colorbar(img)\n",
        "plt.show()"
      ],
      "execution_count": 0,
      "outputs": [
        {
          "output_type": "display_data",
          "data": {
            "image/png": "[encoded data removed]",
            "text/plain": [
              "<Figure size 432x288 with 2 Axes>"
            ]
          },
          "metadata": {
            "tags": []
          }
        }
      ]
    },
    {
      "cell_type": "markdown",
      "metadata": {
        "id": "oCek4Tnh-HCM",
        "colab_type": "text"
      },
      "source": [
        "One training gave the result: $\\lambda_1\\approx 0.2016$, $w\\approx 0.2432$, $l\\approx 1.8975$.\n",
        "\n",
        "Looks like we are bottoming out at a cross-entropy of about 1.1 on each review. From $-\\log(x)=1.1$, we have $x=e^{-1.1}\\approx 0.33$. So that's about as much entropy as if we predicted the probability of a true event at $1/3$.\n",
        "\n",
        "Questions:\n",
        "\n",
        "* What if I let this run longer?\n",
        "* Can I do constrained optimization in Tensorflow, so that $\\lambda$ in model below is fixed to positive?\n",
        "* Would other optimizers be faster?\n",
        "\n",
        "Extension ideas:\n",
        "\n",
        "* Use softplus or exp to coerce real numbers into positives \n",
        "* Would it be useful to model per-card state?\n",
        "* Compute test-set loss on a withheld set of cards\n",
        "* Operate on batches; construct one computation graph for one card, do not throw them all into the graph.\n",
        "* Anki's SR algorithm uses the *interval*, the *card difficulty* and the *number of last successful reviews*. Would integrating the number of last successful reviews into the model help?\n",
        "* It would be nice to get a visualization of how the probabilities look for a given card, with review points.\n",
        "* It might be helpful to distinguish between \"learn\" reviews, \"relearn\" reviews and others."
      ]
    },
    {
      "cell_type": "markdown",
      "metadata": {
        "id": "JuC5QxS-fysR",
        "colab_type": "text"
      },
      "source": [
        "Basic model - the same forgetting curve starting after every revision\n",
        "==="
      ]
    },
    {
      "cell_type": "markdown",
      "metadata": {
        "id": "fPokEB70-puc",
        "colab_type": "text"
      },
      "source": [
        "This one currently does not work, and tends to somehow run into NaN's. I should fix that at some point."
      ]
    },
    {
      "cell_type": "code",
      "metadata": {
        "id": "wIk8oIoiCFf_",
        "colab_type": "code",
        "outputId": "919ee459-fb3d-4f07-f42d-0f6fdaefa892",
        "colab": {
          "base_uri": "https://localhost:8080/",
          "height": 568
        }
      },
      "source": [
        "lambda1 = tf.Variable(1.0, name=\"lambda1\", trainable=True)\n",
        "variables = [lambda1]\n",
        "\n",
        "losses = []\n",
        "probabilities = []\n",
        "\n",
        "def build_losses_for_reviews(card_reviews):\n",
        "  l = lambda1\n",
        "  for index, row in card_reviews.iterrows():\n",
        "    #print(row)\n",
        "    diff_seconds = row['diff'].total_seconds()\n",
        "    diff_days = diff_seconds / 86400.0\n",
        "    current_probability = 0.9998 * tf.exp(-l * diff_days) + 0.0001\n",
        "    probabilities.append(current_probability)\n",
        "\n",
        "    if row['correct']:\n",
        "      # we predicted probability current_probability --> if it was 1, do nothing\n",
        "      loss_bit = -tf.log(current_probability)\n",
        "      losses.append(loss_bit)\n",
        "    else:\n",
        "      loss_bit = -tf.log(1.0 - current_probability)\n",
        "      losses.append(loss_bit)\n",
        "\n",
        "for card in get_sample_card_ids(10):\n",
        "  build_losses_for_reviews(get_card_reviews(card))\n",
        "\n",
        "loss = tf.reduce_sum(losses) / len(losses)\n",
        "opt = tf.train.GradientDescentOptimizer(learning_rate=0.001)\n",
        "train_op = opt.minimize(loss, var_list=variables)\n",
        "\n",
        "with tf.Session() as sess:\n",
        "  sess.run(tf.global_variables_initializer())\n",
        "  for i in range(100):\n",
        "    loss_value = sess.run(loss)\n",
        "    if np.isnan(loss_value):\n",
        "      print('Reached NaN!')\n",
        "    sess.run(train_op)\n",
        "    if i % 10 == 0:\n",
        "      print('Probs: ', sess.run(probabilities))\n",
        "      print('Loss: ', loss_value)\n",
        "      print(\"after round\", i, sess.run(variables))\n",
        "  "
      ],
      "execution_count": 0,
      "outputs": [
        {
          "output_type": "stream",
          "text": [
            "Probs:  [0.983854, 0.9731835, 0.6304561, 0.6378329, 0.00010707023, 0.00010000005, 1e-04, 0.9870601, 0.98080695, 0.00013492166, 0.8915018, 0.80357873, 0.11786603, 0.018518459, 0.0012241048, 0.9928614, 0.9825855, 0.33358455, 0.9917703, 0.9197108, 0.83498573, 0.08052481, 0.12274151, 0.062798, 0.0043989536, 0.00038960838, 0.000100002035, 1e-04, 1e-04, 0.9921068, 0.91639555, 1e-04, 1e-04, 1e-04, 0.94125444, 0.52467954, 0.00011422679, 1e-04, 1e-04, 0.99875134, 0.9923497, 0.98533535, 0.018801449, 0.0022194902, 0.000100337245, 1e-04, 1e-04, 0.9986431, 0.69440746, 0.6172623, 0.00010000204, 1e-04, 1e-04, 0.9929457, 0.6246892, 0.00010000494, 1e-04, 1e-04, 0.9922447, 0.95966107, 0.20310037, 0.05310323, 0.000100000056, 1e-04, 1e-04, 0.9995254, 0.9995709, 0.62954056, 0.014662209, 0.00034591663, 0.00010002474, 1e-04, 1e-04, 0.85582453, 0.89602727, 0.8652565, 0.00012321361, 0.992933, 0.99084216, 0.9657137, 0.00010600637, 0.98374814, 0.98277557, 0.15442748, 0.0008701521, 0.00022042947, 0.00010003694, 1e-04, 1e-04, 1e-04, 0.99916565, 0.99204767, 0.98255646, 0.000100376885, 0.00010000003, 1e-04, 1e-04, 0.98831, 0.8771266, 0.024217416, 1e-04, 1e-04]\n",
            "Loss:  4.0319557\n",
            "after round 0 [0.9993052]\n",
            "Probs:  [0.9839651, 0.9733676, 0.6324894, 0.639838, 0.00010768054, 0.000100000056, 1e-04, 0.98714924, 0.9809391, 0.00013751545, 0.89221627, 0.8048059, 0.11963778, 0.019039303, 0.0012786803, 0.9929103, 0.98270535, 0.33615074, 0.9918269, 0.9202476, 0.83603716, 0.0819524, 0.12455136, 0.06402197, 0.004565652, 0.0004065579, 0.00010000234, 1e-04, 1e-04, 0.992161, 0.91695374, 1e-04, 1e-04, 1e-04, 0.94165164, 0.5270469, 0.0001153796, 1e-04, 1e-04, 0.9987594, 0.99240226, 0.9854363, 0.019328244, 0.0023125743, 0.00010037422, 1e-04, 1e-04, 0.9986519, 0.69617724, 0.6193445, 0.000100002355, 1e-04, 1e-04, 0.99299407, 0.6267441, 0.00010000564, 1e-04, 1e-04, 0.9922979, 0.9599363, 0.20537262, 0.054201342, 0.00010000007, 1e-04, 1e-04, 0.99952805, 0.99957323, 0.63157725, 0.01509858, 0.0003606064, 0.00010002796, 1e-04, 1e-04, 0.8567547, 0.89671355, 0.86613065, 0.00012500901, 0.99298143, 0.9909051, 0.9659482, 0.00010653229, 0.98386, 0.9828941, 0.15645386, 0.0009096781, 0.00022826108, 0.00010004163, 1e-04, 1e-04, 1e-04, 0.9991708, 0.99210227, 0.98267657, 0.000100417885, 0.00010000003, 1e-04, 1e-04, 0.98839045, 0.87792915, 0.024852784, 1e-04, 1e-04]\n",
            "Loss:  4.027094\n",
            "after round 10 [0.99232846]\n",
            "Probs:  [0.9840771, 0.97355294, 0.63454455, 0.64186454, 0.000108348744, 0.00010000007, 1e-04, 0.9872389, 0.98107207, 0.00014032371, 0.8929367, 0.8060443, 0.12144981, 0.019578962, 0.0013363472, 0.9929597, 0.98282605, 0.33875608, 0.9918839, 0.92078894, 0.83709776, 0.08341639, 0.12640184, 0.06527931, 0.004740146, 0.00042463842, 0.0001000027, 1e-04, 1e-04, 0.9922156, 0.91751635, 1e-04, 1e-04, 1e-04, 0.9420521, 0.52944297, 0.00011663557, 1e-04, 1e-04, 0.99876744, 0.9924551, 0.985538, 0.019874016, 0.0024104947, 0.00010041558, 1e-04, 1e-04, 0.99866074, 0.69796497, 0.62144935, 0.00010000271, 1e-04, 1e-04, 0.9930428, 0.6288213, 0.00010000646, 1e-04, 1e-04, 0.9923516, 0.9602137, 0.20768766, 0.055330735, 0.00010000008, 1e-04, 1e-04, 0.9995307, 0.99957556, 0.633636, 0.015551467, 0.00037629457, 0.000100031626, 1e-04, 1e-04, 0.85769284, 0.8974057, 0.8670122, 0.00012695839, 0.99303025, 0.9909686, 0.9661846, 0.00010710874, 0.9839727, 0.98301363, 0.15852241, 0.0009515539, 0.00023666673, 0.00010004696, 1e-04, 1e-04, 1e-04, 0.99917597, 0.9921573, 0.9827975, 0.00010046371, 0.000100000034, 1e-04, 1e-04, 0.9884715, 0.8787385, 0.025509862, 1e-04, 1e-04]\n",
            "Loss:  4.022158\n",
            "after round 20 [0.9852992]\n",
            "Probs:  [0.9841899, 0.9737399, 0.6366221, 0.64391303, 0.00010908081, 0.000100000085, 1e-04, 0.98732936, 0.9812062, 0.00014336582, 0.89366317, 0.80729383, 0.12330339, 0.020138264, 0.0013973047, 0.99300945, 0.9829478, 0.34140173, 0.9919413, 0.92133474, 0.83816785, 0.08491796, 0.12829417, 0.0665712, 0.0049228556, 0.00044393467, 0.000100003104, 1e-04, 1e-04, 0.9922706, 0.91808367, 1e-04, 1e-04, 1e-04, 0.9424558, 0.5318682, 0.00011800485, 1e-04, 1e-04, 0.99877554, 0.9925085, 0.9856405, 0.020439593, 0.0025135402, 0.000100461875, 1e-04, 1e-04, 0.9986696, 0.6997708, 0.62357754, 0.00010000312, 1e-04, 1e-04, 0.993092, 0.6309212, 0.0001000074, 1e-04, 1e-04, 0.9924056, 0.9604933, 0.21004666, 0.05649254, 0.00010000009, 1e-04, 1e-04, 0.99953336, 0.9995779, 0.6357171, 0.016021611, 0.00039305686, 0.00010003581, 1e-04, 1e-04, 0.8586392, 0.8981036, 0.8679014, 0.00012907624, 0.99307954, 0.9910325, 0.9664228, 0.00010774103, 0.98408633, 0.983134, 0.1606343, 0.0009959375, 0.0002456934, 0.00010005301, 1e-04, 1e-04, 1e-04, 0.99918115, 0.9922128, 0.9829194, 0.00010051496, 0.00010000004, 1e-04, 1e-04, 0.98855317, 0.8795548, 0.02618956, 1e-04, 1e-04]\n",
            "Loss:  4.017148\n",
            "after round 30 [0.9782167]\n",
            "Probs:  [0.9843036, 0.9739283, 0.6387224, 0.64598376, 0.00010988343, 0.0001000001, 1e-04, 0.9874205, 0.9813412, 0.00014666346, 0.8943958, 0.80855507, 0.12519976, 0.020718098, 0.0014617703, 0.9930595, 0.98307043, 0.3440885, 0.99199915, 0.92188495, 0.8392474, 0.08645842, 0.13022967, 0.067898884, 0.005114245, 0.0004645392, 0.000100003585, 1e-04, 1e-04, 0.9923261, 0.9186556, 1e-04, 1e-04, 1e-04, 0.94286263, 0.53432316, 0.00011949864, 1e-04, 1e-04, 0.99878377, 0.9925622, 0.9857438, 0.021025864, 0.0026220244, 0.00010051374, 1e-04, 1e-04, 0.99867857, 0.70159525, 0.6257293, 0.0001000036, 1e-04, 1e-04, 0.9931415, 0.63304424, 0.00010000848, 1e-04, 1e-04, 0.9924601, 0.9607751, 0.21245088, 0.05768797, 0.000100000114, 1e-04, 1e-04, 0.99953604, 0.99958014, 0.637821, 0.016509835, 0.0004109763, 0.00010004058, 1e-04, 1e-04, 0.85959387, 0.89880735, 0.86879826, 0.00013137865, 0.9931292, 0.9910969, 0.966663, 0.00010843505, 0.9842008, 0.98325527, 0.16279085, 0.0010430014, 0.00025539228, 0.0001000599, 1e-04, 1e-04, 1e-04, 0.99918634, 0.9922686, 0.98304224, 0.00010057233, 0.00010000005, 1e-04, 1e-04, 0.98863554, 0.88037807, 0.026892867, 1e-04, 1e-04]\n",
            "Loss:  4.01206\n",
            "after round 40 [0.97107995]\n",
            "Probs:  [0.9844183, 0.9741182, 0.64084595, 0.64807713, 0.00011076402, 0.000100000114, 1e-04, 0.9875124, 0.98147744, 0.00015024022, 0.89513475, 0.809828, 0.12714028, 0.021319363, 0.0015299724, 0.99311006, 0.983194, 0.34681734, 0.9920573, 0.9224397, 0.8403367, 0.08803901, 0.13220967, 0.06926363, 0.005314793, 0.0004865511, 0.00010000414, 1e-04, 1e-04, 0.99238193, 0.9192323, 1e-04, 1e-04, 1e-04, 0.9432729, 0.5368086, 0.000121129306, 1e-04, 1e-04, 0.99879205, 0.99261636, 0.98584795, 0.021633746, 0.0027362758, 0.0001005719, 1e-04, 1e-04, 0.9986876, 0.7034386, 0.6279052, 0.00010000416, 1e-04, 1e-04, 0.99319136, 0.63519084, 0.00010000973, 1e-04, 1e-04, 0.992515, 0.9610591, 0.21490142, 0.05891823, 0.000100000136, 1e-04, 1e-04, 0.9995387, 0.9995826, 0.6399483, 0.017016955, 0.0004301422, 0.00010004603, 1e-04, 1e-04, 0.8605569, 0.8995172, 0.869703, 0.00013388324, 0.99317914, 0.9911618, 0.9669051, 0.00010919737, 0.9843161, 0.9833775, 0.16499332, 0.0010929285, 0.0002658192, 0.00010006775, 1e-04, 1e-04, 1e-04, 0.99919164, 0.9923249, 0.983166, 0.00010063662, 0.00010000006, 1e-04, 1e-04, 0.98871845, 0.8812084, 0.027620759, 1e-04, 1e-04]\n",
            "Loss:  4.006894\n",
            "after round 50 [0.9638882]\n",
            "Probs:  [0.98453385, 0.97430944, 0.64299315, 0.65019363, 0.00011173085, 0.000100000136, 1e-04, 0.9876049, 0.98161465, 0.00015412219, 0.89588, 0.8111129, 0.12912637, 0.021943051, 0.0016021611, 0.9931609, 0.98331857, 0.34958932, 0.99211615, 0.92299914, 0.84143597, 0.0896612, 0.13423552, 0.07066678, 0.005525015, 0.00051007903, 0.000100004785, 1e-04, 1e-04, 0.99243826, 0.91981393, 1e-04, 1e-04, 1e-04, 0.9436865, 0.53932506, 0.00012291066, 1e-04, 1e-04, 0.9988004, 0.9926709, 0.9859529, 0.022264224, 0.0028566543, 0.000100637175, 1e-04, 1e-04, 0.99869674, 0.70530117, 0.6301056, 0.00010000481, 1e-04, 1e-04, 0.99324155, 0.6373616, 0.00010001118, 1e-04, 1e-04, 0.9925703, 0.9613455, 0.21739964, 0.060184646, 0.00010000016, 1e-04, 1e-04, 0.9995414, 0.999585, 0.6420992, 0.01754388, 0.00045065233, 0.00010005227, 1e-04, 1e-04, 0.86152846, 0.900233, 0.8706158, 0.00013660963, 0.9932294, 0.99122715, 0.967149, 0.00011003534, 0.98443234, 0.9835007, 0.16724306, 0.0011459189, 0.00027703505, 0.00010007671, 1e-04, 1e-04, 1e-04, 0.999197, 0.9923817, 0.9832908, 0.00010070871, 0.00010000007, 1e-04, 1e-04, 0.9888021, 0.8820461, 0.028374324, 1e-04, 1e-04]\n",
            "Loss:  4.001647\n",
            "after round 60 [0.9566406]\n",
            "Probs:  [0.9846502, 0.9745023, 0.64516443, 0.65233374, 0.00011279314, 0.000100000165, 1e-04, 0.98769826, 0.98175305, 0.00015833817, 0.8966318, 0.81240976, 0.13115942, 0.02259018, 0.0016786045, 0.99321216, 0.98344415, 0.3524055, 0.99217534, 0.92356324, 0.8425452, 0.09132635, 0.13630868, 0.07210974, 0.0057454607, 0.0005352407, 0.00010000554, 1e-04, 1e-04, 0.992495, 0.92040044, 1e-04, 1e-04, 1e-04, 0.9441035, 0.54187316, 0.00012485795, 1e-04, 1e-04, 0.9988088, 0.9927259, 0.9860586, 0.022918325, 0.0029835375, 0.00010071051, 1e-04, 1e-04, 0.998706, 0.70718324, 0.63233113, 0.00010000556, 1e-04, 1e-04, 0.9932923, 0.63955677, 0.00010001286, 1e-04, 1e-04, 0.992626, 0.96163416, 0.21994688, 0.0614886, 0.00010000019, 1e-04, 1e-04, 0.99954414, 0.99958736, 0.6442743, 0.018091543, 0.00047261282, 0.000100059406, 1e-04, 1e-04, 0.8625089, 0.9009551, 0.8715367, 0.00013957938, 0.99328023, 0.99129313, 0.96739495, 0.00011095715, 0.9845496, 0.9836249, 0.16954154, 0.0012021863, 0.00028910674, 0.00010008693, 1e-04, 1e-04, 1e-04, 0.9992024, 0.99243885, 0.9834165, 0.00010078963, 0.00010000009, 1e-04, 1e-04, 0.9888863, 0.8828912, 0.029154675, 1e-04, 1e-04]\n",
            "Loss:  3.996318\n",
            "after round 70 [0.9493361]\n",
            "Probs:  [0.9847676, 0.9746968, 0.6473603, 0.654498, 0.000113961236, 0.000100000194, 1e-04, 0.9877923, 0.9818924, 0.00016292004, 0.8973901, 0.81371915, 0.13324106, 0.02326185, 0.0017595915, 0.9932639, 0.98357075, 0.35526696, 0.992235, 0.9241323, 0.8436648, 0.09303606, 0.13843074, 0.073594, 0.005976722, 0.0005621648, 0.00010000642, 1e-04, 1e-04, 0.9925523, 0.92099196, 1e-04, 1e-04, 1e-04, 0.944524, 0.5444536, 0.00012698825, 1e-04, 1e-04, 0.9988172, 0.9927814, 0.98616517, 0.023597151, 0.003117341, 0.00010079296, 1e-04, 1e-04, 0.9987152, 0.7090854, 0.6345822, 0.00010000645, 1e-04, 1e-04, 0.99334335, 0.6417771, 0.000100014804, 1e-04, 1e-04, 0.9926823, 0.96192527, 0.22254454, 0.062831536, 0.00010000022, 1e-04, 1e-04, 0.99954695, 0.99958974, 0.6464741, 0.018660963, 0.00049613987, 0.00010006759, 1e-04, 1e-04, 0.86349815, 0.90168345, 0.87246585, 0.00014281654, 0.9933314, 0.99135965, 0.9676429, 0.00011197199, 0.9846677, 0.9837501, 0.17189023, 0.0012619648, 0.00030210734, 0.000100098616, 1e-04, 1e-04, 1e-04, 0.99920774, 0.9924965, 0.9835433, 0.00010088054, 0.00010000011, 1e-04, 1e-04, 0.9889713, 0.8837437, 0.02996302, 1e-04, 1e-04]\n",
            "Loss:  3.9909039\n",
            "after round 80 [0.9419736]\n",
            "Probs:  [0.9848859, 0.9748929, 0.64958143, 0.6566869, 0.00011524663, 0.00010000024, 1e-04, 0.9878871, 0.9820331, 0.00016790276, 0.89815515, 0.815041, 0.1353728, 0.023959193, 0.0018454314, 0.993316, 0.9836983, 0.35817486, 0.9922952, 0.92470616, 0.8447948, 0.09479189, 0.14060324, 0.07512112, 0.006219423, 0.0005909902, 0.00010000745, 1e-04, 1e-04, 0.99260986, 0.9215886, 1e-04, 1e-04, 1e-04, 0.944948, 0.5470673, 0.0001293204, 1e-04, 1e-04, 0.9988257, 0.99283725, 0.9862727, 0.024301847, 0.0032584965, 0.00010088576, 1e-04, 1e-04, 0.9987245, 0.71100795, 0.63685954, 0.000100007484, 1e-04, 1e-04, 0.9933949, 0.64402294, 0.00010001707, 1e-04, 1e-04, 0.9927389, 0.9622187, 0.22519405, 0.06421494, 0.00010000027, 1e-04, 1e-04, 0.9995497, 0.99959224, 0.6486992, 0.019253172, 0.0005213584, 0.00010007698, 1e-04, 1e-04, 0.8644965, 0.9024182, 0.8734034, 0.00014634764, 0.993383, 0.9914266, 0.96789294, 0.00011309008, 0.9847868, 0.9838763, 0.17429066, 0.0013255026, 0.00031611643, 0.000100111974, 1e-04, 1e-04, 1e-04, 0.9992132, 0.9925546, 0.98367107, 0.00010098278, 0.00010000013, 1e-04, 1e-04, 0.9890569, 0.8846039, 0.030800594, 1e-04, 1e-04]\n",
            "Loss:  3.9854028\n",
            "after round 90 [0.93455225]\n"
          ],
          "name": "stdout"
        }
      ]
    },
    {
      "cell_type": "markdown",
      "metadata": {
        "id": "pmVbHgRixgUA",
        "colab_type": "text"
      },
      "source": [
        "Modelling with a sigmoid\n",
        "==\n",
        "\n",
        "Sigmoids are easy to use with cross-entropy. Let's just train a sigmoid."
      ]
    },
    {
      "cell_type": "code",
      "metadata": {
        "id": "0EuLQEX6vG7g",
        "colab_type": "code",
        "colab": {
          "base_uri": "https://localhost:8080/",
          "height": 633
        },
        "outputId": "1fafb01f-3ffe-4180-b913-7f2f24336e60"
      },
      "source": [
        "# Train with a sigmoid\n",
        "\n",
        "w1 = tf.Variable(1.0, name=\"w1\", trainable=True)\n",
        "w2 = tf.Variable(1.0, name=\"w2\", trainable=True)\n",
        "\n",
        "win_p = tf.Variable(1.0)\n",
        "loss_p = tf.Variable(1.0)\n",
        "variables = [w1, w2]\n",
        "\n",
        "#l = lambda1\n",
        "losses = []\n",
        "probabilities = []\n",
        "\n",
        "def build_losses_for_reviews(card_reviews):\n",
        "  #l = lambda1\n",
        "  for index, row in card_reviews.iterrows():\n",
        "    #print(row)\n",
        "    diff_seconds = row['diff'].total_seconds()\n",
        "    diff_days = diff_seconds / 86400.0\n",
        "    current_probability = tf.sigmoid(w1 * diff_days + w2)\n",
        "    probabilities.append(current_probability)\n",
        "\n",
        "    is_true = (1. if row['correct'] else 0.)\n",
        "    logit = w1 * diff_days + w2\n",
        "    loss_bit = tf.nn.sigmoid_cross_entropy_with_logits(\n",
        "        labels=is_true, logits=logit)\n",
        "    losses.append(loss_bit)\n",
        "      \n",
        "from IPython.display import HTML, display\n",
        "\n",
        "def progress(value, max=100):\n",
        "    return HTML(\"\"\"\n",
        "        <progress value='{value}' max='{max}' style='width: 100%'>\n",
        "            {value}\n",
        "        </progress>\n",
        "    \"\"\".format(value=value, max=max))\n",
        "\n",
        "out = display(progress(0, num_cards), display_id=True)\n",
        "for i, card in enumerate(get_sample_card_ids(num_cards)):\n",
        "  build_losses_for_reviews(get_card_reviews(card))\n",
        "  out.update(progress(i, num_cards))\n",
        "out.update(HTML(\"Losses for reviews built.\"))\n",
        "\n",
        "loss = tf.reduce_sum(losses) / len(losses)\n",
        "# Making training rate higher than 0.01 leads to shooting out to NaNs.\n",
        "opt = tf.train.GradientDescentOptimizer(learning_rate=0.01)\n",
        "train_op = opt.minimize(loss, var_list=variables)\n",
        "\n",
        "losses = []\n",
        "values = []\n",
        "\n",
        "with tf.Session() as sess:\n",
        "  sess.run(tf.global_variables_initializer())\n",
        " \n",
        "  epoch_progress = display(progress(0, epochs), display_id=True)\n",
        "  for i in range(epochs):\n",
        "    metadata = tf.RunMetadata()\n",
        "    sess.run(train_op)\n",
        "    epoch_progress.update(progress(i, epochs))\n",
        "    vars_value = sess.run(variables)\n",
        "    loss_value = sess.run(loss)\n",
        "    if i % 10 == 0:\n",
        "      print(\"after round\", i, vars_value, \"loss=\", loss_value)\n",
        "      values.append(tuple(vars_value + [loss_value]))\n",
        "    losses.append(loss_value)\n",
        "  \n",
        "  print('Final:')\n",
        "  print(sess.run(variables))\n",
        "  print('Probs: ', sess.run(probabilities))\n",
        "#  print('Loss: ', sess.run(loss))\n",
        "\n",
        "plt.plot(range(epochs), losses)\n",
        "    "
      ],
      "execution_count": 5,
      "outputs": [
        {
          "output_type": "stream",
          "text": [
            "WARNING:tensorflow:From /usr/local/lib/python3.6/dist-packages/tensorflow/python/framework/op_def_library.py:263: colocate_with (from tensorflow.python.framework.ops) is deprecated and will be removed in a future version.\n",
            "Instructions for updating:\n",
            "Colocations handled automatically by placer.\n"
          ],
          "name": "stdout"
        },
        {
          "output_type": "display_data",
          "data": {
            "text/html": [
              "Losses for reviews built."
            ],
            "text/plain": [
              "<IPython.core.display.HTML object>"
            ]
          },
          "metadata": {
            "tags": []
          }
        },
        {
          "output_type": "display_data",
          "data": {
            "text/html": [
              "\n",
              "        <progress value='99' max='100' style='width: 100%'>\n",
              "            99\n",
              "        </progress>\n",
              "    "
            ],
            "text/plain": [
              "<IPython.core.display.HTML object>"
            ]
          },
          "metadata": {
            "tags": []
          }
        },
        {
          "output_type": "stream",
          "text": [
            "after round 0 [0.97386366, 0.9992516] loss= 2.887261\n",
            "after round 10 [0.7129986, 0.99208707] loss= 2.2063851\n",
            "after round 20 [0.45382974, 0.9857154] loss= 1.5346456\n",
            "after round 30 [0.19993445, 0.98081523] loss= 0.89105326\n",
            "after round 40 [0.010712449, 0.9804982] loss= 0.48800626\n",
            "after round 50 [0.010500899, 0.9853552] loss= 0.48773926\n",
            "after round 60 [0.010407459, 0.99014074] loss= 0.48750296\n",
            "after round 70 [0.010395239, 0.99485433] loss= 0.48728812\n",
            "after round 80 [0.010456378, 0.9994962] loss= 0.48709473\n",
            "after round 90 [0.010592605, 1.0040665] loss= 0.4869274\n",
            "Final:\n",
            "[0.008031276, 1.0080882]\n",
            "Probs:  [0.7326713, 0.7326884, 0.7333713, 0.7333531, 0.75089675, 0.76826787, 0.80520654, 0.7326662, 0.7326762, 0.7484879, 0.7328265, 0.73298985, 0.73599935, 0.7388865, 0.74319917, 0.73265696, 0.73267335, 0.7343707, 0.7326587, 0.7327774, 0.7329295, 0.7365945, 0.73593605, 0.7369826, 0.7411362, 0.7452738, 0.7629491, 0.7838796, 0.8129142, 0.7326582, 0.73278314, 0.7839135, 0.86823833, 0.92638195, 0.732741, 0.7336599, 0.74984413, 0.7881385, 0.88518053, 0.7326477, 0.7326578, 0.73266894, 0.7388628, 0.74222517, 0.755443, 0.7878464, 0.8529248, 0.73264784, 0.7332195, 0.73340464, 0.76294154, 0.81907517, 0.8713001, 0.73265684, 0.73338586, 0.76165867, 0.831278, 0.9274666, 0.7326579, 0.73271054, 0.7351482, 0.7372442, 0.7680574, 0.789503, 0.86354464, 0.7326464, 0.73264635, 0.73337364, 0.73925054, 0.7455233, 0.75930065, 0.79601145, 0.857245, 0.7328907, 0.73281854, 0.7328735, 0.7491053, 0.73265684, 0.7326602, 0.7327006, 0.75114185, 0.7326715, 0.73267305, 0.735577, 0.7437787, 0.7466103, 0.7587116, 0.7781054, 0.8016735, 0.81040746, 0.73264706, 0.7326583, 0.7326734, 0.7552778, 0.7691754, 0.8788868, 0.940904, 0.7326642, 0.73285204, 0.7384682, 0.80758095, 0.9627788, 0.7326496, 0.7326478, 0.7326473, 0.7326472, 0.73264754, 0.73264724, 0.73265445, 0.73264986, 0.7326492, 0.7326475, 0.73264927, 0.7326473, 0.7326473, 0.7326868, 0.7326721, 0.73266846, 0.73265356, 0.7326504, 0.73264724, 0.7326514, 0.7326489, 0.73264885, 0.73264796, 0.7326606, 0.73264843, 0.73264736, 0.7326609, 0.73264754, 0.73265475, 0.7326509, 0.732649, 0.732661, 0.73265415, 0.73265064, 0.73264873, 0.73265004, 0.7326481, 0.7326472, 0.7326627, 0.73267245, 0.7372708, 0.733267, 0.7327112, 0.73612475, 0.7329286, 0.74205726, 0.74831176, 0.79181796, 0.8687779, 0.73267764, 0.7327058, 0.7948355, 0.7326641, 0.732674, 0.73748404, 0.7525763, 0.75557935, 0.96030325, 0.7326743, 0.73272187, 0.73977596, 0.74669, 0.75223106, 0.767902, 0.79312074, 0.88205755, 0.7326473, 0.7327531, 0.73265064, 0.73264766, 0.73265874, 0.73319745, 0.74318826, 0.73292285, 0.73297083, 0.7327505, 0.733121, 0.732657, 0.7342169, 0.73285085, 0.7326954, 0.73353153, 0.73923045, 0.7326573, 0.7326608, 0.7326735, 0.7326741, 0.7357877, 0.73530495, 0.74088126, 0.7495334, 0.760033, 0.7326571, 0.73294866, 0.73506093, 0.73656607, 0.73953545, 0.74337107, 0.73267406, 0.73265713, 0.7327976, 0.7335341, 0.7383238, 0.7326588, 0.7327169, 0.73265874, 0.73303974, 0.73265934, 0.7330805, 0.73496187, 0.7346623, 0.74148494, 0.7436423, 0.74197096, 0.74197227, 0.7410766, 0.7426322, 0.7422784, 0.74494183, 0.74478984, 0.74615055, 0.7515942, 0.75429296, 0.75261, 0.7327156, 0.73267066, 0.7333122, 0.74065936, 0.7423283, 0.7355244, 0.74612653, 0.7393433, 0.7607888, 0.76037484, 0.79459053, 0.732659, 0.7381914, 0.749962, 0.73282087, 0.7332862, 0.73572874, 0.73489493, 0.7330496, 0.7326679, 0.7326675, 0.7326775, 0.74501705, 0.75327426, 0.7326597, 0.7326835, 0.7498389, 0.7539969, 0.7656845, 0.73270726, 0.7326692, 0.7379073, 0.7384856, 0.73265684, 0.73266995, 0.73393524, 0.73809516, 0.7390099, 0.74395925, 0.7529919, 0.7326569, 0.732674, 0.73480177, 0.7370569, 0.7370846, 0.7382516, 0.7421009, 0.74612373, 0.7585261, 0.7736778, 0.8023859, 0.73994064, 0.7577856, 0.779117, 0.8621563, 0.73266274, 0.73813915, 0.7863703, 0.82627517, 0.9149779, 0.9822227, 0.73265, 0.732658, 0.7326702, 0.740627, 0.7706068, 0.733215, 0.7326768, 0.7436466, 0.73280317, 0.73267525, 0.7410577, 0.73301494, 0.73290616, 0.736397, 0.7487164, 0.8638039, 0.97517043, 0.732682, 0.7326753, 0.7337907, 0.7371756, 0.7448541, 0.7383474, 0.7326573, 0.73267317, 0.7343107, 0.7327287, 0.73529685, 0.74088025, 0.7330757, 0.7326789, 0.76733583, 0.87800777, 0.9235482, 0.7333836, 0.7332585, 0.74507827, 0.78112054, 0.85028446, 0.92427623, 0.732674, 0.7326966, 0.733091, 0.74825716, 0.7513869, 0.76060313, 0.7945899, 0.8568465, 0.73264843, 0.7400612, 0.7525787, 0.7326459, 0.73272717, 0.7338384, 0.73878616, 0.7500729, 0.76668155, 0.8973332, 0.90780985, 0.9244675, 0.73265165, 0.732659, 0.7326712, 0.7364815, 0.7327637, 0.73343813, 0.9946273, 0.7326471, 0.7399419, 0.7479247, 0.771336, 0.8340258, 0.7349128, 0.73352665, 0.75996864, 0.8351362, 0.73269504, 0.7330959, 0.7430847, 0.7607818, 0.76221776, 0.7900944, 0.83021057, 0.9261004, 0.7326472, 0.73266095, 0.7327365, 0.7683697, 0.8850558, 0.9305403, 0.73431826, 0.7357505, 0.8824922, 0.7326583, 0.7326907, 0.7463496, 0.7572376, 0.79892707, 0.85872006, 0.73265386, 0.7326663, 0.73267055, 0.74141407, 0.7326596, 0.73267144, 0.73288435, 0.7541482, 0.7326668, 0.73265964, 0.73272616, 0.7373694, 0.740842, 0.74171287, 0.7326585, 0.73414123, 0.7461235, 0.8874613, 0.7326601, 0.7329205, 0.7332383, 0.7358036, 0.74085563, 0.7796064, 0.9679231, 0.8789441, 0.73265684, 0.73273045, 0.7326834, 0.7670938, 0.73265857, 0.7326929, 0.7326725, 0.7327283, 0.7355614, 0.7358566, 0.7372149, 0.73819727, 0.7435085, 0.7518478, 0.7606337, 0.77227294, 0.7785166, 0.73264736, 0.7326473, 0.7326493, 0.732652, 0.73268193, 0.73326296, 0.7326481, 0.7326473, 0.7326471, 0.73264754, 0.7326479, 0.7326472, 0.7326475, 0.7326475, 0.73265046, 0.73264754, 0.7326601, 0.73264706, 0.7326573, 0.7331884, 0.7355534, 0.73265845, 0.7326692, 0.7360646, 0.7326588, 0.7334289, 0.7368049, 0.73266685, 0.73267406, 0.7373451, 0.7434213, 0.7326587, 0.7340327, 0.73390245, 0.73745644, 0.74290156, 0.74550754, 0.7332675, 0.73921794, 0.74204725, 0.7517869, 0.76064104, 0.7855437, 0.7328448, 0.73284644, 0.7426436, 0.7549127, 0.7710533, 0.7328182, 0.7333507, 0.78072983, 0.86598915, 0.9188806, 0.7341909, 0.7546356, 0.73264813, 0.73264736, 0.73276764, 0.7327017, 0.73264915, 0.73342043, 0.73281056, 0.73267007, 0.7359203, 0.7326569, 0.73268175, 0.7326587, 0.7326619, 0.7326771, 0.7369086, 0.732687, 0.7328068, 0.7350531, 0.7396885, 0.7387581, 0.73265743, 0.73265827, 0.7326726, 0.73276514, 0.7330363, 0.73359233, 0.7359024, 0.73973083, 0.74087423, 0.74306977, 0.74501777, 0.7326583, 0.7326748, 0.73676586, 0.732657, 0.73273385, 0.73267996, 0.7369148, 0.74131644, 0.7404725, 0.743927, 0.73265827, 0.73295563, 0.737733, 0.73560005, 0.73990613, 0.74411166, 0.7466772, 0.7469173, 0.75222975, 0.75174296, 0.75790775, 0.7536015, 0.7387789, 0.75241446, 0.7800956, 0.8399386, 0.9385892, 0.9552129, 0.7326474, 0.73337007, 0.73269695, 0.7344745, 0.73919654, 0.7438712, 0.7340444, 0.73268235, 0.73275805, 0.73313373, 0.73807037, 0.77214307, 0.8794147, 0.92404836, 0.99038994, 0.7331677, 0.73268473, 0.75331956, 0.8111293, 0.8690013, 0.7326664, 0.7326684, 0.7587573, 0.8373621, 0.92811924, 0.74166715, 0.75548637, 0.7326599, 0.73293406, 0.7689857, 0.8851297, 0.9313313, 0.73298204, 0.732648, 0.73265857, 0.7326682, 0.74637866, 0.7326569, 0.73288125, 0.7326595, 0.7326709, 0.73812586, 0.7760139, 0.73266053, 0.732658, 0.7333635, 0.8477612, 0.8818825, 0.94874525, 0.733447, 0.732732, 0.74123734, 0.75077856, 0.7857016, 0.8864107, 0.9737213, 0.7326542, 0.73265857, 0.73284394, 0.7351599, 0.73718095, 0.74334186, 0.7422383, 0.7598631, 0.7821426, 0.8695867, 0.94971776, 0.73267454, 0.7326925, 0.73308104, 0.7329928, 0.74806035, 0.7326569, 0.73265886, 0.7326714, 0.74047893, 0.7509696, 0.7621678, 0.7961881, 0.7326595, 0.7327858, 0.73599565, 0.7331286, 0.7388848, 0.7326635, 0.73266256, 0.73305243, 0.73376405, 0.73580647, 0.73891795, 0.74198437, 0.7581542, 0.73266715, 0.73267674, 0.73720145, 0.7326642, 0.73268497, 0.7326579, 0.73267454, 0.7332058, 0.7383137, 0.73328173, 0.7382163, 0.73266435, 0.7335261, 0.7353142, 0.740014, 0.738163, 0.7386189, 0.7429029, 0.74826485, 0.74941546, 0.7549706, 0.75623524, 0.7326617, 0.73269486, 0.7333866, 0.74042785, 0.7366087, 0.7396324, 0.74203354, 0.737637, 0.7326586, 0.73280567, 0.73369116, 0.73888075, 0.73265, 0.7340447, 0.7359098, 0.7326861, 0.73264825, 0.73703706, 0.776131, 0.88570887, 0.9412572, 0.73265874, 0.7333253, 0.7342027, 0.737237, 0.74517864, 0.77298343, 0.8835978, 0.98261845, 0.7326475, 0.7326599, 0.7326636, 0.74519527, 0.73265696, 0.7326707, 0.73855484, 0.7626968, 0.8573262, 0.8935372, 0.927287, 0.92312664, 0.7361284, 0.74030757, 0.75276864, 0.7784774, 0.89470166, 0.9795511, 0.73267084, 0.7341402, 0.7709653, 0.8857026, 0.93474686, 0.7329011, 0.7326597, 0.7341679, 0.73742414, 0.74159604, 0.7519752, 0.77769536, 0.84329605, 0.7475839, 0.7754468, 0.83060807, 0.92507625, 0.9922545, 0.740855, 0.75928736, 0.9966702, 0.7326477, 0.7327251, 0.73293585, 0.7404523, 0.99451643, 0.7340026, 0.73280954, 0.7386857, 0.7508988, 0.78753775, 0.8368937, 0.73268604, 0.73343915, 0.7334843, 0.7660404, 0.88067174, 0.8233667, 0.90486073, 0.9777264, 0.7326474, 0.732658, 0.73290694, 0.7390731, 0.7525587, 0.76551634, 0.8049413, 0.8825168, 0.74198765, 0.76017576, 0.8003523, 0.73265946, 0.73268235, 0.7414569, 0.75046235, 0.78542554, 0.8858446, 0.98762065, 0.73296356, 0.7326803, 0.7326809, 0.733749, 0.7344504, 0.73898256, 0.74652624, 0.7338226, 0.762812, 0.8160016, 0.92688525, 0.7329946, 0.73294336, 0.8358542, 0.92887205, 0.739551, 0.75557023, 0.80443853, 0.73308843, 0.7326882, 0.73266, 0.73329955, 0.73515385, 0.7414501, 0.7751182, 0.7702035, 0.86458826, 0.90004784, 0.97447556, 0.7395873, 0.7451011, 0.7707852, 0.83179307, 0.74766177, 0.7840133, 0.94708365, 0.7326471, 0.73279446, 0.7329567, 0.7342906, 0.73683983, 0.73918694, 0.7370204, 0.7396393, 0.7520031, 0.7326635, 0.7327635, 0.73484945, 0.7364249, 0.73872125, 0.73779964, 0.75826085, 0.75139, 0.75804293, 0.7600988, 0.7637883, 0.76710194, 0.732762, 0.732681, 0.7327576, 0.73275673, 0.73651975, 0.74243116, 0.75585455, 0.78013855, 0.81483173, 0.733205, 0.73264724, 0.7326512, 0.73264706, 0.73265743, 0.73322004, 0.7326695, 0.73264843, 0.7335742, 0.73267055, 0.7352575, 0.7369829, 0.7402867, 0.73266095, 0.73265743, 0.7344047, 0.7381518, 0.73264873, 0.7326533, 0.73267007, 0.73573357, 0.7390452, 0.74490786, 0.761625, 0.7326579, 0.7326729, 0.73817414, 0.74014837, 0.74724084, 0.77728724, 0.8693122, 0.9389081, 0.7326477, 0.73303473, 0.73265785, 0.735443, 0.7339166, 0.7344749, 0.7433296, 0.73279345, 0.73461396, 0.73645514, 0.7407956, 0.75239956, 0.73266196, 0.73266196, 0.7451968, 0.78156614, 0.8497918, 0.9196997, 0.9898392, 0.7332213, 0.732691, 0.7685439, 0.7326597, 0.7326727, 0.7399418, 0.7450953, 0.75655574, 0.86394954, 0.8934532, 0.93941134, 0.7380432, 0.7430523, 0.7326501, 0.73264897, 0.7326577, 0.7327966, 0.7364272, 0.7436679, 0.7482052, 0.7326576, 0.73269886, 0.73506325, 0.7408045, 0.7465551, 0.7622921, 0.80305207, 0.8615132, 0.73265904, 0.73281807, 0.735151, 0.766494, 0.7326474, 0.7326599, 0.73267925, 0.7361118, 0.7358414, 0.73866874, 0.7441239, 0.7757985, 0.8274214, 0.73265713, 0.7326818, 0.74933624, 0.7326626, 0.7326595, 0.73267126, 0.7340065, 0.7355255, 0.7403311, 0.74827254, 0.7326617, 0.73273224, 0.73367, 0.7457931, 0.7568759, 0.78423184, 0.8481216, 0.7326473, 0.73266256, 0.7326843, 0.7509214, 0.7439588, 0.7800408, 0.88589865, 0.9399031, 0.7326491, 0.73268116, 0.73289144, 0.73725724, 0.7438129, 0.73297447, 0.73273814, 0.73275405, 0.73266613, 0.73267764, 0.7326658, 0.73270863, 0.7327385, 0.732713, 0.73314285, 0.73273313, 0.7332279, 0.73269135, 0.80191606, 0.7326573, 0.733303, 0.7607423, 0.7326663, 0.7326576, 0.7372316, 0.7326812, 0.73267114, 0.73335826, 0.7326772, 0.87616676, 0.73266685, 0.73272574, 0.74023485, 0.73269796, 0.732657, 0.7355336, 0.89328873, 0.86934984, 0.90921986, 0.73809767, 0.75953484, 0.78331995, 0.8968124, 0.99624723, 0.7326618, 0.73289365, 0.7838098, 0.86662513, 0.8971943, 0.97610474, 0.7327036, 0.73321813, 0.75088036, 0.8106567, 0.8264989, 0.8938956, 0.9718768, 0.7327392, 0.7327035, 0.7639882, 0.8822781, 0.98926777, 0.7326771, 0.7335173, 0.7336596, 0.742265, 0.7520311, 0.77773315, 0.84169614, 0.9347179, 0.9462157, 0.7326477, 0.7326592, 0.73294044, 0.7331962, 0.7326592, 0.7334763, 0.7660323, 0.7700075, 0.8582557, 0.89501214, 0.92757285, 0.9252946, 0.73973835, 0.75749314, 0.7848528, 0.8931119, 0.8881488, 0.97767776, 0.7326493, 0.7326583, 0.7326687, 0.734066, 0.7419262, 0.75200874, 0.7751133, 0.7326472, 0.7326655, 0.7326729, 0.7458771, 0.7326649, 0.7326729, 0.7442828, 0.85784, 0.9042046, 0.97343737, 0.7326588, 0.7337903, 0.7393103, 0.7340003, 0.737708, 0.7426529, 0.7567216, 0.78370696, 0.89859396, 0.9794774, 0.7525425, 0.80015665, 0.9031005, 0.7326472, 0.7326588, 0.73267, 0.76270735, 0.8724142, 0.73265684, 0.73300993, 0.758353, 0.7921454, 0.85532033, 0.9293848, 0.73893285, 0.7329828, 0.7326727, 0.7463873, 0.805676, 0.8383038, 0.8858561, 0.73265684, 0.7326734, 0.7597885, 0.79539794, 0.888526, 0.946794, 0.7326519, 0.7326655, 0.7328776, 0.7326915, 0.73651445, 0.7331491, 0.732677, 0.7334333, 0.7352954, 0.73891187, 0.7455322, 0.75927824, 0.7957996, 0.73264724, 0.7326619, 0.73267174, 0.7453334, 0.7326569, 0.7326734, 0.7442533, 0.7745442, 0.8447938, 0.8816415, 0.9416055, 0.75154716, 0.7326608, 0.73268807, 0.74465114, 0.74769133, 0.7516573, 0.77007806, 0.8097013, 0.87051207, 0.73317426, 0.74683696, 0.75247335, 0.7326981, 0.7334011, 0.7326616, 0.7326467, 0.7326471, 0.73264605, 0.7326461, 0.732699, 0.9231537, 0.7326569, 0.7339035, 0.7329348, 0.73345447, 0.73271614, 0.73289007, 0.7336324, 0.74084795, 0.81412286, 0.9618242, 0.89724374, 0.7326542, 0.7328195, 0.73266274, 0.73267233, 0.73523116, 0.73567617, 0.7336895, 0.73792815, 0.746579, 0.73275983, 0.73338795, 0.7414144, 0.7742953, 0.7582963, 0.8777385, 0.9240747, 0.9889473, 0.73311484, 0.7331469, 0.7352884, 0.735126, 0.7424544, 0.7497653, 0.754578, 0.73265696, 0.73266983, 0.7382954, 0.7701142, 0.75409967, 0.8020297, 0.73265857, 0.7340018, 0.82941943, 0.7997606, 0.8512704, 0.9248016, 0.92453253, 0.7400879, 0.76017404, 0.7976267, 0.73878735, 0.7399208, 0.75034076, 0.73752135, 0.7552495, 0.8125367, 0.81607556, 0.73735243, 0.74294823, 0.77144796, 0.73267007, 0.7326744, 0.7450114, 0.79817533, 0.83676463, 0.92571867, 0.7335851, 0.7331091, 0.751184, 0.78597647, 0.8860143, 0.97384745, 0.7326489, 0.73264796, 0.7326679, 0.73265034, 0.73265976, 0.73265946, 0.7326612, 0.7326821, 0.7326997, 0.73267263, 0.73266834, 0.73269016, 0.73266995, 0.73268527, 0.73268044, 0.7326539, 0.7328506, 0.7326508, 0.73264796, 0.73265153, 0.7327294, 0.7326496, 0.73408234, 0.7380339, 0.7464766, 0.76579285, 0.816671, 0.90287656, 0.98148566, 0.7331199, 0.73390627, 0.73278964, 0.7409741, 0.744204, 0.7593112, 0.79342717, 0.87192184, 0.73264754, 0.73264885, 0.7326605, 0.7327308, 0.7350765, 0.7367918, 0.74242556, 0.74295133, 0.7474354, 0.7590863, 0.7332171, 0.7335471, 0.7355851, 0.73421454, 0.7333364, 0.7359467, 0.7354424, 0.7380401, 0.73852223, 0.7438093, 0.7326609, 0.7328691, 0.7332023, 0.73994875, 0.7433877, 0.74850434, 0.75172424, 0.7577045, 0.7538707, 0.7326472, 0.7331744, 0.732693, 0.75086987, 0.8042772, 0.83308494, 0.85978276, 0.8726349, 0.954266, 0.7326578, 0.73267055, 0.7334006, 0.7429111, 0.7420232, 0.75329995, 0.7799276, 0.82831055, 0.7326472, 0.73272014, 0.7331054, 0.7355114, 0.73384506, 0.734659, 0.73265857, 0.7339704, 0.7671708, 0.8850764, 0.98934853, 0.73264724, 0.7326473, 0.7326496, 0.7328562, 0.73267215, 0.7328139, 0.7330147, 0.73264915, 0.73264855, 0.73265004, 0.7326482, 0.7328109, 0.73344094, 0.7326643, 0.7326478, 0.7330613, 0.73272616, 0.7326592, 0.7326889, 0.7342452, 0.7383511, 0.73355055, 0.73397887, 0.73265904, 0.73315096, 0.7828952, 0.86750764, 0.9207976, 0.989666, 0.73266333, 0.7328977, 0.7354169, 0.7421136, 0.7326472, 0.7326591, 0.74083894, 0.73265976, 0.73355323, 0.73753875, 0.7400172, 0.7482313, 0.7398445, 0.74509984, 0.7542836, 0.78883094, 0.85048866, 0.7326578, 0.73266906, 0.7366817, 0.7754339, 0.8857868, 0.9503149, 0.7326591, 0.7326703, 0.73942226, 0.7716645, 0.8792631, 0.9321212, 0.73286545, 0.73269403, 0.7326477, 0.73285186, 0.73288035, 0.7326592, 0.73265386, 0.73299533, 0.73265773, 0.7326794, 0.7326473, 0.73719484, 0.73269516, 0.7388753, 0.7476263, 0.7326591, 0.7326731, 0.7339612, 0.7440005, 0.7519807, 0.743386, 0.75490075, 0.7701969, 0.7326588, 0.73268086, 0.7449211, 0.7399853, 0.77136064, 0.75352925, 0.7797177, 0.8485777, 0.7997782, 0.8516522, 0.92723197, 0.73265857, 0.7326985, 0.7700955, 0.7869294, 0.80736405, 0.85853255, 0.73264724, 0.73270684, 0.7337537, 0.73714924, 0.7401424, 0.7481984, 0.7385511, 0.7499911, 0.7760012, 0.8310343, 0.73267585, 0.7326755, 0.7510133, 0.7636917, 0.7326702, 0.73315775, 0.7419933, 0.74545646, 0.7647192, 0.80960286, 0.875231, 0.73264706, 0.73266053, 0.7328101, 0.78133994, 0.8656439, 0.9219028, 0.73268116, 0.732679, 0.7342351, 0.73572516, 0.7383552, 0.7556966, 0.73266095, 0.73265743, 0.73325634, 0.732664, 0.7351893, 0.7368396, 0.7428842, 0.75897914, 0.73265696, 0.7326952, 0.7377946, 0.7387719, 0.82025963, 0.9617958, 0.7326924, 0.7328955, 0.764865, 0.732734, 0.73267084, 0.7465975, 0.77101606, 0.8633597, 0.9104633, 0.98090774, 0.73264796, 0.7326474, 0.73264766, 0.7326473, 0.73264784, 0.73264825, 0.73266536, 0.73264915, 0.7326604, 0.73405266, 0.732687, 0.73388, 0.7391942, 0.7326938, 0.7326583, 0.73416936, 0.7383981, 0.74368644, 0.74885225, 0.76988554, 0.73266095, 0.7326761, 0.7326578, 0.73268646, 0.73735726, 0.9109239, 0.732664, 0.7333549, 0.73561823, 0.9811597, 0.73425543, 0.73484766, 0.7326472, 0.73265964, 0.73382723, 0.7434046, 0.74017054, 0.744117, 0.7463531, 0.74812824, 0.7574546, 0.78598005, 0.81880844, 0.80911064, 0.82097906, 0.82310176, 0.83955836, 0.7326472, 0.74075127, 0.7594277, 0.813378, 0.93025357, 0.9894605, 0.7327054, 0.7326705, 0.7336361, 0.7471301, 0.75371104, 0.7834866, 0.8480824, 0.7326617, 0.7339635, 0.73295075, 0.73772377, 0.7376106, 0.7379518, 0.73708045, 0.74004614, 0.75482506, 0.7692909, 0.782019, 0.7930344, 0.7509059, 0.7883661, 0.8741479, 0.73264724, 0.73265743, 0.73267305, 0.7675718, 0.7326601, 0.73275465, 0.7551044, 0.86780685, 0.9003415, 0.97831374, 0.7341993, 0.77344704, 0.73264736, 0.7326487, 0.7326529, 0.7326475, 0.7327709, 0.7326525, 0.7326474, 0.73265934, 0.7326478, 0.7326472, 0.73264736, 0.7326473, 0.7326473, 0.7326588, 0.73266953, 0.7326473, 0.7326573, 0.73267365, 0.7352781, 0.73883706, 0.7326569, 0.7326541, 0.73264647, 0.73264694, 0.73423624, 0.73265713, 0.7327514, 0.73266995, 0.73384047, 0.7371991, 0.73265976, 0.7326705, 0.7360337, 0.73932093, 0.7423972, 0.73315185, 0.732923, 0.73342675, 0.7418965, 0.74962705, 0.7529086, 0.7666299, 0.7864323, 0.7326663, 0.73267347, 0.73265964, 0.7327564, 0.73266375, 0.73342276, 0.7326576, 0.7327391, 0.7429289, 0.73265827, 0.7326697, 0.73430955, 0.7349513, 0.739285, 0.73749954, 0.7421878, 0.74261165, 0.7346525, 0.74449646, 0.73264766, 0.7326673, 0.7326726, 0.7383648, 0.7381888, 0.74736273, 0.76361066, 0.83804387, 0.9017159, 0.9646453, 0.9580143, 0.7334588, 0.7331067, 0.7326743, 0.73265755, 0.7327445, 0.7526747, 0.8801046, 0.9399412, 0.7326531, 0.7335154, 0.7331285, 0.73266035, 0.73265696, 0.7326838, 0.738612, 0.73266435, 0.7327942, 0.7479955, 0.75246876, 0.73265743, 0.73265755, 0.73353887, 0.7327264, 0.7326583, 0.7330574, 0.7337867, 0.7434956, 0.7548649, 0.7701405, 0.7996328, 0.7335393, 0.7326569, 0.7327138, 0.736205, 0.7359416, 0.73608816, 0.73265713, 0.73267686, 0.7341536, 0.73885775, 0.7420005, 0.7515908, 0.7625074, 0.7914335, 0.7326501, 0.7326471, 0.73265135, 0.73264843, 0.7326473, 0.7326471, 0.73265934, 0.7326477, 0.7326595, 0.7327217, 0.7450758, 0.7326569, 0.73265857, 0.73265743, 0.73265934, 0.888469, 0.7332121, 0.7326608, 0.73267263, 0.7344574, 0.76840645, 0.7487612, 0.75119, 0.7555738, 0.82159835, 0.83693993, 0.8905485, 0.9078009, 0.73925906, 0.758527, 0.81111985, 0.9496082, 0.7326492, 0.7328897, 0.73478806, 0.73758465, 0.74119616, 0.7551495, 0.7787714, 0.73283035, 0.7803109, 0.8311306, 0.73267436, 0.7326733, 0.7348299, 0.7356053, 0.74271643, 0.7686201, 0.8269168, 0.7326486, 0.7371098, 0.73590624, 0.7326594, 0.74586016, 0.90494347, 0.7326702, 0.7326682, 0.73295, 0.74032, 0.7326576, 0.7327051, 0.73266214, 0.7326753, 0.7361829, 0.74222714, 0.7549989, 0.7430181, 0.7606682, 0.76214594, 0.76374525, 0.76671416, 0.7735315, 0.7853271, 0.79525685, 0.80850625, 0.73264724, 0.7326515, 0.7326597, 0.73267645, 0.73627347, 0.7432525, 0.7326594, 0.73266476, 0.7334174, 0.7368015, 0.7431665, 0.73267585, 0.73265827, 0.7326628, 0.732658, 0.732663, 0.732658, 0.7335684, 0.732687, 0.73266995, 0.7355707, 0.7382118, 0.7412958, 0.75124365, 0.7605051, 0.7759464, 0.73265696, 0.7326571, 0.73299, 0.74118054, 0.73266023, 0.73269904, 0.7335978, 0.73561543, 0.7412576, 0.7449719, 0.74513215, 0.7479843, 0.7563203, 0.7729241, 0.73265266, 0.7326472, 0.73265797, 0.7326503, 0.73318154, 0.7326624, 0.7326702, 0.73265696, 0.73265135, 0.7326478, 0.7326661, 0.7329333, 0.7326471, 0.73269165, 0.73339313, 0.7326773, 0.7326726, 0.74130625, 0.7560628, 0.7850328, 0.8329071, 0.8908045, 0.73264724, 0.7326932, 0.7327121, 0.73266536, 0.73267525, 0.7498885, 0.7326573, 0.7326731, 0.7626513, 0.7326583, 0.7408852, 0.7326595, 0.73281515, 0.7372265, 0.74882567, 0.8612362, 0.7326594, 0.7363185, 0.73279655, 0.73267734, 0.7448888, 0.7326584, 0.73266876, 0.73338366, 0.7377774, 0.7400952, 0.73265964, 0.73270917, 0.7342494, 0.7615506, 0.75755364, 0.75437367, 0.7642104, 0.8124404, 0.8055137, 0.89032686, 0.8606995, 0.8866348, 0.73644507, 0.7326571, 0.7326688, 0.74143904, 0.7484118, 0.75206995, 0.7458599, 0.7420311, 0.75178945, 0.7350761, 0.7390136, 0.7545942, 0.7914064, 0.8278809, 0.7326588, 0.7326819, 0.7498564, 0.8123647, 0.8670717, 0.9657155, 0.7326473, 0.73265713, 0.7332675, 0.7404296, 0.7549954, 0.79320794, 0.88187885, 0.97366387, 0.7326619, 0.7326752, 0.8073376, 0.8820412, 0.91630286, 0.7374051, 0.73857754, 0.7441979, 0.7765816, 0.86207694, 0.7326498, 0.741993, 0.75267786, 0.77835256, 0.9184842, 0.896509, 0.97134686, 0.7326612, 0.7343254, 0.7359884, 0.7407395, 0.7417416, 0.7665141, 0.73332775, 0.7326692, 0.7361164, 0.7390567, 0.742893, 0.75413424, 0.82476014, 0.93365604, 0.7326479, 0.7333105, 0.73336136, 0.7460704, 0.73276174, 0.7326596, 0.7326585, 0.73266894, 0.7602728, 0.7497629, 0.7333589, 0.733249, 0.73763496, 0.74514866, 0.7503618, 0.7759621, 0.74373144, 0.7665397, 0.74378854, 0.7504857, 0.7340164, 0.9244339, 0.73265386, 0.73264796, 0.7347041, 0.7400895, 0.7463651, 0.7434643, 0.732858, 0.73379296, 0.7338191, 0.74047, 0.7483561, 0.7503658, 0.7533578, 0.7529573, 0.73266214, 0.73270696, 0.7360977, 0.7401276, 0.7411858, 0.73978025, 0.7438165, 0.7431652, 0.7586675, 0.7511284, 0.75908095, 0.77257246, 0.78421813, 0.7966285, 0.7378087, 0.7430039, 0.7677315, 0.8449696, 0.96011275, 0.7388182, 0.7528055, 0.80129415, 0.7326573, 0.7449245, 0.76911575, 0.84387356, 0.9635993, 0.73265004, 0.73863274, 0.74502623, 0.73265713, 0.73267007, 0.76292807, 0.8722725, 0.9234935, 0.7356345, 0.7346321, 0.7338406, 0.7326471, 0.7326472, 0.7326472, 0.73264915, 0.7326474, 0.7326478, 0.73264736, 0.7326473, 0.7326474, 0.7326493, 0.7326472, 0.7326472, 0.7326472, 0.7326473, 0.7326473, 0.7326475, 0.7326471, 0.7337504, 0.7329198, 0.73264843, 0.7326493, 0.73264873, 0.7326635, 0.7326478, 0.73264766, 0.73287445, 0.73266107, 0.73264873, 0.73264855, 0.7334324, 0.7327369, 0.7365318, 0.7386148, 0.74542254, 0.73265743, 0.7326568, 0.73410094, 0.73352504, 0.737165, 0.73265696, 0.7327248, 0.73589534, 0.7365993, 0.73654383, 0.7361494, 0.7359851, 0.7360763, 0.7442656, 0.75224626, 0.7326591, 0.73269343, 0.7326726, 0.73649335, 0.7370423, 0.743504, 0.7486878, 0.7654426, 0.7866272, 0.732654, 0.73325276, 0.7326813, 0.75187063, 0.7374239, 0.76204437, 0.8150474, 0.8847818, 0.96575034, 0.7332963, 0.7327398, 0.73332566, 0.73267347, 0.7326726, 0.8041839, 0.77267987, 0.8159159, 0.8912893, 0.7326484, 0.7331948, 0.7326592, 0.7327195, 0.73553896, 0.73751754, 0.7327885, 0.7330881, 0.73398066, 0.73267174, 0.73418057, 0.73413295, 0.7334155, 0.7345338, 0.7384573, 0.74329704, 0.7326578, 0.73270166, 0.73312694, 0.7380249, 0.74046004, 0.7470247, 0.73265725, 0.7332739, 0.7348682, 0.7376107, 0.7385065, 0.74606526, 0.7530524, 0.7726057, 0.7437731, 0.7629095, 0.8242657, 0.7326886, 0.73266464, 0.7327004, 0.73267937, 0.74887043, 0.75858384, 0.80991274, 0.89211756, 0.7326591, 0.73267186, 0.734122, 0.7358759, 0.74212945, 0.7508314, 0.7791381, 0.8487573, 0.92893827, 0.9892278, 0.7328404, 0.7327031, 0.7429816, 0.76307285, 0.8180118, 0.7371683, 0.7486773, 0.78829616, 0.7326477, 0.73264635, 0.7330045, 0.7386403, 0.73265785, 0.7329097, 0.7461916, 0.7657158, 0.8143312, 0.8996459, 0.9903667, 0.73301595, 0.7327014, 0.7341537, 0.74040246, 0.74724364, 0.7714091, 0.8200586, 0.73264706, 0.7327177, 0.73276573, 0.7401523, 0.7584524, 0.7949941, 0.880978, 0.9746138, 0.7407672, 0.77641946, 0.9109068, 0.99663204, 0.73264766, 0.7452935, 0.77577466, 0.8620705, 0.7326606, 0.7326903, 0.76368046, 0.77003264, 0.8177111, 0.904295, 0.9837843, 0.73266405, 0.7329102, 0.73840356, 0.7433494, 0.8133684, 0.9614179, 0.7386504, 0.7544135, 0.75602686, 0.8061168, 0.7326569, 0.7370365, 0.74502575, 0.76693743, 0.82208025, 0.92084867, 0.9929132, 0.73673594, 0.740357, 0.758944, 0.80853647, 0.9127038, 0.98953044, 0.7338537, 0.732786, 0.84641755, 0.87055534, 0.73548394, 0.73453355, 0.7611927, 0.7405974, 0.75096303, 0.7701967, 0.83990276, 0.73266023, 0.73286337, 0.7359369, 0.7340827, 0.7326522, 0.7326612, 0.73284286, 0.73539156, 0.73565465, 0.7410074, 0.7490037, 0.7326569, 0.732673, 0.73600763, 0.7402352, 0.74761564, 0.7550308, 0.73265743, 0.7331633, 0.7347461, 0.74657845, 0.7602678, 0.79322106, 0.74029964, 0.75257134, 0.7853295, 0.8479253, 0.8630514, 0.9715333, 0.7338354, 0.7326735, 0.74047726, 0.74443746, 0.7326642, 0.7333868, 0.7358897, 0.73265743, 0.7327256, 0.73419064, 0.7599916, 0.747062, 0.7557529, 0.7729216, 0.8204333, 0.92451274, 0.9510401, 0.73264784, 0.73264754, 0.73264784, 0.7326474, 0.732648, 0.73265946, 0.7326781, 0.7352859, 0.7326569, 0.73276377, 0.7344107, 0.7391713, 0.73265904, 0.7326875, 0.7372513, 0.7326569, 0.7327047, 0.73341155, 0.73656553, 0.740196, 0.7488623, 0.76524305, 0.73330474, 0.7327575, 0.7327767, 0.73701614, 0.74203676, 0.73281753, 0.73287976, 0.7345395, 0.7392496, 0.7440836, 0.7635962, 0.7326579, 0.7326724, 0.73505104, 0.7401604, 0.7446802, 0.7504524, 0.75447655, 0.76651496, 0.76623476, 0.76922953, 0.79235524, 0.74040145, 0.74543846, 0.7545265, 0.73283595, 0.7328278, 0.73915726, 0.74346524, 0.76583993, 0.732674, 0.73270464, 0.7403084, 0.7493894, 0.76967466, 0.7326472, 0.7326601, 0.73274195, 0.7526747, 0.76185495, 0.73299545, 0.7327106, 0.84753937, 0.77078503, 0.7863233, 0.79695493, 0.8276413, 0.73265946, 0.7326729, 0.7549261, 0.7686076, 0.79292387, 0.85090864, 0.87111986, 0.7386538, 0.75006455, 0.7815823, 0.86852205, 0.90913826, 0.9848986, 0.7326472, 0.73265874, 0.7332874, 0.7677964, 0.74757063, 0.86358887, 0.9072417, 0.97559583, 0.7326474, 0.7326576, 0.7326744, 0.7394315, 0.742918, 0.745055, 0.75648665, 0.77579236, 0.8221009, 0.73268086, 0.7326651, 0.73316944, 0.7328385, 0.73268354, 0.9344865, 0.9765812, 0.7326586, 0.7326583, 0.73388857, 0.74897736, 0.732659, 0.7329369, 0.7371299, 0.73830277, 0.74091375, 0.7512418, 0.7714419, 0.80256593, 0.85522115, 0.7401691, 0.7491482, 0.77877533, 0.8152847, 0.7326472, 0.7326472, 0.7326471, 0.7326471, 0.7326474, 0.7326471, 0.7326473, 0.73264724, 0.73264784, 0.7326477, 0.73264784, 0.7326474, 0.7326473, 0.7326472, 0.7326472, 0.73264664, 0.7326468, 0.7326465, 0.73264647, 0.7326516, 0.7326459, 0.732646, 0.7326483, 0.7326459, 0.7326459, 0.7326482, 0.732646, 0.7326472, 0.7337633, 0.7326527, 0.73264855, 0.7326467, 0.7326466, 0.7326466, 0.7326464, 0.7326464, 0.73264635, 0.7326463, 0.7326462, 0.73264605, 0.73419845, 0.7326769, 0.7327376, 0.7326493, 0.7341817, 0.73266023, 0.7326646, 0.7326566, 0.73427314, 0.73445195, 0.73398876, 0.73449653, 0.73265725, 0.73584247, 0.73266953, 0.73405343, 0.73265046, 0.73388547, 0.7334532, 0.7331671, 0.732766, 0.732801, 0.73397994, 0.7372352, 0.73275226, 0.7335422, 0.73440117, 0.73834157, 0.7326908, 0.73265296, 0.7326739, 0.73269826, 0.7327085, 0.73379, 0.7326582, 0.73265874, 0.73265064, 0.7326477, 0.7359723, 0.73569804, 0.7375554, 0.73695654, 0.74177635, 0.7441654, 0.7328948, 0.73331416, 0.73266727, 0.7332744, 0.7327659, 0.7343156, 0.74336165, 0.7326796, 0.73267347, 0.7326728, 0.7326619, 0.73265535, 0.732654, 0.73329324, 0.7405493, 0.7425509, 0.7424362, 0.7485304, 0.75525886, 0.7326783, 0.7334958, 0.7327933, 0.73268443, 0.7326706, 0.74073386, 0.7329421, 0.73281837, 0.7340304, 0.73406863, 0.7682035, 0.84230673, 0.7372834, 0.7326899, 0.7326579, 0.73294723, 0.7330709, 0.74997324, 0.73265755, 0.732682, 0.73267066, 0.7326965, 0.73283195, 0.7357334, 0.7374826, 0.7416612, 0.7788678, 0.7333346, 0.7332462, 0.73411065, 0.7375676, 0.74690604, 0.74727035, 0.73266333, 0.7326625, 0.7326645, 0.7326723, 0.737887, 0.7404337, 0.74508095, 0.8120399, 0.7396318, 0.73266166, 0.73307586, 0.7335626, 0.73518944, 0.7365854, 0.74148315, 0.75630033, 0.7647041, 0.73270947, 0.7326759, 0.7479729, 0.7669329, 0.776991, 0.84694934, 0.8382039, 0.85479623, 0.7327954, 0.7330069, 0.7364166, 0.7388368, 0.7418367, 0.7702038, 0.76343626, 0.835859, 0.93296736, 0.73703766, 0.749772, 0.7697335, 0.8224687, 0.9176115, 0.9895794, 0.73264784, 0.7326597, 0.7327386, 0.7332744, 0.7410638, 0.7435346, 0.7327002, 0.73266995, 0.74049205, 0.77542806, 0.7767913, 0.8641565, 0.93128496, 0.73266196, 0.7326569, 0.7327288, 0.7327095, 0.7486646, 0.75863636, 0.7326583, 0.7326688, 0.7381117, 0.74371684, 0.7516966, 0.73265684, 0.73307455, 0.7366659, 0.7387234, 0.7453465, 0.75091875, 0.7693064, 0.77990055, 0.80408525, 0.73394257, 0.7909656, 0.7326617, 0.73304105, 0.7392368, 0.7354585, 0.73480546, 0.7364372, 0.7366363, 0.7414572, 0.74459875, 0.7595806, 0.80094934, 0.8568982, 0.90438807, 0.73265845, 0.7381912, 0.74848133, 0.7326477, 0.73266214, 0.73267275, 0.7366902, 0.7391214, 0.7523512, 0.73329574, 0.73350805, 0.7487397, 0.7859559, 0.88656634, 0.97372806, 0.7326677, 0.7326692, 0.7352636, 0.7361458, 0.74220127, 0.75027955, 0.7781696, 0.86320436, 0.73264736, 0.73266023, 0.7326723, 0.7453092, 0.73265845, 0.73265785, 0.7326715, 0.74922305, 0.86863303, 0.8968835, 0.9266869, 0.93921727, 0.7326872, 0.73271, 0.74902004, 0.75851333, 0.788102, 0.78946596, 0.8256553, 0.7328493, 0.73971415, 0.7577657, 0.79316616, 0.8718426, 0.736418, 0.7449352, 0.7622946, 0.8012147, 0.87636316, 0.9011017, 0.9765329, 0.7404296, 0.75503874, 0.7711276, 0.8204104, 0.7326652, 0.7333236, 0.75404286, 0.8095646, 0.8701647, 0.96535784, 0.7509181, 0.7962732, 0.9004106, 0.7326648, 0.73264843, 0.7326569, 0.73394805, 0.73568034, 0.739377, 0.7466771, 0.7608697, 0.8058184, 0.8892151, 0.9784864, 0.7326531, 0.7326698, 0.7326609, 0.73265177, 0.7326602, 0.7326889, 0.7326593, 0.7328552, 0.73315865, 0.73266083, 0.73266405, 0.7326744, 0.75135, 0.7326582, 0.7326605, 0.73268247, 0.73270035, 0.7327145, 0.7326695, 0.73706573, 0.7326656, 0.73267037, 0.73718303, 0.741925, 0.75326544, 0.77255577, 0.7326614, 0.7326702, 0.7396335, 0.732657, 0.7331556, 0.7357386, 0.7362541, 0.73268324, 0.7326715, 0.7344613, 0.73686177, 0.73761773, 0.73314774, 0.7380167, 0.74035287, 0.74408776, 0.7458206, 0.7517323, 0.75658965, 0.7689509, 0.78173035, 0.7386848, 0.7404851, 0.7464615, 0.7326921, 0.75584394, 0.732667, 0.73266846, 0.7405061, 0.76196504, 0.8094002, 0.8884566, 0.9710055, 0.7326523, 0.7326602, 0.73289144, 0.73603135, 0.73265934, 0.7326779, 0.73832625, 0.7425617, 0.77362543, 0.7326472, 0.7333393, 0.732727, 0.78066075, 0.8656436, 0.9251798, 0.73265785, 0.7332331, 0.76858085, 0.7519656, 0.8778324, 0.9150467, 0.98401165, 0.73264784, 0.73265713, 0.7326722, 0.743498, 0.73723966, 0.7713187, 0.75140876, 0.784485, 0.84668744, 0.97365177, 0.7331599, 0.73271644, 0.74247146, 0.75855917, 0.7898453, 0.84712875, 0.7326472, 0.733498, 0.73269683, 0.7486938, 0.740883, 0.7787142, 0.885282, 0.9346048, 0.73264915, 0.7326574, 0.7327803, 0.73394144, 0.73513645, 0.74294364, 0.73265696, 0.73266953, 0.73714215, 0.74137986, 0.73265713, 0.7327477, 0.7413141, 0.7455953, 0.7716143, 0.8293882, 0.7332875, 0.7326762, 0.7536075, 0.78841615, 0.88660157, 0.9737307, 0.75034934, 0.7895743, 0.86490625, 0.7326471, 0.7326603, 0.7326751, 0.7456765, 0.80231124, 0.8320577, 0.7978741, 0.85583824, 0.93546987, 0.7379336, 0.73266894, 0.73267204, 0.73723686, 0.7434136, 0.7468299, 0.7578063, 0.7326593, 0.73330843, 0.76228553, 0.8188776, 0.8721095, 0.96490496, 0.73661524, 0.7478128, 0.7637929, 0.8307988, 0.9351755, 0.732661, 0.73268765, 0.7640256, 0.732657, 0.7328291, 0.7372319, 0.75915754, 0.86214095, 0.8952794, 0.96579814, 0.7326481, 0.7326586, 0.7326699, 0.7369264, 0.7326569, 0.7340999, 0.7326692, 0.73325264, 0.73337513, 0.7365266, 0.73267406, 0.73267144, 0.7326795, 0.73267, 0.7380548, 0.74037623, 0.7477545, 0.76405394, 0.80750024, 0.73265386, 0.7326475, 0.7326618, 0.73267263, 0.7338329, 0.7356762, 0.7391137, 0.7429774, 0.73271406, 0.7326927, 0.7360607, 0.73869973, 0.73265755, 0.7329423, 0.7645927, 0.88055164, 0.92434204, 0.7326472, 0.73264706, 0.73264796, 0.7326609, 0.7326696, 0.7353699, 0.7328157, 0.73281515, 0.7355926, 0.7326788, 0.7326593, 0.73268884, 0.73750556, 0.7326569, 0.7326773, 0.7343169, 0.73995733, 0.73894674, 0.7408808, 0.74292076, 0.7530513, 0.7709104, 0.7990107, 0.7336727, 0.73267525, 0.7449992, 0.7326573, 0.732751, 0.7326583, 0.73266894, 0.7341541, 0.73927, 0.7392424, 0.73265177, 0.7326596, 0.7338689, 0.73790365, 0.74094176, 0.7381192, 0.74208516, 0.74448735, 0.73265696, 0.7341443, 0.760396, 0.81772655, 0.87296253, 0.96491385, 0.73265886, 0.733301, 0.7530424, 0.73281395, 0.7881218, 0.88598204, 0.98576826, 0.732745, 0.7327239, 0.7326899, 0.73266137, 0.7326755, 0.73444116, 0.7326665, 0.7328114, 0.7367707, 0.74109936, 0.7326591, 0.7326704, 0.73856014, 0.7434113, 0.73277515, 0.73267215, 0.73768544, 0.7373806, 0.74507356, 0.732666, 0.732673, 0.73443705, 0.7334964, 0.7327023, 0.73612946, 0.7387605, 0.7395842, 0.74277043, 0.74758285, 0.73265696, 0.73267084, 0.73440886, 0.7356015, 0.7393567, 0.7326735, 0.73273724, 0.7329496, 0.7395097, 0.74234486, 0.746636, 0.75263774, 0.7569272, 0.7610116, 0.7692704, 0.7849375, 0.7326473, 0.7326594, 0.73264784, 0.7326583, 0.73395234, 0.73878837, 0.73265, 0.7342576, 0.7363143, 0.734113, 0.7404225, 0.74783885, 0.77038896, 0.8142972, 0.88249785, 0.9762433, 0.7326619, 0.7348658, 0.74017626, 0.7572739, 0.7381522, 0.7414826, 0.74996144, 0.77136445, 0.80845404, 0.7326611, 0.7327381, 0.7683705, 0.88045454, 0.92539364, 0.741144, 0.74239844, 0.7453403, 0.7520832, 0.73264754, 0.73269075, 0.73328096, 0.7343572, 0.7375786, 0.73428416, 0.7328071, 0.74322516, 0.76172155, 0.73265713, 0.73275006, 0.75171995, 0.7903886, 0.79342043, 0.8315473, 0.7326472, 0.7326473, 0.73265976, 0.7326488, 0.7326591, 0.7326637, 0.7341104, 0.7373211, 0.7435011, 0.76162213, 0.8099296, 0.7328189, 0.73302764, 0.7659953, 0.7331677, 0.73278433, 0.7822619, 0.8002765, 0.8501078, 0.9562889, 0.7327956, 0.7326934, 0.7363174, 0.73266286, 0.73266894, 0.7366555, 0.7326568, 0.733323, 0.736474, 0.73733187, 0.7431162, 0.76274925, 0.7828695, 0.7326648, 0.7326736, 0.7456101, 0.7736336, 0.73328894, 0.7665256, 0.73816055, 0.75635034, 0.762913, 0.7731027, 0.81927, 0.84681565, 0.9052751, 0.7326944, 0.7334152, 0.78290915, 0.7326587, 0.7327112, 0.74192226, 0.74956286, 0.7464726, 0.7332889, 0.73461795, 0.7348415, 0.74047834, 0.73825645, 0.743949, 0.7479393, 0.74686384, 0.75555897, 0.7378626, 0.7374663, 0.747859, 0.7327025, 0.73268986, 0.75225294, 0.73264766, 0.73266363, 0.7338296, 0.73714626, 0.74153465, 0.75852406, 0.73265934, 0.7326755, 0.7456791, 0.7974072, 0.836742, 0.92417204, 0.7351684, 0.7334354, 0.77382207, 0.73264754, 0.73264766, 0.7365411, 0.7377097, 0.7339903, 0.73849756, 0.74725497, 0.7670431, 0.732726, 0.7327055, 0.73266196, 0.73267704, 0.73809105, 0.73764575, 0.73830175, 0.74021727, 0.74383396, 0.7588469, 0.7328758, 0.7328138, 0.7365749, 0.74144477, 0.74958295, 0.7571415, 0.76799583, 0.7390728, 0.7568658, 0.8010864, 0.73968774, 0.73272353, 0.73265463, 0.7347627, 0.7369861, 0.7421815, 0.7521436, 0.7839416, 0.73265946, 0.73282355, 0.75005454, 0.80471313, 0.9314283, 0.9929133, 0.73270226, 0.73271143, 0.73266095, 0.7326524, 0.7326694, 0.7327016, 0.73445225, 0.7404328, 0.7329124, 0.7326571, 0.73267466, 0.73442024, 0.74317527, 0.75693846, 0.79242975, 0.8826902, 0.9745944, 0.73919, 0.7526462, 0.788092, 0.7326653, 0.7326732, 0.7683224, 0.84811705, 0.80473536, 0.8885278, 0.96319735, 0.74182755, 0.7615733, 0.80457634, 0.73349625, 0.73269576, 0.74867004, 0.7859678, 0.8859957, 0.9738535, 0.73265797, 0.7327825, 0.763279, 0.880642, 0.987422, 0.7326462, 0.73264617, 0.7328301, 0.7336984, 0.7328478, 0.73296994, 0.7343307, 0.736051, 0.7367648, 0.7432094, 0.7333584, 0.75370103, 0.73266053, 0.73267454, 0.7404215, 0.7746054, 0.8904661, 0.9751498, 0.7326586, 0.73266274, 0.7452003, 0.78156656, 0.8873665, 0.97355473, 0.7326471, 0.7330979, 0.73290664, 0.7820901, 0.86605585, 0.9270885, 0.73266137, 0.7326719, 0.74517, 0.7855607, 0.84660184, 0.9201488, 0.7326495, 0.7326668, 0.7415948, 0.73265725, 0.73596734, 0.73269063, 0.7355658, 0.7374709, 0.7408142, 0.7444769, 0.75834394, 0.73265785, 0.7328532, 0.732679, 0.7347075, 0.7419379, 0.75254995, 0.7561741, 0.77795225, 0.8100745, 0.7326465, 0.7327129, 0.73267245, 0.75607264, 0.8124043, 0.86849815, 0.9657227, 0.7326503, 0.7326573, 0.7326719, 0.7388247, 0.7432358, 0.7329903, 0.73265463, 0.73264974, 0.73342234, 0.7328941, 0.73265886, 0.7326693, 0.74495846, 0.7326574, 0.73269355, 0.7334712, 0.73645335, 0.74109066, 0.76406854, 0.7562995, 0.78472143, 0.82995147, 0.9194823, 0.7329047, 0.7326803, 0.73276854, 0.7351914, 0.7348437, 0.7388075, 0.74362004, 0.75994825, 0.7937224, 0.8513017, 0.73265785, 0.73267174, 0.73328453, 0.74037355, 0.776103, 0.88606673, 0.9221866, 0.9875958, 0.75091404, 0.792082, 0.8960077, 0.73264724, 0.7326614, 0.73406893, 0.73873687, 0.74154884, 0.7437966, 0.7437834, 0.79204786, 0.9937767, 0.7341942, 0.7326477, 0.75248575, 0.73264706, 0.7326474, 0.73278624, 0.7326675, 0.73264843, 0.7326709, 0.73294556, 0.73286164, 0.7335608, 0.7326925, 0.7350983, 0.74343944, 0.73266166, 0.73265797, 0.7326696, 0.73375183, 0.73265934, 0.7329164, 0.73551625, 0.7362183, 0.7328643, 0.7326692, 0.73302335, 0.73268354, 0.73269707, 0.73270303, 0.73464733, 0.73270404, 0.7326694, 0.73449886, 0.7359333, 0.7327012, 0.73290664, 0.7328544, 0.7359752, 0.73896044, 0.7433368, 0.7327161, 0.7329717, 0.73603857, 0.73865604, 0.74063456, 0.73265845, 0.733782, 0.73429036, 0.7393054, 0.73287964, 0.7333454, 0.73388344, 0.7376056, 0.7412144, 0.732667, 0.7326631, 0.7326935, 0.7326724, 0.73266184, 0.7326702, 0.7333375, 0.84115094, 0.7326473, 0.7326583, 0.7326681, 0.7341431, 0.7403305, 0.7770798, 0.8852364, 0.8358765, 0.9528204, 0.73266166, 0.7326795, 0.73391664, 0.7421338, 0.75475913, 0.7945589, 0.87186795, 0.74126613, 0.75224996, 0.79929096, 0.7326575, 0.73266786, 0.7333468, 0.7389117, 0.7472949, 0.7717157, 0.83389413, 0.93862635, 0.73267305, 0.73267007, 0.7550182, 0.8806345, 0.98921585, 0.73264754, 0.7326617, 0.73270506, 0.7422302, 0.74930507, 0.76355934, 0.7657874, 0.7871022, 0.8465331, 0.89505655, 0.95541686, 0.73321325, 0.73267215, 0.76361, 0.7455616, 0.8151829, 0.8199277, 0.8916585, 0.95357436, 0.74271643, 0.7328621, 0.7326475, 0.7328825, 0.7327036, 0.7355276, 0.73963916, 0.7326609, 0.7326749, 0.73699963, 0.7391716, 0.7463145, 0.75991285, 0.78812003, 0.8416917, 0.7326487, 0.7327056, 0.73267084, 0.7326505, 0.73264897, 0.7370323, 0.73265624, 0.7326652, 0.73304415, 0.7326537, 0.7326578, 0.7328114, 0.7543003, 0.95533735, 0.7332925, 0.7345592, 0.73265773, 0.7326608, 0.73275536, 0.73796195, 0.73432213, 0.7326864, 0.7326752, 0.7326814, 0.7326727, 0.7412148, 0.732758, 0.73266494, 0.7326755, 0.7362834, 0.7415793, 0.7566534, 0.78672034, 0.82210135, 0.8487739, 0.7406326, 0.7619272, 0.8236155, 0.7326591, 0.7326483, 0.7326481, 0.7333993, 0.73264843, 0.73266786, 0.732789, 0.73267394, 0.7329336, 0.73270506, 0.7340592, 0.73693556, 0.7419379, 0.76636326, 0.73267674, 0.7326648, 0.73267245, 0.7386277, 0.7450969, 0.74245113, 0.7484021, 0.75614476, 0.8825809, 0.73336655, 0.73362505, 0.7393812, 0.7476689, 0.76172537, 0.77002776, 0.73266137, 0.73306054, 0.7406499, 0.75259036, 0.7738243, 0.8275681, 0.9173488, 0.9879319, 0.7326602, 0.73267114, 0.73795515, 0.7749884, 0.7577265, 0.87462884, 0.9156414, 0.9849101, 0.73265857, 0.7326694, 0.73993194, 0.73268235, 0.7326705, 0.7329288, 0.74374694, 0.75960296, 0.7326697, 0.7328011, 0.73672765, 0.737884, 0.7425715, 0.7910029, 0.8488396, 0.7326933, 0.73283905, 0.7365201, 0.7456126, 0.78009456, 0.78267914, 0.7357877, 0.7328388, 0.8624274, 0.91046387, 0.8492006, 0.73373806, 0.73285186, 0.77170163, 0.77073294, 0.78208584, 0.791938, 0.8095369, 0.7399922, 0.7455636, 0.76070994, 0.7326608, 0.7326771, 0.75512177, 0.8112599, 0.8690089, 0.96501964, 0.7387933, 0.7498014, 0.7827007, 0.8809855, 0.9839564, 0.7466293, 0.7557381, 0.75238776, 0.7715467, 0.83878386, 0.732648, 0.737822, 0.7443568, 0.7758226, 0.8368761, 0.9414023, 0.9745884, 0.732725, 0.7334472, 0.7326923, 0.7329803, 0.73274106, 0.73993343, 0.8050584, 0.8669601, 0.92151946, 0.73857945, 0.7422366, 0.75491047, 0.73271734, 0.7326792, 0.7365619, 0.7326569, 0.7326706, 0.73407745, 0.7397878, 0.75748634, 0.7869315, 0.84264904, 0.732659, 0.73267496, 0.74992573, 0.7712688, 0.880465, 0.9398584, 0.732661, 0.7327387, 0.73506933, 0.73936397, 0.7434825, 0.7332559, 0.7327057, 0.7334584, 0.73974425, 0.7437697, 0.7602068, 0.79684305, 0.8120835]\n"
          ],
          "name": "stdout"
        },
        {
          "output_type": "execute_result",
          "data": {
            "text/plain": [
              "[<matplotlib.lines.Line2D at 0x7f34c2f250b8>]"
            ]
          },
          "metadata": {
            "tags": []
          },
          "execution_count": 5
        },
        {
          "output_type": "display_data",
          "data": {
            "image/png": "[encoded data removed]",
            "text/plain": [
              "<Figure size 432x288 with 1 Axes>"
            ]
          },
          "metadata": {
            "tags": []
          }
        }
      ]
    },
    {
      "cell_type": "markdown",
      "metadata": {
        "id": "kKg97DuBxluZ",
        "colab_type": "text"
      },
      "source": [
        "Cool, the sigmoid got an entropy of just 0.47.\n",
        "\n",
        "But hey, I wonder whether tf.nn.sigmoid_cross_entropy_with_logits behaves the same as my thing."
      ]
    },
    {
      "cell_type": "code",
      "metadata": {
        "id": "3O35e9G60JgT",
        "colab_type": "code",
        "colab": {
          "base_uri": "https://localhost:8080/",
          "height": 269
        },
        "outputId": "ec2a3872-f78a-4a7a-a52c-ae657edf1aaf"
      },
      "source": [
        "def plot_probability(card_reviews, w1, w2):\n",
        "  xs = []\n",
        "  ys = []\n",
        "  t = 0\n",
        "  good_reviews = []\n",
        "  good_reviews_ys = []\n",
        "  bad_reviews = []\n",
        "  bad_reviews_ys = []\n",
        "  for _, row in card_reviews.iterrows():\n",
        "    diff_seconds = row['diff'].total_seconds()\n",
        "    diff_days = diff_seconds / 86400.0\n",
        "    tic_xs = np.linspace(t, t + diff_days)\n",
        "    logit = w1 * np.linspace(0, diff_days) + w2\n",
        "    tic_ys = 1/(1+np.exp(-logit))  # igmoid\n",
        "    xs.extend(tic_xs)\n",
        "    ys.extend(tic_ys)\n",
        "    \n",
        "    if row['correct']:\n",
        "      good_reviews.append(t + diff_days)\n",
        "      good_reviews_ys.append(tic_ys[-1])\n",
        "    else:\n",
        "      bad_reviews.append(t + diff_days)\n",
        "      bad_reviews_ys.append(tic_ys[-1])\n",
        "    \n",
        "    t += diff_days\n",
        "    \n",
        "  plt.plot(xs, ys, 'b-', good_reviews, good_reviews_ys, 'go', bad_reviews, bad_reviews_ys, 'ro')\n",
        "  \n",
        "plot_probability(get_card_reviews(get_sample_card_ids(1)[0]),\n",
        "                 w1=0.0047614984, w2=1.0208617)"
      ],
      "execution_count": 6,
      "outputs": [
        {
          "output_type": "display_data",
          "data": {
            "image/png": "[encoded data removed]",
            "text/plain": [
              "<Figure size 432x288 with 1 Axes>"
            ]
          },
          "metadata": {
            "tags": []
          }
        }
      ]
    },
    {
      "cell_type": "markdown",
      "metadata": {
        "id": "FICIPyJk2zZh",
        "colab_type": "text"
      },
      "source": [
        "Let's add a times-w and times-l thing."
      ]
    },
    {
      "cell_type": "code",
      "metadata": {
        "id": "agAe41ek2y2b",
        "colab_type": "code",
        "colab": {
          "base_uri": "https://localhost:8080/",
          "height": 52
        },
        "outputId": "c045a6dd-1358-41bb-dc98-4d9fc4403702"
      },
      "source": [
        "# Train with a sigmoid\n",
        "\n",
        "w1 = tf.Variable(1.0, name=\"w1\", trainable=True)\n",
        "w2 = tf.Variable(1.0, name=\"w2\", trainable=True)\n",
        "wm = tf.Variable(1.0, name=\"wm\", trainable=True)\n",
        "lm = tf.Variable(1.0, name=\"lm\", trainable=True)\n",
        "\n",
        "variables = [w1, w2, wm, lm]\n",
        "\n",
        "#l = lambda1\n",
        "losses = []\n",
        "probabilities = []\n",
        "\n",
        "def build_losses_for_reviews(card_reviews):\n",
        "  #l = lambda1\n",
        "  ww1 = w1\n",
        "  for index, row in card_reviews.iterrows():\n",
        "    #print(row)\n",
        "    diff_seconds = row['diff'].total_seconds()\n",
        "    diff_days = diff_seconds / 86400.0\n",
        "    logit = ww1 * diff_days + w2\n",
        "    current_probability = tf.sigmoid(logit)\n",
        "    probabilities.append(current_probability)\n",
        "\n",
        "    is_true = (1. if row['correct'] else 0.)\n",
        "    if row['correct']:\n",
        "      ww1 = ww1 * wm\n",
        "    else:\n",
        "      ww1 = ww1 * lm\n",
        "    loss_bit = tf.nn.sigmoid_cross_entropy_with_logits(\n",
        "        labels=is_true, logits=logit)\n",
        "    losses.append(loss_bit)\n",
        "      \n",
        "from IPython.display import HTML, display\n",
        "\n",
        "def progress(value, max=100):\n",
        "    return HTML(\"\"\"\n",
        "        <progress value='{value}' max='{max}' style='width: 100%'>\n",
        "            {value}\n",
        "        </progress>\n",
        "    \"\"\".format(value=value, max=max))\n",
        "\n",
        "out = display(progress(0, num_cards), display_id=True)\n",
        "for i, card in enumerate(get_sample_card_ids(num_cards)):\n",
        "  build_losses_for_reviews(get_card_reviews(card))\n",
        "  out.update(progress(i, num_cards))\n",
        "out.update(HTML(\"Losses for reviews built.\"))\n",
        "\n",
        "loss = tf.reduce_sum(losses) / len(losses)\n",
        "# Making training rate higher than 0.01 leads to shooting out to NaNs.\n",
        "opt = tf.train.GradientDescentOptimizer(learning_rate=0.01)\n",
        "train_op = opt.minimize(loss, var_list=variables)\n",
        "\n",
        "losses = []\n",
        "values = []\n",
        "\n",
        "with tf.Session() as sess:\n",
        "  sess.run(tf.global_variables_initializer())\n",
        " \n",
        "  epoch_progress = display(progress(0, epochs), display_id=True)\n",
        "  for i in range(epochs):\n",
        "    metadata = tf.RunMetadata()\n",
        "    sess.run(train_op)\n",
        "    epoch_progress.update(progress(i, epochs))\n",
        "    vars_value = sess.run(variables)\n",
        "    loss_value = sess.run(loss)\n",
        "    if i % 10 == 0:\n",
        "      print(\"after round\", i, vars_value, \"loss=\", loss_value)\n",
        "      values.append(tuple(vars_value + [loss_value]))\n",
        "    losses.append(loss_value)\n",
        "  \n",
        "  print('Final:')\n",
        "  print(sess.run(variables))\n",
        "  print('Probs: ', sess.run(probabilities))\n",
        "#  print('Loss: ', sess.run(loss))\n",
        "\n",
        "plt.plot(range(epochs), losses)\n",
        "    "
      ],
      "execution_count": 0,
      "outputs": [
        {
          "output_type": "display_data",
          "data": {
            "text/html": [
              "Losses for reviews built."
            ],
            "text/plain": [
              "<IPython.core.display.HTML object>"
            ]
          },
          "metadata": {
            "tags": []
          }
        },
        {
          "output_type": "display_data",
          "data": {
            "text/html": [
              "\n",
              "        <progress value='0' max='100' style='width: 100%'>\n",
              "            0\n",
              "        </progress>\n",
              "    "
            ],
            "text/plain": [
              "<IPython.core.display.HTML object>"
            ]
          },
          "metadata": {
            "tags": []
          }
        }
      ]
    },
    {
      "cell_type": "code",
      "metadata": {
        "id": "au44jj6M8zpN",
        "colab_type": "code",
        "colab": {
          "base_uri": "https://localhost:8080/",
          "height": 35
        },
        "outputId": "a6be6de4-a454-431b-de2b-fe3b4d4b36d0"
      },
      "source": [
        "with tf.Session() as sess:\n",
        "  print(sess.run(tf.sigmoid(2.1)))"
      ],
      "execution_count": 68,
      "outputs": [
        {
          "output_type": "stream",
          "text": [
            "0.8909032\n"
          ],
          "name": "stdout"
        }
      ]
    },
    {
      "cell_type": "code",
      "metadata": {
        "id": "XqhL5G3U8-Rs",
        "colab_type": "code",
        "colab": {
          "base_uri": "https://localhost:8080/",
          "height": 35
        },
        "outputId": "4f8907b4-2001-4617-d909-db9abd57b55f"
      },
      "source": [
        "print(1/(1+np.exp(-2.1)))"
      ],
      "execution_count": 70,
      "outputs": [
        {
          "output_type": "stream",
          "text": [
            "0.8909031788043871\n"
          ],
          "name": "stdout"
        }
      ]
    },
    {
      "cell_type": "code",
      "metadata": {
        "id": "u4cNuRqi3YUC",
        "colab_type": "code",
        "colab": {
          "base_uri": "https://localhost:8080/",
          "height": 269
        },
        "outputId": "f6bf253c-43bf-4f14-df35-6d1c0714c63a"
      },
      "source": [
        "def plot_probability(card_reviews, w1, w2, wm, lm):\n",
        "  xs = []\n",
        "  ys = []\n",
        "  t = 0\n",
        "  good_reviews = []\n",
        "  good_reviews_ys = []\n",
        "  bad_reviews = []\n",
        "  bad_reviews_ys = []\n",
        "  ww1 = w1\n",
        "  for _, row in card_reviews.iterrows():\n",
        "    diff_seconds = row['diff'].total_seconds()\n",
        "    diff_days = diff_seconds / 86400.0\n",
        "    diff_tic = np.linspace(0, diff_days, 5)\n",
        "    tic_xs = diff_tic + t\n",
        "    logits = ww1 * diff_tic + w2\n",
        "    tic_ys = 1/(1+np.exp(-logits))\n",
        "    xs.extend(tic_xs)\n",
        "    ys.extend(tic_ys)\n",
        "    \n",
        "    if row['correct']:\n",
        "      good_reviews.append(t + diff_days)\n",
        "      good_reviews_ys.append(tic_ys[-1])\n",
        "      ww1 = ww1 * wm\n",
        "    else:\n",
        "      bad_reviews.append(t + diff_days)\n",
        "      bad_reviews_ys.append(tic_ys[-1])\n",
        "      ww1 = ww1 * lm\n",
        "        \n",
        "    t += diff_days\n",
        "    \n",
        "  plt.plot(xs, ys, 'b-',\n",
        "           good_reviews, good_reviews_ys, 'go',\n",
        "           bad_reviews, bad_reviews_ys, 'ro')\n",
        "\n",
        "plot_probability(get_card_reviews(get_sample_card_ids(1, random_state=11)[0]),\n",
        "                 w1=0.8738327, w2=1.040327, wm=0.35551757, lm=0.7856005)"
      ],
      "execution_count": 73,
      "outputs": [
        {
          "output_type": "display_data",
          "data": {
            "image/png": "[encoded data removed]",
            "text/plain": [
              "<Figure size 432x288 with 1 Axes>"
            ]
          },
          "metadata": {
            "tags": []
          }
        }
      ]
    },
    {
      "cell_type": "code",
      "metadata": {
        "id": "StcCT0eq4pWV",
        "colab_type": "code",
        "colab": {
          "base_uri": "https://localhost:8080/",
          "height": 35
        },
        "outputId": "898141f0-d7c1-402b-d13d-3671abfab54d"
      },
      "source": [
        ""
      ],
      "execution_count": 33,
      "outputs": [
        {
          "output_type": "execute_result",
          "data": {
            "text/plain": [
              "0.2689414213699951"
            ]
          },
          "metadata": {
            "tags": []
          },
          "execution_count": 33
        }
      ]
    },
    {
      "cell_type": "markdown",
      "metadata": {
        "id": "VjSKTRbh6uiB",
        "colab_type": "text"
      },
      "source": [
        "Argh, the sigmoid is in the wrong direction >.>\n",
        "\n",
        "So, the model I'm thinking of is:\n",
        "\n",
        "* Recurrent neural network,\n",
        "* Output is the probability of successful review,\n",
        "* Sequence input is: some representation of current time (or time since last review),\n",
        "* And some data is passed from left to right.\n",
        "\n",
        "\n",
        "Let's find out how to do sequence models in Tensorflow."
      ]
    },
    {
      "cell_type": "markdown",
      "metadata": {
        "id": "reUzZ3WjDokc",
        "colab_type": "text"
      },
      "source": [
        "Tensorflow RNN\n",
        "==="
      ]
    },
    {
      "cell_type": "code",
      "metadata": {
        "id": "5PP8CLM4DoJX",
        "colab_type": "code",
        "colab": {
          "base_uri": "https://localhost:8080/",
          "height": 181
        },
        "outputId": "16e1c83c-7979-4991-83e1-05d7ee325955"
      },
      "source": [
        "df.groupby(df.cid).count().loc[:, ['id']].id.describe()"
      ],
      "execution_count": 12,
      "outputs": [
        {
          "output_type": "execute_result",
          "data": {
            "text/plain": [
              "count    34537.000000\n",
              "mean        13.799635\n",
              "std         18.244833\n",
              "min          1.000000\n",
              "25%          6.000000\n",
              "50%          8.000000\n",
              "75%         13.000000\n",
              "max        398.000000\n",
              "Name: id, dtype: float64"
            ]
          },
          "metadata": {
            "tags": []
          },
          "execution_count": 12
        }
      ]
    },
    {
      "cell_type": "markdown",
      "metadata": {
        "id": "fhcaOlqyEJgZ",
        "colab_type": "text"
      },
      "source": [
        "The average card has 13 reviews. The card with most reviews has 398 reviews.\n",
        "Let's just shove everything into <=16 reviews.\n"
      ]
    },
    {
      "cell_type": "code",
      "metadata": {
        "id": "wV8tmxGlEbJc",
        "colab_type": "code",
        "colab": {}
      },
      "source": [
        "num_steps = 16  # how many reviews to process per card\n",
        "\n",
        "# We have 34537 cards. Let's set a batch size of 16.\n",
        "batch_size = 16\n",
        "\n",
        "lstm_size = 2\n",
        "\n",
        "# Placeholder for time since last review, in days.\n",
        "days_since_last_review = tf.placeholder(tf.float32, [batch_size, num_steps])\n",
        "# Placeholder for result of the last review. Set to 0 for first review.\n",
        "# Then: 0 for incorrect review, 1 for correct review.\n",
        "result_of_last_review = tf.placeholder(tf.float32, [batch_size, num_steps])\n",
        "# Loss weights for each diff against base. Set to 1 where we have an expectation\n",
        "# and to 0 where we do not.\n",
        "loss_weights = tf.placeholder(tf.float32, [batch_size, num_steps])\n",
        "\n",
        "lstm = tf.contrib.rnn.BasicLSTMCell(lstm_size)\n",
        "# Initial state of the LSTM memory.\n",
        "initial_state = state = lstm.zero_state(batch_size, dtype=tf.float32)\n",
        "\n",
        "inputs = tf.stack([days_since_last_review, result_of_last_review])\n",
        "outputs = []\n",
        "\n",
        "w = tf.Variable(tf.float32, [lstm_size])\n",
        "b = tf.Variable(tf.float32, [lstm_size])\n",
        "\n",
        "for i in range(num_steps):\n",
        "    # The value of state is updated after processing each batch of words.\n",
        "    output, state = lstm(inputs[:, i], state)\n",
        "    outputs.push_back(output * w + b)\n",
        "    \n",
        "    \n",
        "    \n",
        "    ### Argh. Let's stop here...\n",
        "\n",
        "    \n",
        "final_state = state"
      ],
      "execution_count": 0,
      "outputs": []
    }
  ]
}