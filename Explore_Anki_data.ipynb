{
  "nbformat": 4,
  "nbformat_minor": 0,
  "metadata": {
    "colab": {
      "name": "Explore Anki data",
      "version": "0.3.2",
      "provenance": [],
      "collapsed_sections": [],
      "include_colab_link": true
    },
    "kernelspec": {
      "name": "python3",
      "display_name": "Python 3"
    },
    "accelerator": "GPU"
  },
  "cells": [
    {
      "cell_type": "markdown",
      "metadata": {
        "id": "view-in-github",
        "colab_type": "text"
      },
      "source": [
        "<a href=\"https://colab.research.google.com/github/agentydragon/sched/blob/master/Explore_Anki_data.ipynb\" target=\"_parent\"><img src=\"https://colab.research.google.com/assets/colab-badge.svg\" alt=\"Open In Colab\"/></a>"
      ]
    },
    {
      "cell_type": "code",
      "metadata": {
        "id": "U67javkAzODA",
        "colab_type": "code",
        "outputId": "84d91932-bcdf-458a-baa4-6293a7b7e5d8",
        "colab": {
          "base_uri": "https://localhost:8080/",
          "height": 35
        }
      },
      "source": [
        "%matplotlib inline\n",
        "import sqlite3\n",
        "import pandas as pd\n",
        "import matplotlib\n",
        "import matplotlib.pyplot as plt\n",
        "import numpy as np\n",
        "import tensorflow as tf\n",
        "from datetime import timedelta\n",
        "from google.colab import drive\n",
        "drive.mount('/content/gdrive')"
      ],
      "execution_count": 10,
      "outputs": [
        {
          "output_type": "stream",
          "text": [
            "Drive already mounted at /content/gdrive; to attempt to forcibly remount, call drive.mount(\"/content/gdrive\", force_remount=True).\n"
          ],
          "name": "stdout"
        }
      ]
    },
    {
      "cell_type": "code",
      "metadata": {
        "id": "l6L9Fgt2zgto",
        "colab_type": "code",
        "colab": {}
      },
      "source": [
        "conn = sqlite3.connect('/content/gdrive/My Drive/collection.anki2')\n",
        "data = []\n",
        "for row in conn.execute('SELECT id, cid, ease, time, type FROM revlog;'):\n",
        "  id, cid, ease, time, type = row\n",
        "  data.append((pd.Timestamp(id, unit='ms'), cid, ease, time, type))\n",
        "df = pd.DataFrame(data, columns = ['id', 'cid', 'ease', 'time', 'type'])"
      ],
      "execution_count": 0,
      "outputs": []
    },
    {
      "cell_type": "markdown",
      "metadata": {
        "id": "YMJ086KkCYGC",
        "colab_type": "text"
      },
      "source": [
        "Let's get the number of cards I have."
      ]
    },
    {
      "cell_type": "code",
      "metadata": {
        "id": "raQj0FHXyI5I",
        "colab_type": "code",
        "outputId": "73a620c9-de79-401d-b42e-3234674142a9",
        "colab": {
          "base_uri": "https://localhost:8080/",
          "height": 34
        }
      },
      "source": [
        "print(len(pd.unique(df['cid'])))"
      ],
      "execution_count": 0,
      "outputs": [
        {
          "output_type": "stream",
          "text": [
            "34537\n"
          ],
          "name": "stdout"
        }
      ]
    },
    {
      "cell_type": "markdown",
      "metadata": {
        "id": "O8jc2cu2CPWJ",
        "colab_type": "text"
      },
      "source": [
        "Forgetting curves\n",
        "=="
      ]
    },
    {
      "cell_type": "code",
      "metadata": {
        "id": "uIWhCsnQ4YCG",
        "colab_type": "code",
        "colab": {}
      },
      "source": [
        "%matplotlib inline"
      ],
      "execution_count": 0,
      "outputs": []
    },
    {
      "cell_type": "code",
      "metadata": {
        "id": "pZ45dWes9B-7",
        "colab_type": "code",
        "outputId": "1618feef-8b69-499a-8419-92bbf10fa6b7",
        "colab": {
          "base_uri": "https://localhost:8080/",
          "height": 339
        }
      },
      "source": [
        "x = np.linspace(0.0, 10.0)\n",
        "plt.plot(x, np.exp(-x), x, np.exp(-0.5 * x), x, np.exp(-0.25 * x), x, np.exp(-0.05 * x))"
      ],
      "execution_count": 0,
      "outputs": [
        {
          "output_type": "execute_result",
          "data": {
            "text/plain": [
              "[<matplotlib.lines.Line2D at 0x7fb4628c6128>,\n",
              " <matplotlib.lines.Line2D at 0x7fb4628c62b0>,\n",
              " <matplotlib.lines.Line2D at 0x7fb4628c6630>,\n",
              " <matplotlib.lines.Line2D at 0x7fb4628c6978>]"
            ]
          },
          "metadata": {
            "tags": []
          },
          "execution_count": 12
        },
        {
          "output_type": "display_data",
          "data": {
            "image/png": "[encoded data removed]",
            "text/plain": [
              "<Figure size 432x288 with 1 Axes>"
            ]
          },
          "metadata": {
            "tags": []
          }
        }
      ]
    },
    {
      "cell_type": "code",
      "metadata": {
        "id": "nHNXUJxPDeoy",
        "colab_type": "code",
        "colab": {}
      },
      "source": [
        "def get_card_reviews(cid):\n",
        "  card_reviews = df[df.cid == cid]\n",
        "  card_reviews = card_reviews.loc[:, ['id', 'ease', 'time', 'type']]\n",
        "  card_reviews['correct'] = card_reviews.ease > 1\n",
        "  card_reviews = card_reviews.loc[:, ['id', 'correct']]\n",
        "  card_reviews.head()\n",
        "  card_reviews['diff'] = card_reviews['id'].diff()\n",
        "  return card_reviews[~card_reviews['diff'].isnull()]\n",
        "\n",
        "def get_sample_card_ids(n, random_state=1):\n",
        "  return pd.Series(pd.unique(df['cid'])).sort_values().sample(n=n, random_state=random_state).to_numpy()"
      ],
      "execution_count": 0,
      "outputs": []
    },
    {
      "cell_type": "markdown",
      "metadata": {
        "id": "_rN7g3WXf5gm",
        "colab_type": "text"
      },
      "source": [
        "Card difficulty - making lambda smaller/bigger on win/loss\n",
        "==="
      ]
    },
    {
      "cell_type": "markdown",
      "metadata": {
        "id": "eZnbx0r99D_E",
        "colab_type": "text"
      },
      "source": [
        "Model: probability of getting a card right is $\\hat{p} = e^{-\\lambda \\cdot t}$.\n",
        "If you get a card right, $\\lambda$ gets multiplied by $w$, and if you get it wrong, it gets multiplied by $l$.\n",
        "The initial value of $\\lambda$ is $\\lambda_1$. $t$ is measured in floating-point days since last review. Parameters are $[\\lambda_1, w, l]$ and they are initialized with ones. To prevent taking logs of numbers very close to 0, we cap $\\hat{p}$ between 0.001 and 0.998. Here we try to fit one global model.\n",
        "\n",
        "We optimize $H(p, \\hat{p})$ by stochastic gradient descent. The model is trained on 1000 random cards."
      ]
    },
    {
      "cell_type": "code",
      "metadata": {
        "id": "0zpZCsgn-cXK",
        "colab_type": "code",
        "cellView": "both",
        "colab": {}
      },
      "source": [
        "num_cards = 100 #@param {type:\"integer\"}\n",
        "epochs = 100 #@param {type:\"integer\"}\n"
      ],
      "execution_count": 0,
      "outputs": []
    },
    {
      "cell_type": "code",
      "metadata": {
        "id": "gubhQKRbfxuB",
        "colab_type": "code",
        "outputId": "44101eef-20f5-443d-bfbc-0e41ac7791d7",
        "colab": {
          "base_uri": "https://localhost:8080/",
          "height": 2129
        }
      },
      "source": [
        "# Old, direct model\n",
        "\n",
        "lambda1 = tf.Variable(1.0, name=\"lambda1\", trainable=True)\n",
        "win_p = tf.Variable(1.0)\n",
        "loss_p = tf.Variable(1.0)\n",
        "variables = [lambda1, win_p, loss_p]\n",
        "\n",
        "l = lambda1\n",
        "losses = []\n",
        "probabilities = []\n",
        "\n",
        "def build_losses_for_reviews(card_reviews):\n",
        "  l = lambda1\n",
        "  for index, row in card_reviews.iterrows():\n",
        "    #print(row)\n",
        "    diff_seconds = row['diff'].total_seconds()\n",
        "    diff_days = diff_seconds / 86400.0\n",
        "    current_probability = 0.998 * tf.exp(-l * diff_days) + 0.001\n",
        "    probabilities.append(current_probability)\n",
        "\n",
        "    if row['correct']:\n",
        "      # we predicted probability current_probability --> if it was 1, do nothing\n",
        "      loss_bit = -tf.log(current_probability)\n",
        "      losses.append(loss_bit)\n",
        "      l = l * win_p\n",
        "    else:\n",
        "      loss_bit = -tf.log(1.0 - current_probability)\n",
        "      losses.append(loss_bit)\n",
        "      l = l * loss_p\n",
        "      \n",
        "from IPython.display import HTML, display\n",
        "\n",
        "def progress(value, max=100):\n",
        "    return HTML(\"\"\"\n",
        "        <progress value='{value}' max='{max}' style='width: 100%'>\n",
        "            {value}\n",
        "        </progress>\n",
        "    \"\"\".format(value=value, max=max))\n",
        "\n",
        "out = display(progress(0, num_cards), display_id=True)\n",
        "for i, card in enumerate(get_sample_card_ids(num_cards)):\n",
        "  build_losses_for_reviews(get_card_reviews(card))\n",
        "  out.update(progress(i, num_cards))\n",
        "out.update(HTML(\"Losses for reviews built.\"))\n",
        "  \n",
        "loss = tf.reduce_sum(losses) / len(losses)\n",
        "# Making training rate higher than 0.01 leads to shooting out to NaNs.\n",
        "opt = tf.train.GradientDescentOptimizer(learning_rate=0.01)\n",
        "train_op = opt.minimize(loss, var_list=variables)\n",
        "\n",
        "losses = []\n",
        "values = []\n",
        "\n",
        "with tf.Session() as sess:\n",
        "  sess.run(tf.global_variables_initializer())\n",
        " \n",
        "  epoch_progress = display(progress(0, epochs), display_id=True)\n",
        "  for i in range(epochs):\n",
        "    metadata = tf.RunMetadata()\n",
        "    sess.run(train_op)\n",
        "    epoch_progress.update(progress(i, epochs))\n",
        "    vars_value = sess.run(variables)\n",
        "    loss_value = sess.run(loss)\n",
        "    if i % 10 == 0:\n",
        "      print(\"after round\", i, vars_value, \"loss=\", loss_value)\n",
        "      values.append(tuple(vars_value + [loss_value]))\n",
        "    losses.append(loss_value)\n",
        "  \n",
        "  print('Final:')\n",
        "  print(sess.run(variables))\n",
        "#  print('Probs: ', sess.run(probabilities))\n",
        "#  print('Loss: ', sess.run(loss))\n",
        "\n",
        "plt.plot(range(epochs), losses)\n",
        "    "
      ],
      "execution_count": 0,
      "outputs": [
        {
          "output_type": "display_data",
          "data": {
            "text/html": [
              "Losses for reviews built."
            ],
            "text/plain": [
              "<IPython.core.display.HTML object>"
            ]
          },
          "metadata": {
            "tags": []
          }
        },
        {
          "output_type": "display_data",
          "data": {
            "text/html": [
              "\n",
              "        <progress value='999' max='1000' style='width: 100%'>\n",
              "            999\n",
              "        </progress>\n",
              "    "
            ],
            "text/plain": [
              "<IPython.core.display.HTML object>"
            ]
          },
          "metadata": {
            "tags": []
          }
        },
        {
          "output_type": "stream",
          "text": [
            "after round 0 [0.9945055, 0.93423533, 0.97033834] loss= 2.7519743\n",
            "after round 10 [0.94985366, 0.66264117, 0.9748742] loss= 1.9895054\n",
            "after round 20 [0.91090345, 0.43794712, 1.0167735] loss= 1.4496759\n",
            "after round 30 [0.88259596, 0.30348274, 1.0486419] loss= 1.2508247\n",
            "after round 40 [0.8660628, 0.2434753, 1.0730766] loss= 1.2056427\n",
            "after round 50 [0.853892, 0.21343252, 1.0952047] loss= 1.1902815\n",
            "after round 60 [0.84347653, 0.19556598, 1.1166805] loss= 1.1814158\n",
            "after round 70 [0.8340132, 0.18460307, 1.1382266] loss= 1.1746796\n",
            "after round 80 [0.82515955, 0.17861727, 1.1603539] loss= 1.1686306\n",
            "after round 90 [0.8167018, 0.17667276, 1.1836007] loss= 1.1624476\n",
            "after round 100 [0.8084728, 0.17826156, 1.208644] loss= 1.1554301\n",
            "after round 110 [0.8003359, 0.18324481, 1.2363651] loss= 1.1467637\n",
            "after round 120 [0.792171, 0.1916948, 1.267818] loss= 1.1353811\n",
            "after round 130 [0.78385144, 0.20355752, 1.3039334] loss= 1.1201038\n",
            "after round 140 [0.77517134, 0.2176452, 1.3444469] loss= 1.1008602\n",
            "after round 150 [0.7658337, 0.2316324, 1.3873332] loss= 1.0796208\n",
            "after round 160 [0.75559264, 0.24302438, 1.4296981] loss= 1.0593747\n",
            "after round 170 [0.74441785, 0.24940325, 1.468233] loss= 1.0429357\n",
            "after round 180 [0.7325445, 0.24977177, 1.5002775] loss= 1.031294\n",
            "after round 190 [0.7204183, 0.24510564, 1.5250545] loss= 1.0234948\n",
            "after round 200 [0.7084571, 0.2387589, 1.5445366] loss= 1.0178922\n",
            "after round 210 [0.6968015, 0.23283839, 1.5606765] loss= 1.013598\n",
            "after round 220 [0.6854263, 0.22802138, 1.5746033] loss= 1.0101452\n",
            "after round 230 [0.67426205, 0.22473735, 1.5871369] loss= 1.0072259\n",
            "after round 240 [0.66320884, 0.22362626, 1.599063] loss= 1.0045698\n",
            "after round 250 [0.65208036, 0.22296125, 1.6096673] loss= 1.002207\n",
            "after round 260 [0.6408724, 0.22094637, 1.6180409] loss= 1.0002127\n",
            "after round 270 [0.62972003, 0.21864836, 1.6249233] loss= 0.9984457\n",
            "after round 280 [0.6186671, 0.21662226, 1.6307919] loss= 0.99684143\n",
            "after round 290 [0.60771424, 0.21496978, 1.63585] loss= 0.9953613\n",
            "after round 300 [0.5968532, 0.21367954, 1.6402125] loss= 0.9939763\n",
            "after round 310 [0.58607495, 0.21271926, 1.6439636] loss= 0.992666\n",
            "after round 320 [0.5753717, 0.21205588, 1.6471713] loss= 0.99141395\n",
            "after round 330 [0.5647367, 0.21165925, 1.6498941] loss= 0.9902074\n",
            "after round 340 [0.5541648, 0.21150294, 1.6521822] loss= 0.98903805\n",
            "after round 350 [0.54365164, 0.21156336, 1.6540797] loss= 0.9878971\n",
            "after round 360 [0.53319454, 0.21182032, 1.6556251] loss= 0.9867795\n",
            "after round 370 [0.5227919, 0.21225603, 1.6568527] loss= 0.98568094\n",
            "after round 380 [0.51244307, 0.21285515, 1.6577928] loss= 0.9845975\n",
            "after round 390 [0.5021486, 0.21360451, 1.6584724] loss= 0.9835278\n",
            "after round 400 [0.49191007, 0.21449295, 1.6589153] loss= 0.9824702\n",
            "after round 410 [0.48172978, 0.21551119, 1.6591427] loss= 0.98142296\n",
            "after round 420 [0.4716108, 0.21665207, 1.6591742] loss= 0.9803862\n",
            "after round 430 [0.4615568, 0.21791048, 1.6590272] loss= 0.97935975\n",
            "after round 440 [0.45157164, 0.21928394, 1.6587181] loss= 0.9783434\n",
            "after round 450 [0.44165948, 0.22077326, 1.6582624] loss= 0.9773364\n",
            "after round 460 [0.4318242, 0.2223839, 1.6576756] loss= 0.97633964\n",
            "after round 470 [0.42206928, 0.22412919, 1.6569757] loss= 0.97535294\n",
            "after round 480 [0.41239676, 0.22603698, 1.6561854] loss= 0.97437483\n",
            "after round 490 [0.40280658, 0.22816895, 1.6553414] loss= 0.97340226\n",
            "after round 500 [0.39329475, 0.23068431, 1.6545271] loss= 0.9724278\n",
            "after round 510 [0.38385454, 0.23415786, 1.6540364] loss= 0.9714082\n",
            "after round 520 [0.37450927, 0.2414973, 1.6554636] loss= 0.96989906\n",
            "after round 530 [0.3647451, 0.25012764, 1.6582152] loss= 0.9681005\n",
            "after round 540 [0.35439223, 0.25332227, 1.6583586] loss= 0.9669219\n",
            "after round 550 [0.34408197, 0.2552557, 1.6576759] loss= 0.96581775\n",
            "after round 560 [0.3339769, 0.2570836, 1.6567389] loss= 0.96475536\n",
            "after round 570 [0.32411173, 0.2589623, 1.655644] loss= 0.9637359\n",
            "after round 580 [0.31450298, 0.2609043, 1.6544168] loss= 0.96276116\n",
            "after round 590 [0.30516475, 0.26290363, 1.653072] loss= 0.96183175\n",
            "after round 600 [0.29611078, 0.26495194, 1.6516217] loss= 0.96095073\n",
            "after round 610 [0.2873546, 0.2670408, 1.6500765] loss= 0.96011734\n",
            "after round 620 [0.27890894, 0.26916158, 1.6484456] loss= 0.95933324\n",
            "after round 630 [0.27078557, 0.27130613, 1.6467367] loss= 0.9585992\n",
            "after round 640 [0.26299506, 0.27346632, 1.644956] loss= 0.9579154\n",
            "after round 650 [0.25554624, 0.27563462, 1.6431078] loss= 0.9572806\n",
            "after round 660 [0.2484458, 0.277804, 1.6411954] loss= 0.956694\n",
            "after round 670 [0.2416982, 0.27996805, 1.6392206] loss= 0.95615345\n",
            "after round 680 [0.23530535, 0.28212103, 1.6371831] loss= 0.9556579\n",
            "after round 690 [0.22926632, 0.28425804, 1.6350812] loss= 0.95520437\n",
            "after round 700 [0.22357734, 0.2863755, 1.6329117] loss= 0.9547896\n",
            "after round 710 [0.21823187, 0.2884708, 1.6306702] loss= 0.9544105\n",
            "after round 720 [0.21322063, 0.2905431, 1.628352] loss= 0.9540634\n",
            "after round 730 [0.20853202, 0.2925932, 1.6259528] loss= 0.95374465\n",
            "after round 740 [0.20415257, 0.29462424, 1.623471] loss= 0.95345074\n",
            "after round 750 [0.20006755, 0.29664144, 1.6209098] loss= 0.953178\n",
            "after round 760 [0.19626153, 0.29865178, 1.6182793] loss= 0.9529238\n",
            "after round 770 [0.1927189, 0.30066213, 1.6155978] loss= 0.9526862\n",
            "after round 780 [0.18942381, 0.30267686, 1.6128896] loss= 0.9524639\n",
            "after round 790 [0.18636036, 0.30469567, 1.6101828] loss= 0.9522567\n",
            "after round 800 [0.18351233, 0.3067129, 1.6075046] loss= 0.95206314\n",
            "after round 810 [0.18086368, 0.30871877, 1.6048788] loss= 0.9518838\n",
            "after round 820 [0.17839874, 0.3107017, 1.6023245] loss= 0.95171887\n",
            "after round 830 [0.17610273, 0.3126502, 1.599855] loss= 0.9515677\n",
            "after round 840 [0.17396191, 0.3145545, 1.5974797] loss= 0.9514294\n",
            "after round 850 [0.17196366, 0.31640685, 1.5952045] loss= 0.9513044\n",
            "after round 860 [0.17009644, 0.3182017, 1.5930322] loss= 0.95119\n",
            "after round 870 [0.16834973, 0.31993538, 1.5909638] loss= 0.9510867\n",
            "after round 880 [0.16671394, 0.32160598, 1.5889983] loss= 0.9509934\n",
            "after round 890 [0.1651803, 0.32321313, 1.5871335] loss= 0.9509097\n",
            "after round 900 [0.16374065, 0.3247573, 1.5853666] loss= 0.95083433\n",
            "after round 910 [0.16238756, 0.32623997, 1.583694] loss= 0.95076567\n",
            "after round 920 [0.16111417, 0.32766333, 1.5821118] loss= 0.95070523\n",
            "after round 930 [0.15991403, 0.32902998, 1.5806161] loss= 0.9506493\n",
            "after round 940 [0.15878114, 0.33034298, 1.5792022] loss= 0.950599\n",
            "after round 950 [0.15770996, 0.33160588, 1.5778664] loss= 0.95055443\n",
            "after round 960 [0.15669514, 0.33282262, 1.5766041] loss= 0.95051336\n",
            "after round 970 [0.15573166, 0.3339972, 1.5754118] loss= 0.9504761\n",
            "after round 980 [0.15481469, 0.33513418, 1.5742855] loss= 0.950442\n",
            "after round 990 [0.15393949, 0.3362388, 1.5732214] loss= 0.95041114\n",
            "Final:\n",
            "[0.15318371, 0.33721024, 1.5723146]\n"
          ],
          "name": "stdout"
        },
        {
          "output_type": "execute_result",
          "data": {
            "text/plain": [
              "[<matplotlib.lines.Line2D at 0x7fb3d5e12c50>]"
            ]
          },
          "metadata": {
            "tags": []
          },
          "execution_count": 28
        },
        {
          "output_type": "display_data",
          "data": {
            "image/png": "[encoded data removed]",
            "text/plain": [
              "<Figure size 432x288 with 1 Axes>"
            ]
          },
          "metadata": {
            "tags": []
          }
        }
      ]
    },
    {
      "cell_type": "markdown",
      "metadata": {
        "id": "cVZna9rzMChC",
        "colab_type": "text"
      },
      "source": [
        "3D + color plot of the optimization\n",
        "=="
      ]
    },
    {
      "cell_type": "code",
      "metadata": {
        "id": "OVs1yU6fLo7O",
        "colab_type": "code",
        "outputId": "7d4eb42e-a404-4df8-ed6e-3d4f1bcb7d9d",
        "colab": {
          "base_uri": "https://localhost:8080/",
          "height": 256
        }
      },
      "source": [
        "from mpl_toolkits.mplot3d import Axes3D\n",
        "fig = plt.figure()\n",
        "ax = fig.add_subplot(111, projection='3d')\n",
        "\n",
        "x = list(map(lambda p: p[0], values))\n",
        "y = list(map(lambda p: p[1], values))\n",
        "z = list(map(lambda p: p[2], values))\n",
        "c = list(map(lambda p: p[3], values))\n",
        "\n",
        "img = ax.scatter(x, y, z, c=c, cmap=plt.hot())\n",
        "fig.colorbar(img)\n",
        "plt.show()"
      ],
      "execution_count": 0,
      "outputs": [
        {
          "output_type": "display_data",
          "data": {
            "image/png": "[encoded data removed]",
            "text/plain": [
              "<Figure size 432x288 with 2 Axes>"
            ]
          },
          "metadata": {
            "tags": []
          }
        }
      ]
    },
    {
      "cell_type": "markdown",
      "metadata": {
        "id": "oCek4Tnh-HCM",
        "colab_type": "text"
      },
      "source": [
        "One training gave the result: $\\lambda_1\\approx 0.2016$, $w\\approx 0.2432$, $l\\approx 1.8975$.\n",
        "\n",
        "Looks like we are bottoming out at a cross-entropy of about 1.1 on each review. From $-\\log(x)=1.1$, we have $x=e^{-1.1}\\approx 0.33$. So that's about as much entropy as if we predicted the probability of a true event at $1/3$.\n",
        "\n",
        "Questions:\n",
        "\n",
        "* What if I let this run longer?\n",
        "* Can I do constrained optimization in Tensorflow, so that $\\lambda$ in model below is fixed to positive?\n",
        "* Would other optimizers be faster?\n",
        "\n",
        "Extension ideas:\n",
        "\n",
        "* Use softplus or exp to coerce real numbers into positives \n",
        "* Would it be useful to model per-card state?\n",
        "* Compute test-set loss on a withheld set of cards\n",
        "* Operate on batches; construct one computation graph for one card, do not throw them all into the graph.\n",
        "* Anki's SR algorithm uses the *interval*, the *card difficulty* and the *number of last successful reviews*. Would integrating the number of last successful reviews into the model help?\n",
        "* It would be nice to get a visualization of how the probabilities look for a given card, with review points.\n",
        "* It might be helpful to distinguish between \"learn\" reviews, \"relearn\" reviews and others."
      ]
    },
    {
      "cell_type": "markdown",
      "metadata": {
        "id": "JuC5QxS-fysR",
        "colab_type": "text"
      },
      "source": [
        "Basic model - the same forgetting curve starting after every revision\n",
        "==="
      ]
    },
    {
      "cell_type": "markdown",
      "metadata": {
        "id": "fPokEB70-puc",
        "colab_type": "text"
      },
      "source": [
        "This one currently does not work, and tends to somehow run into NaN's. I should fix that at some point."
      ]
    },
    {
      "cell_type": "code",
      "metadata": {
        "id": "wIk8oIoiCFf_",
        "colab_type": "code",
        "outputId": "919ee459-fb3d-4f07-f42d-0f6fdaefa892",
        "colab": {
          "base_uri": "https://localhost:8080/",
          "height": 568
        }
      },
      "source": [
        "lambda1 = tf.Variable(1.0, name=\"lambda1\", trainable=True)\n",
        "variables = [lambda1]\n",
        "\n",
        "losses = []\n",
        "probabilities = []\n",
        "\n",
        "def build_losses_for_reviews(card_reviews):\n",
        "  l = lambda1\n",
        "  for index, row in card_reviews.iterrows():\n",
        "    #print(row)\n",
        "    diff_seconds = row['diff'].total_seconds()\n",
        "    diff_days = diff_seconds / 86400.0\n",
        "    current_probability = 0.9998 * tf.exp(-l * diff_days) + 0.0001\n",
        "    probabilities.append(current_probability)\n",
        "\n",
        "    if row['correct']:\n",
        "      # we predicted probability current_probability --> if it was 1, do nothing\n",
        "      loss_bit = -tf.log(current_probability)\n",
        "      losses.append(loss_bit)\n",
        "    else:\n",
        "      loss_bit = -tf.log(1.0 - current_probability)\n",
        "      losses.append(loss_bit)\n",
        "\n",
        "for card in get_sample_card_ids(10):\n",
        "  build_losses_for_reviews(get_card_reviews(card))\n",
        "\n",
        "loss = tf.reduce_sum(losses) / len(losses)\n",
        "opt = tf.train.GradientDescentOptimizer(learning_rate=0.001)\n",
        "train_op = opt.minimize(loss, var_list=variables)\n",
        "\n",
        "with tf.Session() as sess:\n",
        "  sess.run(tf.global_variables_initializer())\n",
        "  for i in range(100):\n",
        "    loss_value = sess.run(loss)\n",
        "    if np.isnan(loss_value):\n",
        "      print('Reached NaN!')\n",
        "    sess.run(train_op)\n",
        "    if i % 10 == 0:\n",
        "      print('Probs: ', sess.run(probabilities))\n",
        "      print('Loss: ', loss_value)\n",
        "      print(\"after round\", i, sess.run(variables))\n",
        "  "
      ],
      "execution_count": 0,
      "outputs": [
        {
          "output_type": "stream",
          "text": [
            "Probs:  [0.983854, 0.9731835, 0.6304561, 0.6378329, 0.00010707023, 0.00010000005, 1e-04, 0.9870601, 0.98080695, 0.00013492166, 0.8915018, 0.80357873, 0.11786603, 0.018518459, 0.0012241048, 0.9928614, 0.9825855, 0.33358455, 0.9917703, 0.9197108, 0.83498573, 0.08052481, 0.12274151, 0.062798, 0.0043989536, 0.00038960838, 0.000100002035, 1e-04, 1e-04, 0.9921068, 0.91639555, 1e-04, 1e-04, 1e-04, 0.94125444, 0.52467954, 0.00011422679, 1e-04, 1e-04, 0.99875134, 0.9923497, 0.98533535, 0.018801449, 0.0022194902, 0.000100337245, 1e-04, 1e-04, 0.9986431, 0.69440746, 0.6172623, 0.00010000204, 1e-04, 1e-04, 0.9929457, 0.6246892, 0.00010000494, 1e-04, 1e-04, 0.9922447, 0.95966107, 0.20310037, 0.05310323, 0.000100000056, 1e-04, 1e-04, 0.9995254, 0.9995709, 0.62954056, 0.014662209, 0.00034591663, 0.00010002474, 1e-04, 1e-04, 0.85582453, 0.89602727, 0.8652565, 0.00012321361, 0.992933, 0.99084216, 0.9657137, 0.00010600637, 0.98374814, 0.98277557, 0.15442748, 0.0008701521, 0.00022042947, 0.00010003694, 1e-04, 1e-04, 1e-04, 0.99916565, 0.99204767, 0.98255646, 0.000100376885, 0.00010000003, 1e-04, 1e-04, 0.98831, 0.8771266, 0.024217416, 1e-04, 1e-04]\n",
            "Loss:  4.0319557\n",
            "after round 0 [0.9993052]\n",
            "Probs:  [0.9839651, 0.9733676, 0.6324894, 0.639838, 0.00010768054, 0.000100000056, 1e-04, 0.98714924, 0.9809391, 0.00013751545, 0.89221627, 0.8048059, 0.11963778, 0.019039303, 0.0012786803, 0.9929103, 0.98270535, 0.33615074, 0.9918269, 0.9202476, 0.83603716, 0.0819524, 0.12455136, 0.06402197, 0.004565652, 0.0004065579, 0.00010000234, 1e-04, 1e-04, 0.992161, 0.91695374, 1e-04, 1e-04, 1e-04, 0.94165164, 0.5270469, 0.0001153796, 1e-04, 1e-04, 0.9987594, 0.99240226, 0.9854363, 0.019328244, 0.0023125743, 0.00010037422, 1e-04, 1e-04, 0.9986519, 0.69617724, 0.6193445, 0.000100002355, 1e-04, 1e-04, 0.99299407, 0.6267441, 0.00010000564, 1e-04, 1e-04, 0.9922979, 0.9599363, 0.20537262, 0.054201342, 0.00010000007, 1e-04, 1e-04, 0.99952805, 0.99957323, 0.63157725, 0.01509858, 0.0003606064, 0.00010002796, 1e-04, 1e-04, 0.8567547, 0.89671355, 0.86613065, 0.00012500901, 0.99298143, 0.9909051, 0.9659482, 0.00010653229, 0.98386, 0.9828941, 0.15645386, 0.0009096781, 0.00022826108, 0.00010004163, 1e-04, 1e-04, 1e-04, 0.9991708, 0.99210227, 0.98267657, 0.000100417885, 0.00010000003, 1e-04, 1e-04, 0.98839045, 0.87792915, 0.024852784, 1e-04, 1e-04]\n",
            "Loss:  4.027094\n",
            "after round 10 [0.99232846]\n",
            "Probs:  [0.9840771, 0.97355294, 0.63454455, 0.64186454, 0.000108348744, 0.00010000007, 1e-04, 0.9872389, 0.98107207, 0.00014032371, 0.8929367, 0.8060443, 0.12144981, 0.019578962, 0.0013363472, 0.9929597, 0.98282605, 0.33875608, 0.9918839, 0.92078894, 0.83709776, 0.08341639, 0.12640184, 0.06527931, 0.004740146, 0.00042463842, 0.0001000027, 1e-04, 1e-04, 0.9922156, 0.91751635, 1e-04, 1e-04, 1e-04, 0.9420521, 0.52944297, 0.00011663557, 1e-04, 1e-04, 0.99876744, 0.9924551, 0.985538, 0.019874016, 0.0024104947, 0.00010041558, 1e-04, 1e-04, 0.99866074, 0.69796497, 0.62144935, 0.00010000271, 1e-04, 1e-04, 0.9930428, 0.6288213, 0.00010000646, 1e-04, 1e-04, 0.9923516, 0.9602137, 0.20768766, 0.055330735, 0.00010000008, 1e-04, 1e-04, 0.9995307, 0.99957556, 0.633636, 0.015551467, 0.00037629457, 0.000100031626, 1e-04, 1e-04, 0.85769284, 0.8974057, 0.8670122, 0.00012695839, 0.99303025, 0.9909686, 0.9661846, 0.00010710874, 0.9839727, 0.98301363, 0.15852241, 0.0009515539, 0.00023666673, 0.00010004696, 1e-04, 1e-04, 1e-04, 0.99917597, 0.9921573, 0.9827975, 0.00010046371, 0.000100000034, 1e-04, 1e-04, 0.9884715, 0.8787385, 0.025509862, 1e-04, 1e-04]\n",
            "Loss:  4.022158\n",
            "after round 20 [0.9852992]\n",
            "Probs:  [0.9841899, 0.9737399, 0.6366221, 0.64391303, 0.00010908081, 0.000100000085, 1e-04, 0.98732936, 0.9812062, 0.00014336582, 0.89366317, 0.80729383, 0.12330339, 0.020138264, 0.0013973047, 0.99300945, 0.9829478, 0.34140173, 0.9919413, 0.92133474, 0.83816785, 0.08491796, 0.12829417, 0.0665712, 0.0049228556, 0.00044393467, 0.000100003104, 1e-04, 1e-04, 0.9922706, 0.91808367, 1e-04, 1e-04, 1e-04, 0.9424558, 0.5318682, 0.00011800485, 1e-04, 1e-04, 0.99877554, 0.9925085, 0.9856405, 0.020439593, 0.0025135402, 0.000100461875, 1e-04, 1e-04, 0.9986696, 0.6997708, 0.62357754, 0.00010000312, 1e-04, 1e-04, 0.993092, 0.6309212, 0.0001000074, 1e-04, 1e-04, 0.9924056, 0.9604933, 0.21004666, 0.05649254, 0.00010000009, 1e-04, 1e-04, 0.99953336, 0.9995779, 0.6357171, 0.016021611, 0.00039305686, 0.00010003581, 1e-04, 1e-04, 0.8586392, 0.8981036, 0.8679014, 0.00012907624, 0.99307954, 0.9910325, 0.9664228, 0.00010774103, 0.98408633, 0.983134, 0.1606343, 0.0009959375, 0.0002456934, 0.00010005301, 1e-04, 1e-04, 1e-04, 0.99918115, 0.9922128, 0.9829194, 0.00010051496, 0.00010000004, 1e-04, 1e-04, 0.98855317, 0.8795548, 0.02618956, 1e-04, 1e-04]\n",
            "Loss:  4.017148\n",
            "after round 30 [0.9782167]\n",
            "Probs:  [0.9843036, 0.9739283, 0.6387224, 0.64598376, 0.00010988343, 0.0001000001, 1e-04, 0.9874205, 0.9813412, 0.00014666346, 0.8943958, 0.80855507, 0.12519976, 0.020718098, 0.0014617703, 0.9930595, 0.98307043, 0.3440885, 0.99199915, 0.92188495, 0.8392474, 0.08645842, 0.13022967, 0.067898884, 0.005114245, 0.0004645392, 0.000100003585, 1e-04, 1e-04, 0.9923261, 0.9186556, 1e-04, 1e-04, 1e-04, 0.94286263, 0.53432316, 0.00011949864, 1e-04, 1e-04, 0.99878377, 0.9925622, 0.9857438, 0.021025864, 0.0026220244, 0.00010051374, 1e-04, 1e-04, 0.99867857, 0.70159525, 0.6257293, 0.0001000036, 1e-04, 1e-04, 0.9931415, 0.63304424, 0.00010000848, 1e-04, 1e-04, 0.9924601, 0.9607751, 0.21245088, 0.05768797, 0.000100000114, 1e-04, 1e-04, 0.99953604, 0.99958014, 0.637821, 0.016509835, 0.0004109763, 0.00010004058, 1e-04, 1e-04, 0.85959387, 0.89880735, 0.86879826, 0.00013137865, 0.9931292, 0.9910969, 0.966663, 0.00010843505, 0.9842008, 0.98325527, 0.16279085, 0.0010430014, 0.00025539228, 0.0001000599, 1e-04, 1e-04, 1e-04, 0.99918634, 0.9922686, 0.98304224, 0.00010057233, 0.00010000005, 1e-04, 1e-04, 0.98863554, 0.88037807, 0.026892867, 1e-04, 1e-04]\n",
            "Loss:  4.01206\n",
            "after round 40 [0.97107995]\n",
            "Probs:  [0.9844183, 0.9741182, 0.64084595, 0.64807713, 0.00011076402, 0.000100000114, 1e-04, 0.9875124, 0.98147744, 0.00015024022, 0.89513475, 0.809828, 0.12714028, 0.021319363, 0.0015299724, 0.99311006, 0.983194, 0.34681734, 0.9920573, 0.9224397, 0.8403367, 0.08803901, 0.13220967, 0.06926363, 0.005314793, 0.0004865511, 0.00010000414, 1e-04, 1e-04, 0.99238193, 0.9192323, 1e-04, 1e-04, 1e-04, 0.9432729, 0.5368086, 0.000121129306, 1e-04, 1e-04, 0.99879205, 0.99261636, 0.98584795, 0.021633746, 0.0027362758, 0.0001005719, 1e-04, 1e-04, 0.9986876, 0.7034386, 0.6279052, 0.00010000416, 1e-04, 1e-04, 0.99319136, 0.63519084, 0.00010000973, 1e-04, 1e-04, 0.992515, 0.9610591, 0.21490142, 0.05891823, 0.000100000136, 1e-04, 1e-04, 0.9995387, 0.9995826, 0.6399483, 0.017016955, 0.0004301422, 0.00010004603, 1e-04, 1e-04, 0.8605569, 0.8995172, 0.869703, 0.00013388324, 0.99317914, 0.9911618, 0.9669051, 0.00010919737, 0.9843161, 0.9833775, 0.16499332, 0.0010929285, 0.0002658192, 0.00010006775, 1e-04, 1e-04, 1e-04, 0.99919164, 0.9923249, 0.983166, 0.00010063662, 0.00010000006, 1e-04, 1e-04, 0.98871845, 0.8812084, 0.027620759, 1e-04, 1e-04]\n",
            "Loss:  4.006894\n",
            "after round 50 [0.9638882]\n",
            "Probs:  [0.98453385, 0.97430944, 0.64299315, 0.65019363, 0.00011173085, 0.000100000136, 1e-04, 0.9876049, 0.98161465, 0.00015412219, 0.89588, 0.8111129, 0.12912637, 0.021943051, 0.0016021611, 0.9931609, 0.98331857, 0.34958932, 0.99211615, 0.92299914, 0.84143597, 0.0896612, 0.13423552, 0.07066678, 0.005525015, 0.00051007903, 0.000100004785, 1e-04, 1e-04, 0.99243826, 0.91981393, 1e-04, 1e-04, 1e-04, 0.9436865, 0.53932506, 0.00012291066, 1e-04, 1e-04, 0.9988004, 0.9926709, 0.9859529, 0.022264224, 0.0028566543, 0.000100637175, 1e-04, 1e-04, 0.99869674, 0.70530117, 0.6301056, 0.00010000481, 1e-04, 1e-04, 0.99324155, 0.6373616, 0.00010001118, 1e-04, 1e-04, 0.9925703, 0.9613455, 0.21739964, 0.060184646, 0.00010000016, 1e-04, 1e-04, 0.9995414, 0.999585, 0.6420992, 0.01754388, 0.00045065233, 0.00010005227, 1e-04, 1e-04, 0.86152846, 0.900233, 0.8706158, 0.00013660963, 0.9932294, 0.99122715, 0.967149, 0.00011003534, 0.98443234, 0.9835007, 0.16724306, 0.0011459189, 0.00027703505, 0.00010007671, 1e-04, 1e-04, 1e-04, 0.999197, 0.9923817, 0.9832908, 0.00010070871, 0.00010000007, 1e-04, 1e-04, 0.9888021, 0.8820461, 0.028374324, 1e-04, 1e-04]\n",
            "Loss:  4.001647\n",
            "after round 60 [0.9566406]\n",
            "Probs:  [0.9846502, 0.9745023, 0.64516443, 0.65233374, 0.00011279314, 0.000100000165, 1e-04, 0.98769826, 0.98175305, 0.00015833817, 0.8966318, 0.81240976, 0.13115942, 0.02259018, 0.0016786045, 0.99321216, 0.98344415, 0.3524055, 0.99217534, 0.92356324, 0.8425452, 0.09132635, 0.13630868, 0.07210974, 0.0057454607, 0.0005352407, 0.00010000554, 1e-04, 1e-04, 0.992495, 0.92040044, 1e-04, 1e-04, 1e-04, 0.9441035, 0.54187316, 0.00012485795, 1e-04, 1e-04, 0.9988088, 0.9927259, 0.9860586, 0.022918325, 0.0029835375, 0.00010071051, 1e-04, 1e-04, 0.998706, 0.70718324, 0.63233113, 0.00010000556, 1e-04, 1e-04, 0.9932923, 0.63955677, 0.00010001286, 1e-04, 1e-04, 0.992626, 0.96163416, 0.21994688, 0.0614886, 0.00010000019, 1e-04, 1e-04, 0.99954414, 0.99958736, 0.6442743, 0.018091543, 0.00047261282, 0.000100059406, 1e-04, 1e-04, 0.8625089, 0.9009551, 0.8715367, 0.00013957938, 0.99328023, 0.99129313, 0.96739495, 0.00011095715, 0.9845496, 0.9836249, 0.16954154, 0.0012021863, 0.00028910674, 0.00010008693, 1e-04, 1e-04, 1e-04, 0.9992024, 0.99243885, 0.9834165, 0.00010078963, 0.00010000009, 1e-04, 1e-04, 0.9888863, 0.8828912, 0.029154675, 1e-04, 1e-04]\n",
            "Loss:  3.996318\n",
            "after round 70 [0.9493361]\n",
            "Probs:  [0.9847676, 0.9746968, 0.6473603, 0.654498, 0.000113961236, 0.000100000194, 1e-04, 0.9877923, 0.9818924, 0.00016292004, 0.8973901, 0.81371915, 0.13324106, 0.02326185, 0.0017595915, 0.9932639, 0.98357075, 0.35526696, 0.992235, 0.9241323, 0.8436648, 0.09303606, 0.13843074, 0.073594, 0.005976722, 0.0005621648, 0.00010000642, 1e-04, 1e-04, 0.9925523, 0.92099196, 1e-04, 1e-04, 1e-04, 0.944524, 0.5444536, 0.00012698825, 1e-04, 1e-04, 0.9988172, 0.9927814, 0.98616517, 0.023597151, 0.003117341, 0.00010079296, 1e-04, 1e-04, 0.9987152, 0.7090854, 0.6345822, 0.00010000645, 1e-04, 1e-04, 0.99334335, 0.6417771, 0.000100014804, 1e-04, 1e-04, 0.9926823, 0.96192527, 0.22254454, 0.062831536, 0.00010000022, 1e-04, 1e-04, 0.99954695, 0.99958974, 0.6464741, 0.018660963, 0.00049613987, 0.00010006759, 1e-04, 1e-04, 0.86349815, 0.90168345, 0.87246585, 0.00014281654, 0.9933314, 0.99135965, 0.9676429, 0.00011197199, 0.9846677, 0.9837501, 0.17189023, 0.0012619648, 0.00030210734, 0.000100098616, 1e-04, 1e-04, 1e-04, 0.99920774, 0.9924965, 0.9835433, 0.00010088054, 0.00010000011, 1e-04, 1e-04, 0.9889713, 0.8837437, 0.02996302, 1e-04, 1e-04]\n",
            "Loss:  3.9909039\n",
            "after round 80 [0.9419736]\n",
            "Probs:  [0.9848859, 0.9748929, 0.64958143, 0.6566869, 0.00011524663, 0.00010000024, 1e-04, 0.9878871, 0.9820331, 0.00016790276, 0.89815515, 0.815041, 0.1353728, 0.023959193, 0.0018454314, 0.993316, 0.9836983, 0.35817486, 0.9922952, 0.92470616, 0.8447948, 0.09479189, 0.14060324, 0.07512112, 0.006219423, 0.0005909902, 0.00010000745, 1e-04, 1e-04, 0.99260986, 0.9215886, 1e-04, 1e-04, 1e-04, 0.944948, 0.5470673, 0.0001293204, 1e-04, 1e-04, 0.9988257, 0.99283725, 0.9862727, 0.024301847, 0.0032584965, 0.00010088576, 1e-04, 1e-04, 0.9987245, 0.71100795, 0.63685954, 0.000100007484, 1e-04, 1e-04, 0.9933949, 0.64402294, 0.00010001707, 1e-04, 1e-04, 0.9927389, 0.9622187, 0.22519405, 0.06421494, 0.00010000027, 1e-04, 1e-04, 0.9995497, 0.99959224, 0.6486992, 0.019253172, 0.0005213584, 0.00010007698, 1e-04, 1e-04, 0.8644965, 0.9024182, 0.8734034, 0.00014634764, 0.993383, 0.9914266, 0.96789294, 0.00011309008, 0.9847868, 0.9838763, 0.17429066, 0.0013255026, 0.00031611643, 0.000100111974, 1e-04, 1e-04, 1e-04, 0.9992132, 0.9925546, 0.98367107, 0.00010098278, 0.00010000013, 1e-04, 1e-04, 0.9890569, 0.8846039, 0.030800594, 1e-04, 1e-04]\n",
            "Loss:  3.9854028\n",
            "after round 90 [0.93455225]\n"
          ],
          "name": "stdout"
        }
      ]
    },
    {
      "cell_type": "markdown",
      "metadata": {
        "id": "pmVbHgRixgUA",
        "colab_type": "text"
      },
      "source": [
        "Modelling with a sigmoid\n",
        "==\n",
        "\n",
        "Sigmoids are easy to use with cross-entropy. Let's just train a sigmoid."
      ]
    },
    {
      "cell_type": "code",
      "metadata": {
        "id": "0EuLQEX6vG7g",
        "colab_type": "code",
        "colab": {
          "base_uri": "https://localhost:8080/",
          "height": 579
        },
        "outputId": "11115e42-4053-41ec-a547-7fb4275ae2e8"
      },
      "source": [
        "# Train with a sigmoid\n",
        "\n",
        "w1 = tf.Variable(1.0, name=\"w1\", trainable=True)\n",
        "w2 = tf.Variable(1.0, name=\"w2\", trainable=True)\n",
        "\n",
        "win_p = tf.Variable(1.0)\n",
        "loss_p = tf.Variable(1.0)\n",
        "variables = [w1, w2]\n",
        "\n",
        "#l = lambda1\n",
        "losses = []\n",
        "probabilities = []\n",
        "\n",
        "def build_losses_for_reviews(card_reviews):\n",
        "  #l = lambda1\n",
        "  for index, row in card_reviews.iterrows():\n",
        "    #print(row)\n",
        "    diff_seconds = row['diff'].total_seconds()\n",
        "    diff_days = diff_seconds / 86400.0\n",
        "    current_probability = tf.sigmoid(w1 * diff_days + w2)\n",
        "    probabilities.append(current_probability)\n",
        "\n",
        "    is_true = (1. if row['correct'] else 0.)\n",
        "    loss_bit = tf.nn.sigmoid_cross_entropy_with_logits(labels=is_true, logits=(w1 * diff_days + w2))\n",
        "    losses.append(loss_bit)\n",
        "      \n",
        "from IPython.display import HTML, display\n",
        "\n",
        "def progress(value, max=100):\n",
        "    return HTML(\"\"\"\n",
        "        <progress value='{value}' max='{max}' style='width: 100%'>\n",
        "            {value}\n",
        "        </progress>\n",
        "    \"\"\".format(value=value, max=max))\n",
        "\n",
        "out = display(progress(0, num_cards), display_id=True)\n",
        "for i, card in enumerate(get_sample_card_ids(num_cards)):\n",
        "  build_losses_for_reviews(get_card_reviews(card))\n",
        "  out.update(progress(i, num_cards))\n",
        "out.update(HTML(\"Losses for reviews built.\"))\n",
        "\n",
        "loss = tf.reduce_sum(losses) / len(losses)\n",
        "# Making training rate higher than 0.01 leads to shooting out to NaNs.\n",
        "opt = tf.train.GradientDescentOptimizer(learning_rate=0.01)\n",
        "train_op = opt.minimize(loss, var_list=variables)\n",
        "\n",
        "losses = []\n",
        "values = []\n",
        "\n",
        "with tf.Session() as sess:\n",
        "  sess.run(tf.global_variables_initializer())\n",
        " \n",
        "  epoch_progress = display(progress(0, epochs), display_id=True)\n",
        "  for i in range(epochs):\n",
        "    metadata = tf.RunMetadata()\n",
        "    sess.run(train_op)\n",
        "    epoch_progress.update(progress(i, epochs))\n",
        "    vars_value = sess.run(variables)\n",
        "    loss_value = sess.run(loss)\n",
        "    if i % 10 == 0:\n",
        "      print(\"after round\", i, vars_value, \"loss=\", loss_value)\n",
        "      values.append(tuple(vars_value + [loss_value]))\n",
        "    losses.append(loss_value)\n",
        "  \n",
        "  print('Final:')\n",
        "  print(sess.run(variables))\n",
        "  print('Probs: ', sess.run(probabilities))\n",
        "#  print('Loss: ', sess.run(loss))\n",
        "\n",
        "plt.plot(range(epochs), losses)\n",
        "    "
      ],
      "execution_count": 46,
      "outputs": [
        {
          "output_type": "display_data",
          "data": {
            "text/html": [
              "Losses for reviews built."
            ],
            "text/plain": [
              "<IPython.core.display.HTML object>"
            ]
          },
          "metadata": {
            "tags": []
          }
        },
        {
          "output_type": "display_data",
          "data": {
            "text/html": [
              "\n",
              "        <progress value='99' max='100' style='width: 100%'>\n",
              "            99\n",
              "        </progress>\n",
              "    "
            ],
            "text/plain": [
              "<IPython.core.display.HTML object>"
            ]
          },
          "metadata": {
            "tags": []
          }
        },
        {
          "output_type": "stream",
          "text": [
            "after round 0 [0.9687982, 0.99938804] loss= 3.350845\n",
            "after round 10 [0.65739787, 0.9936453] loss= 2.3810334\n",
            "after round 20 [0.3485258, 0.9889367] loss= 1.4275074\n",
            "after round 30 [0.053833842, 0.98683864] loss= 0.5648599\n",
            "after round 40 [0.0041007116, 0.9924036] loss= 0.47817466\n",
            "after round 50 [0.0083845705, 0.9982973] loss= 0.47553965\n",
            "after round 60 [0.020296237, 1.0043392] loss= 0.4889454\n",
            "after round 70 [0.0017856251, 1.0098119] loss= 0.48181745\n",
            "after round 80 [0.001695507, 1.0153434] loss= 0.48164123\n",
            "after round 90 [0.0047614984, 1.0208617] loss= 0.47535044\n",
            "Final:\n",
            "[0.006101712, 1.0256704]\n",
            "Probs:  [0.73609483, 0.7361078, 0.73662245, 0.7366087, 0.7499008, 0.7632132, 0.7921574, 0.736091, 0.7360985, 0.74806726, 0.7362118, 0.73633486, 0.7386049, 0.7407862, 0.7440514, 0.73608404, 0.7360964, 0.737376, 0.73608536, 0.7361748, 0.73628944, 0.73905426, 0.73855704, 0.7393474, 0.74248844, 0.7456252, 0.75911963, 0.775329, 0.79833007, 0.73608494, 0.7361791, 0.77535546, 0.8445208, 0.8987811, 0.73614734, 0.73684, 0.74909925, 0.7786624, 0.85954374, 0.736077, 0.73608464, 0.7360931, 0.7407683, 0.74331325, 0.7533692, 0.7784334, 0.8313471, 0.73607713, 0.736508, 0.7366475, 0.7591138, 0.8033028, 0.8471983, 0.7360839, 0.73663336, 0.7581288, 0.8132632, 0.89988256, 0.7360848, 0.73612434, 0.7379625, 0.7395449, 0.7630509, 0.779733, 0.8404453, 0.7360761, 0.736076, 0.7366241, 0.74106157, 0.74581456, 0.7563207, 0.78485906, 0.8350286, 0.7362602, 0.73620576, 0.73624724, 0.74853694, 0.7360839, 0.7360865, 0.7361169, 0.7500875, 0.73609495, 0.7360962, 0.738286, 0.74449086, 0.7466401, 0.7558695, 0.7708296, 0.789345, 0.7963168, 0.73607653, 0.736085, 0.73609644, 0.753243, 0.7639134, 0.8539023, 0.9139233, 0.73608947, 0.7362311, 0.74047, 0.7940534, 0.93884206, 0.7360785, 0.7360771, 0.7360767, 0.73607665, 0.73607695, 0.7360767, 0.73608214, 0.7360787, 0.7360782, 0.73607695, 0.7360782, 0.7360767, 0.7360767, 0.7361065, 0.7360954, 0.7360927, 0.7360815, 0.73607916, 0.73607665, 0.73607975, 0.73607796, 0.7360779, 0.73607725, 0.7360867, 0.7360776, 0.7360768, 0.736087, 0.73607695, 0.7360824, 0.73607945, 0.7360781, 0.7360871, 0.7360819, 0.7360793, 0.73607785, 0.7360788, 0.7360773, 0.73607665, 0.73608834, 0.73609567, 0.739565, 0.7365438, 0.7361249, 0.7386995, 0.73628867, 0.743186, 0.7479333, 0.7815527, 0.8449914, 0.7360996, 0.73612076, 0.7839305, 0.73608947, 0.7360969, 0.7397262, 0.751181, 0.7534734, 0.93585473, 0.7360971, 0.7361329, 0.7414589, 0.74670064, 0.7509177, 0.76293117, 0.7825784, 0.85673493, 0.7360767, 0.73615646, 0.7360793, 0.736077, 0.7360854, 0.7364914, 0.7440431, 0.73628443, 0.73632056, 0.73615444, 0.73643374, 0.73608404, 0.73726, 0.7362302, 0.73611295, 0.7367432, 0.7410463, 0.7360843, 0.7360869, 0.73609656, 0.736097, 0.73844504, 0.7380808, 0.74229544, 0.7488627, 0.75688195, 0.7360841, 0.73630387, 0.7378967, 0.73903275, 0.74127704, 0.74418175, 0.7360969, 0.73608416, 0.7361901, 0.7367451, 0.74036086, 0.7360854, 0.73612916, 0.7360854, 0.7363725, 0.73608583, 0.7364032, 0.73782194, 0.7375959, 0.7427525, 0.7443873, 0.7431206, 0.7431216, 0.74244326, 0.74362165, 0.7433536, 0.74537313, 0.7452579, 0.7462908, 0.7504322, 0.7524909, 0.7512067, 0.73612815, 0.73609436, 0.7365778, 0.7421275, 0.74339134, 0.7382464, 0.74627256, 0.7411316, 0.7574615, 0.757144, 0.78373724, 0.73608553, 0.7402607, 0.74918896, 0.73620754, 0.73655826, 0.73840064, 0.7377714, 0.7363799, 0.7360923, 0.73609203, 0.73609954, 0.7454303, 0.75171334, 0.73608613, 0.736104, 0.7490952, 0.7522648, 0.76122284, 0.7361219, 0.7360932, 0.74004596, 0.7404831, 0.7360839, 0.7360939, 0.73704755, 0.74018794, 0.74087954, 0.7446277, 0.751498, 0.73608404, 0.7360968, 0.7377011, 0.7394035, 0.7394244, 0.7403062, 0.7432191, 0.7462705, 0.75572747, 0.7673943, 0.78991127, 0.7415836, 0.7551606, 0.7716162, 0.83924645, 0.73608834, 0.74022114, 0.77727693, 0.809161, 0.88744694, 0.96469516, 0.73607874, 0.7360849, 0.73609406, 0.74210304, 0.7650187, 0.73650455, 0.73609895, 0.7443906, 0.73619425, 0.7360979, 0.742429, 0.7363538, 0.7362718, 0.73890513, 0.74824107, 0.8406696, 0.95471686, 0.7361029, 0.7360979, 0.7369386, 0.73949313, 0.74530655, 0.7403786, 0.7360843, 0.73609626, 0.7373307, 0.7361381, 0.73807466, 0.7422947, 0.73639965, 0.73610055, 0.7624947, 0.85312027, 0.8959237, 0.73663163, 0.73653734, 0.7454767, 0.77317625, 0.82910967, 0.89665496, 0.7360968, 0.7361139, 0.73641115, 0.7478918, 0.75027424, 0.75731903, 0.7837367, 0.8346879, 0.73607767, 0.7416748, 0.7511828, 0.7360757, 0.7361369, 0.73697454, 0.7407103, 0.7492734, 0.7619906, 0.87066585, 0.88052946, 0.8968475, 0.73608005, 0.7360856, 0.7360948, 0.73896885, 0.73616445, 0.7366728, 0.9856059, 0.73607653, 0.7415845, 0.747639, 0.7655822, 0.81552774, 0.7377849, 0.7367395, 0.75683254, 0.8164453, 0.7361127, 0.73641473, 0.7439647, 0.75745606, 0.758558, 0.7801975, 0.8123856, 0.898496, 0.73607665, 0.736087, 0.736144, 0.7632917, 0.8594311, 0.9030281, 0.73733646, 0.738417, 0.85712475, 0.736085, 0.73610944, 0.74644196, 0.7547413, 0.7871658, 0.83629173, 0.73608166, 0.7360911, 0.73609424, 0.74269885, 0.73608595, 0.73609495, 0.73625535, 0.7523803, 0.7360914, 0.736086, 0.73613614, 0.7396396, 0.7422657, 0.74292517, 0.7360852, 0.7372029, 0.74627024, 0.86160725, 0.7360864, 0.73628265, 0.7365221, 0.73845714, 0.742276, 0.77199703, 0.9452276, 0.8539533, 0.7360839, 0.7361394, 0.73610395, 0.7623082, 0.73608524, 0.73611104, 0.7360957, 0.7361378, 0.73827434, 0.7384972, 0.7395228, 0.7402652, 0.744286, 0.7506255, 0.7573425, 0.7663068, 0.7711493, 0.7360768, 0.7360767, 0.7360784, 0.7360803, 0.73610276, 0.73654073, 0.73607737, 0.7360767, 0.73607653, 0.73607695, 0.7360772, 0.73607665, 0.73607695, 0.7360769, 0.73607916, 0.73607695, 0.7360864, 0.73607653, 0.7360843, 0.7364846, 0.73826826, 0.7360851, 0.7360932, 0.73865414, 0.7360855, 0.7366658, 0.73921317, 0.73609143, 0.736097, 0.7396212, 0.74421984, 0.73608536, 0.73712105, 0.7370229, 0.7397053, 0.7438258, 0.7458026, 0.73654413, 0.74103683, 0.7431784, 0.75057906, 0.7573481, 0.77663, 0.7362256, 0.7362268, 0.7436303, 0.7529641, 0.7653637, 0.73620546, 0.7366069, 0.7728719, 0.84256345, 0.89127755, 0.7372403, 0.7527525, 0.73607737, 0.7360768, 0.73616743, 0.7361178, 0.73607814, 0.73665947, 0.7361998, 0.73609394, 0.73854524, 0.736084, 0.7361027, 0.73608536, 0.73608774, 0.73609924, 0.7392915, 0.73610663, 0.73619694, 0.7378908, 0.7413928, 0.7406891, 0.7360843, 0.736085, 0.7360958, 0.7361656, 0.7363699, 0.73678905, 0.7385317, 0.7414248, 0.7422902, 0.7439533, 0.7454308, 0.73608506, 0.7360974, 0.7391836, 0.73608404, 0.736142, 0.7361013, 0.73929614, 0.74262494, 0.74198604, 0.7446033, 0.736085, 0.7363091, 0.7399143, 0.7383035, 0.7415574, 0.74474335, 0.7466909, 0.74687326, 0.7509167, 0.7505457, 0.75525415, 0.751963, 0.74070483, 0.75105757, 0.7723779, 0.8204299, 0.91144806, 0.9298644, 0.7360768, 0.7366215, 0.7361142, 0.73745424, 0.7410207, 0.74456096, 0.73712987, 0.7361032, 0.73616016, 0.73644334, 0.7401692, 0.7662064, 0.85437256, 0.89642584, 0.9777175, 0.7364689, 0.73610497, 0.75174797, 0.79689586, 0.8451866, 0.7360911, 0.7360927, 0.7559045, 0.81828886, 0.9005474, 0.7428905, 0.75340235, 0.7360862, 0.73629284, 0.763767, 0.85949785, 0.90384334, 0.736329, 0.73607725, 0.7360852, 0.7360925, 0.7464641, 0.736084, 0.736253, 0.73608595, 0.7360945, 0.74021125, 0.7692053, 0.7360867, 0.7360849, 0.7366165, 0.8269802, 0.856578, 0.9225113, 0.73667943, 0.73614055, 0.74256504, 0.7498108, 0.7767535, 0.8606554, 0.9527659, 0.73608196, 0.7360852, 0.7362249, 0.73797125, 0.7394972, 0.7441596, 0.7433232, 0.7567517, 0.7739731, 0.845698, 0.9236001, 0.73609734, 0.7361108, 0.7364036, 0.7363371, 0.7477421, 0.736084, 0.7360855, 0.7360949, 0.7419909, 0.7499563, 0.7585196, 0.78499866, 0.73608595, 0.73618114, 0.73860204, 0.73643947, 0.7407849, 0.73608893, 0.7360882, 0.7363821, 0.73691845, 0.7384593, 0.74081, 0.74313074, 0.7554428, 0.73609173, 0.7360989, 0.73951274, 0.73608947, 0.73610514, 0.73608476, 0.7360973, 0.73649764, 0.74035317, 0.73655486, 0.74027956, 0.7360896, 0.73673904, 0.7380878, 0.741639, 0.7402392, 0.74058384, 0.74382675, 0.7478976, 0.7487729, 0.75300837, 0.75397474, 0.73608756, 0.7361126, 0.7366339, 0.74195224, 0.739065, 0.7413504, 0.74316806, 0.73984176, 0.73608524, 0.73619604, 0.7368635, 0.74078184, 0.73607874, 0.73713005, 0.7385373, 0.736106, 0.7360774, 0.7393885, 0.76929605, 0.8600208, 0.91430324, 0.7360854, 0.7365877, 0.7372492, 0.73953944, 0.7455529, 0.76685655, 0.8581178, 0.9652835, 0.73607695, 0.7360862, 0.736089, 0.74556553, 0.73608404, 0.73609436, 0.74053544, 0.7589258, 0.835098, 0.86715734, 0.89969987, 0.89550096, 0.7387023, 0.7418613, 0.7513277, 0.77111876, 0.86823004, 0.96081007, 0.7360945, 0.73720217, 0.7652957, 0.8600152, 0.9073938, 0.736268, 0.73608613, 0.73722297, 0.7396809, 0.74283665, 0.75072265, 0.7705109, 0.823232, 0.7473799, 0.7687653, 0.81271225, 0.89746094, 0.9810481, 0.7422755, 0.7563106, 0.9899637, 0.7360771, 0.7361353, 0.73629415, 0.7419708, 0.9853828, 0.73709834, 0.736199, 0.7406344, 0.7499024, 0.77819145, 0.81790036, 0.7361059, 0.7366735, 0.7367076, 0.76149684, 0.8554946, 0.8067883, 0.87772477, 0.9582337, 0.7360768, 0.7360848, 0.73627234, 0.74092734, 0.75116754, 0.7610935, 0.79194593, 0.8571468, 0.7431333, 0.7569913, 0.78829587, 0.73608595, 0.7361032, 0.7427314, 0.74957, 0.77653754, 0.8601435, 0.9730619, 0.7363151, 0.7361016, 0.73610204, 0.7369071, 0.73743606, 0.74085885, 0.7465762, 0.7369627, 0.7590143, 0.8008175, 0.8992916, 0.7363385, 0.7362998, 0.8170393, 0.9013162, 0.7412888, 0.7534664, 0.7915451, 0.7364092, 0.7361075, 0.7360863, 0.7365683, 0.7379668, 0.742726, 0.76851046, 0.7647071, 0.8413485, 0.8731955, 0.9537778, 0.7413162, 0.74549407, 0.7651565, 0.81368697, 0.74743915, 0.7754334, 0.9206634, 0.7360766, 0.73618764, 0.7363099, 0.73731554, 0.7392396, 0.7410134, 0.7393758, 0.74135554, 0.75074387, 0.73608893, 0.73616433, 0.7377371, 0.73892623, 0.7406612, 0.73996466, 0.7555244, 0.7502767, 0.7553576, 0.7569324, 0.7597644, 0.76231444, 0.73616314, 0.7361021, 0.73615986, 0.7361592, 0.7389978, 0.7434693, 0.7536837, 0.77241135, 0.7998739, 0.73649704, 0.73607665, 0.73607963, 0.73607653, 0.7360844, 0.73650837, 0.7360934, 0.7360776, 0.73677534, 0.73609424, 0.738045, 0.7393476, 0.7418454, 0.736087, 0.7360843, 0.73740155, 0.7402308, 0.73607785, 0.73608124, 0.73609394, 0.7384043, 0.7409062, 0.74534744, 0.75810295, 0.7360848, 0.736096, 0.74024767, 0.74174076, 0.7471192, 0.7701939, 0.8454581, 0.91178757, 0.736077, 0.7363687, 0.73608476, 0.738185, 0.7370335, 0.73745453, 0.7441503, 0.73618686, 0.73755944, 0.738949, 0.7422306, 0.7510462, 0.7360878, 0.7360878, 0.7455667, 0.77352357, 0.8286932, 0.89208764, 0.9767666, 0.7365093, 0.7361097, 0.76342607, 0.73608613, 0.7360959, 0.74158436, 0.7454897, 0.7542198, 0.8407956, 0.86708003, 0.91232425, 0.7401487, 0.74394006, 0.73607886, 0.73607796, 0.7360846, 0.73618925, 0.7389279, 0.7444068, 0.74785227, 0.7360846, 0.73611563, 0.7378984, 0.7422373, 0.7465981, 0.75861496, 0.79044116, 0.8386921, 0.7360856, 0.7362054, 0.73796463, 0.76184607, 0.7360768, 0.7360862, 0.73610085, 0.7386898, 0.7384857, 0.7406215, 0.7447526, 0.76903814, 0.8100986, 0.73608416, 0.73610276, 0.7487127, 0.7360883, 0.73608595, 0.7360948, 0.7371013, 0.7382472, 0.741879, 0.7479035, 0.73608756, 0.7361407, 0.7368475, 0.7460194, 0.75446457, 0.77560425, 0.82728386, 0.7360767, 0.7360882, 0.73610467, 0.74991965, 0.74462736, 0.77233523, 0.8601923, 0.91284984, 0.7360781, 0.7361022, 0.73626065, 0.73955476, 0.74451673, 0.73632336, 0.7361452, 0.7361572, 0.73609096, 0.7360996, 0.73609066, 0.7361229, 0.7361454, 0.73612624, 0.7364502, 0.7361414, 0.7365143, 0.73610985, 0.7895377, 0.7360843, 0.7365709, 0.7574258, 0.7360911, 0.73608446, 0.73953545, 0.73610234, 0.7360947, 0.73661256, 0.7360993, 0.8514871, 0.73609143, 0.7361359, 0.7418062, 0.7361149, 0.73608404, 0.7382534, 0.8669288, 0.845491, 0.88187873, 0.74018985, 0.7565002, 0.7748919, 0.8701826, 0.98901623, 0.7360877, 0.7362623, 0.7752745, 0.8431161, 0.87053704, 0.9559907, 0.73611915, 0.73650694, 0.74988836, 0.7965167, 0.80934393, 0.8674872, 0.9503238, 0.73614603, 0.73611903, 0.7599181, 0.85693264, 0.97579384, 0.73609924, 0.7367324, 0.7368397, 0.7433434, 0.75076526, 0.7705403, 0.82189506, 0.9073635, 0.9197045, 0.7360771, 0.7360857, 0.7362976, 0.7364904, 0.7360857, 0.7367015, 0.7614906, 0.76455575, 0.83589363, 0.86851674, 0.8999906, 0.8976813, 0.7414305, 0.7549369, 0.7760896, 0.8667663, 0.86223143, 0.95816576, 0.73607826, 0.73608506, 0.7360928, 0.7371462, 0.74308676, 0.7507482, 0.76850665, 0.73607665, 0.7360904, 0.736096, 0.74608314, 0.73609, 0.736096, 0.74487317, 0.8355377, 0.87710387, 0.95238715, 0.7360855, 0.73693824, 0.74110675, 0.73709667, 0.73989534, 0.7436373, 0.75434667, 0.77519417, 0.8718385, 0.96070486, 0.7511552, 0.7881407, 0.8760615, 0.73607665, 0.7360855, 0.7360939, 0.7589339, 0.8481765, 0.7360839, 0.73635006, 0.75559497, 0.7818104, 0.8333852, 0.9018412, 0.74082124, 0.73632956, 0.7360959, 0.74647063, 0.79253185, 0.8190705, 0.8601538, 0.7360839, 0.73609644, 0.7566946, 0.7843745, 0.8625743, 0.920343, 0.7360802, 0.7360904, 0.73625034, 0.73611015, 0.7389938, 0.73645496, 0.7360991, 0.7366691, 0.7380735, 0.74080545, 0.74582136, 0.7563036, 0.78469175, 0.73607665, 0.7360878, 0.73609513, 0.7456704, 0.736084, 0.73609644, 0.7448508, 0.7680655, 0.82448643, 0.8563621, 0.9146785, 0.75039643, 0.7360869, 0.73610747, 0.74515265, 0.7474616, 0.75048035, 0.7646102, 0.7957507, 0.8465077, 0.73647386, 0.7468123, 0.75110245, 0.736115, 0.73664486, 0.7360875, 0.7360763, 0.7360766, 0.73607576, 0.73607576, 0.7361157, 0.8955282, 0.736084, 0.73702365, 0.7362934, 0.7366851, 0.7361287, 0.7362597, 0.7368192, 0.74227023, 0.7993028, 0.9376839, 0.8705828, 0.73608196, 0.7362065, 0.73608834, 0.7360956, 0.73802507, 0.73836094, 0.73686224, 0.74006176, 0.7466163, 0.73616153, 0.73663497, 0.7426991, 0.7678726, 0.7555516, 0.85288095, 0.8964524, 0.9752542, 0.7364291, 0.73645324, 0.7380683, 0.7379457, 0.74348694, 0.74903923, 0.7527085, 0.73608404, 0.7360937, 0.7403393, 0.7646381, 0.7523433, 0.78962815, 0.7360852, 0.73709774, 0.81173605, 0.7878265, 0.82994395, 0.897184, 0.89691293, 0.741695, 0.7569901, 0.78613615, 0.7407112, 0.74156857, 0.7494774, 0.73975444, 0.7532214, 0.79802656, 0.8008773]\n"
          ],
          "name": "stdout"
        },
        {
          "output_type": "execute_result",
          "data": {
            "text/plain": [
              "[<matplotlib.lines.Line2D at 0x7f00b6bfde48>]"
            ]
          },
          "metadata": {
            "tags": []
          },
          "execution_count": 46
        },
        {
          "output_type": "display_data",
          "data": {
            "image/png": "[encoded data removed]",
            "text/plain": [
              "<Figure size 432x288 with 1 Axes>"
            ]
          },
          "metadata": {
            "tags": []
          }
        }
      ]
    },
    {
      "cell_type": "markdown",
      "metadata": {
        "id": "kKg97DuBxluZ",
        "colab_type": "text"
      },
      "source": [
        "Cool, the sigmoid got an entropy of just 0.47.\n",
        "\n",
        "But hey, I wonder whether tf.nn.sigmoid_cross_entropy_with_logits behaves the same as my thing."
      ]
    },
    {
      "cell_type": "code",
      "metadata": {
        "id": "3O35e9G60JgT",
        "colab_type": "code",
        "colab": {
          "base_uri": "https://localhost:8080/",
          "height": 269
        },
        "outputId": "7311100a-3343-4ffb-be08-d4e613f70d53"
      },
      "source": [
        "def plot_probability(card_reviews, w1, w2):\n",
        "  xs = []\n",
        "  ys = []\n",
        "  t = 0\n",
        "  good_reviews = []\n",
        "  good_reviews_ys = []\n",
        "  bad_reviews = []\n",
        "  bad_reviews_ys = []\n",
        "  for _, row in card_reviews.iterrows():\n",
        "    diff_seconds = row['diff'].total_seconds()\n",
        "    diff_days = diff_seconds / 86400.0\n",
        "    tic_xs = np.linspace(t, t + diff_days)\n",
        "    tic_ys = 1/(1+np.exp(w1 * np.linspace(0, diff_days) + w2))  # igmoid\n",
        "    xs.extend(tic_xs)\n",
        "    ys.extend(tic_ys)\n",
        "    \n",
        "    if row['correct']:\n",
        "      good_reviews.append(t + diff_days)\n",
        "      good_reviews_ys.append(tic_ys[-1])\n",
        "    else:\n",
        "      bad_reviews.append(t + diff_days)\n",
        "      bad_reviews_ys.append(tic_ys[-1])\n",
        "    \n",
        "    t += diff_days\n",
        "    \n",
        "  plt.plot(xs, ys, 'b-', good_reviews, good_reviews_ys, 'go', bad_reviews, bad_reviews_ys, 'ro')\n",
        "  \n",
        "plot_probability(get_card_reviews(get_sample_card_ids(1)[0]),\n",
        "                 w1=0.0047614984, w2=1.0208617)"
      ],
      "execution_count": 25,
      "outputs": [
        {
          "output_type": "display_data",
          "data": {
            "image/png": "[encoded data removed]",
            "text/plain": [
              "<Figure size 432x288 with 1 Axes>"
            ]
          },
          "metadata": {
            "tags": []
          }
        }
      ]
    },
    {
      "cell_type": "markdown",
      "metadata": {
        "id": "FICIPyJk2zZh",
        "colab_type": "text"
      },
      "source": [
        "Let's add a times-w and times-l thing."
      ]
    },
    {
      "cell_type": "code",
      "metadata": {
        "id": "agAe41ek2y2b",
        "colab_type": "code",
        "colab": {
          "base_uri": "https://localhost:8080/",
          "height": 578
        },
        "outputId": "b96d23be-245f-4dff-a323-12bc47b3efe6"
      },
      "source": [
        "# Train with a sigmoid\n",
        "\n",
        "w1 = tf.Variable(1.0, name=\"w1\", trainable=True)\n",
        "w2 = tf.Variable(1.0, name=\"w2\", trainable=True)\n",
        "wm = tf.Variable(1.0, name=\"wm\", trainable=True)\n",
        "lm = tf.Variable(1.0, name=\"lm\", trainable=True)\n",
        "\n",
        "variables = [w1, w2, wm, lm]\n",
        "\n",
        "#l = lambda1\n",
        "losses = []\n",
        "probabilities = []\n",
        "\n",
        "def build_losses_for_reviews(card_reviews):\n",
        "  #l = lambda1\n",
        "  ww1 = w1\n",
        "  for index, row in card_reviews.iterrows():\n",
        "    #print(row)\n",
        "    diff_seconds = row['diff'].total_seconds()\n",
        "    diff_days = diff_seconds / 86400.0\n",
        "    logit = ww1 * diff_days + w2\n",
        "    current_probability = tf.sigmoid(logit)\n",
        "    probabilities.append(current_probability)\n",
        "\n",
        "    is_true = (1. if row['correct'] else 0.)\n",
        "    if row['correct']:\n",
        "      ww1 = ww1 * wm\n",
        "    else:\n",
        "      ww1 = ww1 * lm\n",
        "    loss_bit = tf.nn.sigmoid_cross_entropy_with_logits(\n",
        "        labels=is_true, logits=logit)\n",
        "    losses.append(loss_bit)\n",
        "      \n",
        "from IPython.display import HTML, display\n",
        "\n",
        "def progress(value, max=100):\n",
        "    return HTML(\"\"\"\n",
        "        <progress value='{value}' max='{max}' style='width: 100%'>\n",
        "            {value}\n",
        "        </progress>\n",
        "    \"\"\".format(value=value, max=max))\n",
        "\n",
        "out = display(progress(0, num_cards), display_id=True)\n",
        "for i, card in enumerate(get_sample_card_ids(num_cards)):\n",
        "  build_losses_for_reviews(get_card_reviews(card))\n",
        "  out.update(progress(i, num_cards))\n",
        "out.update(HTML(\"Losses for reviews built.\"))\n",
        "\n",
        "loss = tf.reduce_sum(losses) / len(losses)\n",
        "# Making training rate higher than 0.01 leads to shooting out to NaNs.\n",
        "opt = tf.train.GradientDescentOptimizer(learning_rate=0.01)\n",
        "train_op = opt.minimize(loss, var_list=variables)\n",
        "\n",
        "losses = []\n",
        "values = []\n",
        "\n",
        "with tf.Session() as sess:\n",
        "  sess.run(tf.global_variables_initializer())\n",
        " \n",
        "  epoch_progress = display(progress(0, epochs), display_id=True)\n",
        "  for i in range(epochs):\n",
        "    metadata = tf.RunMetadata()\n",
        "    sess.run(train_op)\n",
        "    epoch_progress.update(progress(i, epochs))\n",
        "    vars_value = sess.run(variables)\n",
        "    loss_value = sess.run(loss)\n",
        "    if i % 10 == 0:\n",
        "      print(\"after round\", i, vars_value, \"loss=\", loss_value)\n",
        "      values.append(tuple(vars_value + [loss_value]))\n",
        "    losses.append(loss_value)\n",
        "  \n",
        "  print('Final:')\n",
        "  print(sess.run(variables))\n",
        "  print('Probs: ', sess.run(probabilities))\n",
        "#  print('Loss: ', sess.run(loss))\n",
        "\n",
        "plt.plot(range(epochs), losses)\n",
        "    "
      ],
      "execution_count": 45,
      "outputs": [
        {
          "output_type": "display_data",
          "data": {
            "text/html": [
              "Losses for reviews built."
            ],
            "text/plain": [
              "<IPython.core.display.HTML object>"
            ]
          },
          "metadata": {
            "tags": []
          }
        },
        {
          "output_type": "display_data",
          "data": {
            "text/html": [
              "\n",
              "        <progress value='99' max='100' style='width: 100%'>\n",
              "            99\n",
              "        </progress>\n",
              "    "
            ],
            "text/plain": [
              "<IPython.core.display.HTML object>"
            ]
          },
          "metadata": {
            "tags": []
          }
        },
        {
          "output_type": "stream",
          "text": [
            "after round 0 [0.9687982, 0.99938804, 0.71744484, 0.80573976] loss= 0.80142003\n",
            "after round 10 [0.9417317, 1.000801, 0.5783253, 0.79897034] loss= 0.5951784\n",
            "after round 20 [0.92741823, 1.0037439, 0.51199037, 0.79633605] loss= 0.5491188\n",
            "after round 30 [0.9171568, 1.007498, 0.47001645, 0.79452235] loss= 0.53040504\n",
            "after round 40 [0.9088406, 1.011728, 0.44006994, 0.7929963] loss= 0.5206139\n",
            "after round 50 [0.9016574, 1.0162591, 0.41733792, 0.7916093] loss= 0.5147457\n",
            "after round 60 [0.895209, 1.0209882, 0.39942902, 0.79030323] loss= 0.51090556\n",
            "after round 70 [0.88927025, 1.0258495, 0.38496235, 0.7890504] loss= 0.5082228\n",
            "after round 80 [0.8837013, 1.0307975, 0.3730598, 0.78783536] loss= 0.5062461\n",
            "after round 90 [0.87841016, 1.0357994, 0.36312604, 0.786649] loss= 0.5047217\n",
            "Final:\n",
            "[0.8738327, 1.040327, 0.35551757, 0.7856005]\n",
            "Probs:  [0.7416333, 0.7424867, 0.7600551, 0.74637425, 0.80319893, 0.785904, 0.77554387, 0.73892075, 0.7389172, 0.73967934, 0.73891985, 0.7389176, 0.7389289, 0.7389236, 0.73891944, 0.7389131, 0.7389131, 0.7389132, 0.7389131, 0.7389131, 0.7389131, 0.7389131, 0.7389131, 0.7389131, 0.7389131, 0.7389131, 0.7389131, 0.7389131, 0.7389131, 0.74023104, 0.74410987, 0.99259526, 0.99517894, 0.9756318, 0.74898106, 0.77570856, 0.9066824, 0.92653805, 0.9447041, 0.739107, 0.7393674, 0.73922586, 0.7679321, 0.75516045, 0.7529367, 0.7515865, 0.75004953, 0.73912525, 0.76018345, 0.74906766, 0.86133534, 0.87134343, 0.8319072, 0.7389183, 0.73903894, 0.74072844, 0.74137425, 0.74121106, 0.7402077, 0.74136925, 0.7714539, 0.7605575, 0.7972728, 0.7745641, 0.7728016, 0.7389763, 0.73893285, 0.7486581, 0.7696793, 0.7606809, 0.755342, 0.7536136, 0.7505597, 0.76429915, 0.7454383, 0.7419854, 0.81147206, 0.7389547, 0.7389556, 0.738971, 0.74595934, 0.7389207, 0.7389159, 0.7390228, 0.7390627, 0.73898005, 0.73895824, 0.7389419, 0.7389292, 0.7389196, 0.739037, 0.7393857, 0.73928607, 0.8350035, 0.79903316, 0.8378214, 0.8064164, 0.7408753, 0.7466941, 0.81030345, 0.95788974, 0.992912, 0.739316, 0.73907185, 0.73900926, 0.73898256, 0.73898464, 0.73895794, 0.73913157, 0.73899215, 0.73896545, 0.7389333, 0.73894626, 0.73892385, 0.7389215, 0.73899925, 0.7389564, 0.7389264, 0.73891664, 0.7389147, 0.7389134, 0.7389144, 0.73891366, 0.73891354, 0.7389133, 0.7389137, 0.7389132, 0.7389131, 0.7389132, 0.7389131, 0.7389131, 0.7389131, 0.7389131, 0.7389131, 0.7389131, 0.7389131, 0.7389131, 0.7389131, 0.7389131, 0.7389131, 0.7389131, 0.7389131, 0.7389131, 0.7389131, 0.7389131, 0.7389131, 0.7389131, 0.7389131, 0.7389131, 0.7389131, 0.7389131, 0.7389131, 0.7389131, 0.7389131, 0.7389131, 0.7389131, 0.7389131, 0.7389131, 0.7389131, 0.7389131, 0.7389131, 0.7389131, 0.7389131, 0.7389131, 0.7389131, 0.7389131, 0.7389131, 0.7389131, 0.7390669, 0.74297816, 0.7390572, 0.73895484, 0.73902094, 0.74055016, 0.75003713, 0.739143, 0.739125, 0.7389667, 0.7391044, 0.73891664, 0.7393038, 0.7389312, 0.7389165, 0.738935, 0.73897123, 0.7389132, 0.7389132, 0.7389132, 0.7389131, 0.7389148, 0.7389136, 0.7389137, 0.73891354, 0.7389133, 0.7389131, 0.7389131, 0.7389131, 0.7389131, 0.7389131, 0.7389131, 0.7389131, 0.7389131, 0.7389131, 0.7389131, 0.7389131, 0.7389131, 0.7389131, 0.7389131, 0.7389131, 0.7389131, 0.7389131, 0.7389131, 0.7389131, 0.7389131, 0.7389131, 0.7389131, 0.7389131, 0.7389131, 0.7389131, 0.7389131, 0.7389131, 0.7389131, 0.7389131, 0.7389131, 0.7389131, 0.7389131, 0.7389131, 0.7389131, 0.7389131, 0.7389131, 0.7389131, 0.7389131, 0.7389131, 0.9917624, 0.99888843, 0.9550847, 0.93852943, 0.7403129, 0.8949942, 0.9074111, 0.757233, 0.76257974, 0.8205942, 0.762187, 0.74043834, 0.7389787, 0.738936, 0.738925, 0.7405869, 0.73991674, 0.73891366, 0.7389136, 0.73899585, 0.73894984, 0.7389336, 0.7389131, 0.7389131, 0.7389134, 0.7389132, 0.7389131, 0.7389131, 0.7389131, 0.7389131, 0.7389131, 0.7389131, 0.7389131, 0.7389131, 0.7389131, 0.7389131, 0.7389131, 0.7389131, 0.7389131, 0.7389131, 0.7389131, 0.7389131, 0.7389131, 0.7389131, 0.9941081, 0.9979031, 0.98914135, 0.9937873, 0.73897684, 0.7462812, 0.7655914, 0.75685, 0.75477785, 0.75135493, 0.73935884, 0.73937887, 0.7392434, 0.77582026, 0.8012788, 0.7396784, 0.7389279, 0.74080384, 0.73893416, 0.7389145, 0.7390565, 0.738918, 0.7389143, 0.73891944, 0.7389229, 0.7389479, 0.7389524, 0.74277097, 0.740034, 0.75413954, 0.76024204, 0.7595639, 0.98564523, 0.73987454, 0.73973006, 0.756269, 0.7392265, 0.7424737, 0.7428701, 0.7823188, 0.740171, 0.9730839, 0.99686277, 0.97388625, 0.8100715, 0.76158506, 0.872869, 0.9114629, 0.90945494, 0.8769037, 0.74191666, 0.74084264, 0.7449, 0.80807775, 0.7703966, 0.7561563, 0.7532573, 0.7505122, 0.739197, 0.9253881, 0.9223708, 0.73891944, 0.74199945, 0.75476176, 0.7675856, 0.7682306, 0.75997317, 0.7850149, 0.7577216, 0.7468501, 0.73953867, 0.7394138, 0.73925585, 0.75703734, 0.7393588, 0.73997825, 0.95629215, 0.73904526, 0.9237141, 0.8941093, 0.88657165, 0.89034253, 0.7419586, 0.73933446, 0.74369293, 0.74612004, 0.7389154, 0.7389207, 0.73897654, 0.7389753, 0.73893636, 0.73892987, 0.73892397, 0.7389232, 0.73905694, 0.739487, 0.7401389, 0.87807596, 0.94459254, 0.8829804, 0.73971355, 0.73944247, 0.7506695, 0.7389137, 0.73891383, 0.7389967, 0.73896724, 0.73896825, 0.7389551, 0.7397659, 0.73969245, 0.7392468, 0.77928805, 0.73896503, 0.7389475, 0.73902714, 0.74265045, 0.73891586, 0.73891455, 0.73891604, 0.73897606, 0.7389521, 0.73894703, 0.7389131, 0.7389138, 0.7389154, 0.73892534, 0.7389131, 0.7389131, 0.7389131, 0.7389131, 0.7389131, 0.7389131, 0.7389131, 0.7389131, 0.7389131, 0.7389131, 0.7389131, 0.7389131, 0.7389131, 0.7389131, 0.7389131, 0.7389131, 0.7389131, 0.7389131, 0.7389131, 0.7389131, 0.7389131, 0.7389131, 0.7389131, 0.7389131, 0.7389131, 0.7390773, 0.7390334, 0.73914653, 0.73923254, 0.7403822, 0.75822455, 0.7389702, 0.7389411, 0.7389323, 0.7389342, 0.7389327, 0.73892313, 0.73892295, 0.7389207, 0.7389299, 0.738918, 0.73892766, 0.7389141, 0.7389164, 0.73896813, 0.73901826, 0.7389134, 0.7389133, 0.73892534, 0.7389131, 0.73891383, 0.7389146, 0.7389131, 0.7389131, 0.73891324, 0.7389132, 0.7389131, 0.7389131, 0.7389131, 0.7389131, 0.7389131, 0.7389131, 0.7389131, 0.7389131, 0.7389131, 0.7389131, 0.7389131, 0.7389131, 0.7389131, 0.7389131, 0.7389131, 0.7389131, 0.7389131, 0.7569596, 0.76488286, 0.99044514, 0.99469864, 0.9708868, 0.8699048, 0.99998164, 0.7390655, 0.7389932, 0.74115676, 0.7397229, 0.7389506, 0.74579704, 0.7394374, 0.73894054, 0.7402339, 0.7389166, 0.7389171, 0.73891425, 0.73891425, 0.73891383, 0.73895067, 0.73891336, 0.7389134, 0.7389152, 0.73891526, 0.7389138, 0.7389131, 0.7389131, 0.7389131, 0.7389131, 0.7389131, 0.7389131, 0.7389131, 0.7389131, 0.7389131, 0.7389131, 0.7389131, 0.7389131, 0.7389131, 0.7389131, 0.7389131, 0.7389131, 0.7389131, 0.7389131, 0.7389131, 0.7389131, 0.7389131, 0.7389131, 0.7389131, 0.7389131, 0.7389131, 0.7389131, 0.7389131, 0.7389131, 0.7389131, 0.7389131, 0.7389131, 0.7389131, 0.7389131, 0.9887084, 0.99357855, 0.9899512, 0.9854667, 0.9824965, 0.9095622, 0.7390808, 0.7655717, 0.7396052, 0.74764085, 0.7500572, 0.7457797, 0.8603856, 0.7403012, 0.7404296, 0.741257, 0.7481515, 0.7634261, 0.7782267, 0.76074106, 0.7578713, 0.79090405, 0.74039257, 0.92620295, 0.9621986, 0.929365, 0.73894066, 0.73892385, 0.7434748, 0.74630886, 0.74538344, 0.9977768, 0.9966055, 0.7404067, 0.7497467, 0.97622716, 0.9977506, 0.97854346, 0.773321, 0.7390939, 0.73929316, 0.73915124, 0.7882133, 0.7389459, 0.73946255, 0.73893815, 0.73892945, 0.74018985, 0.74268097, 0.738914, 0.7389137, 0.73892605, 0.739805, 0.7393615, 0.739217, 0.8154418, 0.74218136, 0.8388686, 0.8180554, 0.824384, 0.8438301, 0.83375263, 0.7398124, 0.73939735, 0.7415876, 0.7508714, 0.7466434, 0.74545425, 0.74100757, 0.7410747, 0.7403574, 0.740603, 0.74021804, 0.7419812, 0.7428217, 0.75173146, 0.7425897, 0.7938657, 0.738946, 0.7389435, 0.7389343, 0.7412398, 0.7408749, 0.7400549, 0.7398329, 0.7389132, 0.73891425, 0.7389229, 0.73891425, 0.7389182, 0.7389131, 0.7389131, 0.7389132, 0.7389132, 0.7389132, 0.7389131, 0.7389131, 0.7389131, 0.7389131, 0.7389131, 0.7389131, 0.7389131, 0.7389131, 0.7389131, 0.7389131, 0.7389131, 0.7389131, 0.7389131, 0.7389131, 0.7389131, 0.7389131, 0.7389131, 0.7389131, 0.7389131, 0.7389131, 0.7389131, 0.7389131, 0.7389131, 0.7389131, 0.7389131, 0.7389131, 0.7389131, 0.7389131, 0.7389131, 0.7389131, 0.7389131, 0.7389131, 0.7389131, 0.7389131, 0.7389131, 0.7389131, 0.7389131, 0.73935795, 0.8604009, 0.8438852, 0.7394576, 0.7389247, 0.7463992, 0.7659621, 0.78052115, 0.7646339, 0.7402974, 0.7639794, 0.7594801, 0.76052403, 0.76010585, 0.76395947, 0.7797415, 0.7818918, 0.739091, 0.7394445, 0.7391529, 0.79550153, 0.7389551, 0.73894656, 0.7417486, 0.7441866, 0.7480998, 0.74359596, 0.74120706, 0.7396982, 0.95179445, 0.9287377, 0.9233692, 0.9051988, 0.95289963, 0.9431234, 0.7415862, 0.79182595, 0.9795449, 0.99781185, 0.98045087, 0.7653341, 0.7394423, 0.7590315, 0.7613838, 0.75410295, 0.75078297, 0.7491295, 0.74895316, 0.99992454, 0.99995387, 0.9998816, 0.99977523, 0.9995577, 0.9964803, 0.99847215, 1.0, 0.7391091, 0.7419191, 0.74282295, 0.7750462, 0.9997583, 0.74073654, 0.7389914, 0.9881067, 0.9912299, 0.99448216, 0.983806, 0.74319726, 0.76801425, 0.7501201, 0.8710837, 0.9406069, 0.7971542, 0.7881313, 0.77850336, 0.7390796, 0.7393765, 0.7424349, 0.7688803, 0.7723226, 0.7592395, 0.7558876, 0.7538192, 0.9981463, 0.99873406, 0.9981146, 0.7403724, 0.740302, 0.8409865, 0.816823, 0.8239712, 0.84337276, 0.85581315, 0.77151453, 0.7402229, 0.7399611, 0.7504945, 0.745696, 0.747409, 0.74560726, 0.73911333, 0.7408035, 0.74093395, 0.74119824, 0.7389152, 0.7389137, 0.7390051, 0.73899555, 0.9926676, 0.99666446, 0.9986765, 0.78352237, 0.7424613, 0.73933583, 0.7458138, 0.74831647, 0.75070244, 0.7598154, 0.7455621, 0.74880075, 0.74388856, 0.7428349, 0.99281526, 0.9717442, 0.9792621, 0.9806656, 0.9999279, 0.9999933, 1.0, 0.7390494, 0.7445353, 0.7431029, 0.7467703, 0.7460643, 0.7429057, 0.7398635, 0.7394552, 0.73945504, 0.7407969, 0.7433728, 0.76771414, 0.75677544, 0.7492534, 0.74205697, 0.74459743, 0.7403863, 0.7396297, 0.7391894, 0.7390252, 0.7389574, 0.7511704, 0.7418572, 0.7422459, 0.74009156, 0.75336534, 0.7520097, 0.7501759, 0.7474242, 0.7444805, 0.7943165, 0.739029, 0.73926395, 0.73897517, 0.7391276, 0.7426688, 0.7390346, 0.7389235, 0.74025005, 0.73892576, 0.73938996, 0.7391952, 0.73909056, 0.73891336, 0.7389132, 0.7389171, 0.7389176, 0.7392208, 0.73919725, 0.7392412, 0.7535585, 0.74980134, 0.74641746, 0.7453671, 0.73891515, 0.7389147, 0.7390326, 0.73897094, 0.7389535, 0.73895884, 0.73897266, 0.7389543, 0.7391084, 0.7534605, 0.7390761, 0.75219977, 0.741086, 0.7400272, 0.7412483, 0.73893815, 0.7390323, 0.73899525, 0.73897594, 0.7389681, 0.7406354, 0.73952746, 0.87381834, 0.91248673, 0.9089003, 0.87259513, 0.86114377, 0.7957911, 0.7406301, 0.9754209, 0.7390607, 0.7390147, 0.7486902, 0.7449117, 0.74307996, 0.74873793, 0.74359226, 0.74149764, 0.98300964, 0.9577758, 0.7393708, 0.73917264, 0.73926693, 0.7405147, 0.75302476, 0.7536555, 0.7464252, 0.73891747, 0.73892015, 0.73902816, 0.7390521, 0.738998, 0.7389788, 0.7389722, 0.7389564, 0.7389131, 0.7389131, 0.7389132, 1.0, 0.7390441, 0.7393307, 0.7392682, 0.751863, 0.7432042, 0.7418034, 0.74088687, 0.7416648, 0.74126023, 0.73891324, 0.7389133, 0.7389494, 0.7389131, 0.7389131, 0.7389131, 0.7389133, 0.73891324, 0.73891324, 0.7389132, 0.7406096, 0.7421899, 0.7525603, 0.79799646, 0.7793717, 0.7711545, 0.7679398, 0.7390646, 0.7395498, 0.73943365, 0.81861067, 0.7580671, 0.7684612, 0.7805917, 0.76429313, 0.7392596, 0.74025667, 0.74222636, 0.7606173, 0.7578229, 0.739355, 0.7390106, 0.7389537, 0.738919, 0.73892045, 0.7389167, 0.7389172, 0.7389178, 0.7389158, 0.7389287, 0.738914, 0.7389182, 0.7389132, 0.7389978, 0.7389131, 0.7389133, 0.73891634, 0.7389131, 0.7389131, 0.7389133, 0.7389131, 0.7389131, 0.7389131, 0.7389131, 0.7389137, 0.7389131, 0.7389131, 0.7389131, 0.7389131, 0.7389131, 0.7389131, 0.7389131, 0.7389131, 0.7389131, 0.9835141, 0.99855, 0.9922329, 0.99875, 0.9998753, 0.7406172, 0.74824375, 0.9925331, 0.9948384, 0.9549422, 0.9376076, 0.74505347, 0.7601338, 0.91292316, 0.96164674, 0.88094383, 0.8499649, 0.8316184, 0.748797, 0.7411023, 0.9654827, 0.9974247, 0.99921656, 0.7422502, 0.77075803, 0.7524251, 0.7830018, 0.77145606, 0.7669847, 0.7660142, 0.7630486, 0.74875015, 0.73911124, 0.73942095, 0.74288476, 0.7447302, 0.73896354, 0.74002945, 0.7552323, 0.74552584, 0.7481879, 0.7436608, 0.7412134, 0.7397146, 0.99339926, 0.9977702, 0.9931359, 0.99848515, 0.9473257, 0.94008046, 0.739289, 0.739388, 0.7392221, 0.7457049, 0.75465816, 0.7508038, 0.7485149, 0.7390538, 0.73966074, 0.7392792, 0.7983452, 0.7389852, 0.7389495, 0.7445172, 0.7643295, 0.7532854, 0.74967796, 0.74030465, 0.7801664, 0.8193578, 0.7530886, 0.7577154, 0.7523049, 0.75060374, 0.7481054, 0.75256467, 0.7507579, 0.9999957, 0.9999999, 1.0, 0.7390579, 0.7394084, 0.73924047, 0.86057764, 0.9327469, 0.7389279, 0.7390872, 0.7434022, 0.7427983, 0.7421358, 0.741254, 0.9896375, 0.77339584, 0.7399355, 0.88303673, 0.9554143, 0.895531, 0.843382, 0.73891836, 0.73891777, 0.7406074, 0.740382, 0.74050736, 0.73990697, 0.73956096, 0.7396607, 0.7420409, 0.7391331, 0.7455117, 0.7395898, 0.738928, 0.73904705, 0.73907363, 0.7390487, 0.739013, 0.7389879, 0.7389797, 0.73906165, 0.7395255, 0.7392641, 0.7960795, 0.73895484, 0.73895013, 0.7445029, 0.74636966, 0.7469543, 0.7430994, 0.741556, 0.9999924, 0.740168, 0.7401755, 0.84713125, 0.792633, 0.7642338, 0.7572645, 0.7532949, 0.7493954, 0.7915068, 0.9800062, 0.9218117, 0.7444685, 0.7666708, 0.7393834, 0.73893434, 0.7389238, 0.7389142, 0.73891366, 0.73895717, 0.8150431, 0.7389157, 0.7390169, 0.7389318, 0.7389317, 0.7389144, 0.7389146, 0.7389153, 0.73891985, 0.7389396, 0.7389577, 0.7389214, 0.7398097, 0.753264, 0.739417, 0.7391948, 0.7486035, 0.74298257, 0.74001557, 0.7409049, 0.74080145, 0.7509391, 0.7662058, 0.84057766, 0.8945984, 0.78167474, 0.8369172, 0.7970365, 0.7879456, 0.78599906, 0.7575557, 0.77319455, 0.75071234, 0.7555455, 0.74941456, 0.7437615, 0.738915, 0.73891455, 0.7390353, 0.73921347, 0.73897296, 0.738987, 0.7389131, 0.7389134, 0.73892385, 0.7389156, 0.7389148, 0.7389144, 0.7389136, 0.99457645, 0.9987336, 0.99762017, 0.98876125, 0.9234148, 0.90971977, 0.9773458, 0.9964336, 0.9993549, 0.96759003]\n"
          ],
          "name": "stdout"
        },
        {
          "output_type": "execute_result",
          "data": {
            "text/plain": [
              "[<matplotlib.lines.Line2D at 0x7f00d2d05da0>]"
            ]
          },
          "metadata": {
            "tags": []
          },
          "execution_count": 45
        },
        {
          "output_type": "display_data",
          "data": {
            "image/png": "[encoded data removed]",
            "text/plain": [
              "<Figure size 432x288 with 1 Axes>"
            ]
          },
          "metadata": {
            "tags": []
          }
        }
      ]
    },
    {
      "cell_type": "code",
      "metadata": {
        "id": "u4cNuRqi3YUC",
        "colab_type": "code",
        "colab": {
          "base_uri": "https://localhost:8080/",
          "height": 269
        },
        "outputId": "b49a8426-e68f-41d1-879d-2a8892dd62d3"
      },
      "source": [
        "def plot_probability(card_reviews, w1, w2, wm, lm):\n",
        "  xs = []\n",
        "  ys = []\n",
        "  t = 0\n",
        "  good_reviews = []\n",
        "  good_reviews_ys = []\n",
        "  bad_reviews = []\n",
        "  bad_reviews_ys = []\n",
        "  ww1 = w1\n",
        "  for _, row in card_reviews.iterrows():\n",
        "    diff_seconds = row['diff'].total_seconds()\n",
        "    diff_days = diff_seconds / 86400.0\n",
        "    diff_tic = np.linspace(0, diff_days, 5)\n",
        "    tic_xs = diff_tic + t\n",
        "    logits = ww1 * diff_tic + w2\n",
        "    tic_ys = 1/(1+np.exp(logits))\n",
        "    xs.extend(tic_xs)\n",
        "    ys.extend(tic_ys)\n",
        "    \n",
        "    if row['correct']:\n",
        "      good_reviews.append(t + diff_days)\n",
        "      good_reviews_ys.append(tic_ys[-1])\n",
        "      ww1 = ww1 * wm\n",
        "    else:\n",
        "      bad_reviews.append(t + diff_days)\n",
        "      bad_reviews_ys.append(tic_ys[-1])\n",
        "      ww1 = ww1 * lm\n",
        "        \n",
        "    t += diff_days\n",
        "    \n",
        "  plt.plot(xs, ys, 'b-', good_reviews, good_reviews_ys, 'go', bad_reviews, bad_reviews_ys, 'ro')\n",
        "\n",
        "plot_probability(get_card_reviews(get_sample_card_ids(1, random_state=11)[0]),\n",
        "                 w1=0.8738327, w2=1.040327, wm=0.35551757, lm=0.7856005)"
      ],
      "execution_count": 62,
      "outputs": [
        {
          "output_type": "display_data",
          "data": {
            "image/png": "[encoded data removed]",
            "text/plain": [
              "<Figure size 432x288 with 1 Axes>"
            ]
          },
          "metadata": {
            "tags": []
          }
        }
      ]
    },
    {
      "cell_type": "code",
      "metadata": {
        "id": "StcCT0eq4pWV",
        "colab_type": "code",
        "colab": {
          "base_uri": "https://localhost:8080/",
          "height": 35
        },
        "outputId": "898141f0-d7c1-402b-d13d-3671abfab54d"
      },
      "source": [
        ""
      ],
      "execution_count": 33,
      "outputs": [
        {
          "output_type": "execute_result",
          "data": {
            "text/plain": [
              "0.2689414213699951"
            ]
          },
          "metadata": {
            "tags": []
          },
          "execution_count": 33
        }
      ]
    },
    {
      "cell_type": "markdown",
      "metadata": {
        "id": "VjSKTRbh6uiB",
        "colab_type": "text"
      },
      "source": [
        "It's at least nice the the sigmoids have the right direction.\n",
        "\n",
        "So, the model I'm thinking of is:\n",
        "\n",
        "* Recurrent neural network,\n",
        "* Output is the probability of successful review,\n",
        "* Sequence input is: some representation of current time (or time since last review),\n",
        "* And some data is passed from left to right."
      ]
    }
  ]
}