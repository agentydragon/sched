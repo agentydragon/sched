{
  "nbformat": 4,
  "nbformat_minor": 0,
  "metadata": {
    "colab": {
      "name": "Explore Anki data",
      "version": "0.3.2",
      "provenance": [],
      "collapsed_sections": [],
      "include_colab_link": true
    },
    "kernelspec": {
      "name": "python3",
      "display_name": "Python 3"
    },
    "accelerator": "GPU"
  },
  "cells": [
    {
      "cell_type": "markdown",
      "metadata": {
        "id": "view-in-github",
        "colab_type": "text"
      },
      "source": [
        "<a href=\"https://colab.research.google.com/github/agentydragon/sched/blob/master/Explore_Anki_data.ipynb\" target=\"_parent\"><img src=\"https://colab.research.google.com/assets/colab-badge.svg\" alt=\"Open In Colab\"/></a>"
      ]
    },
    {
      "cell_type": "code",
      "metadata": {
        "id": "U67javkAzODA",
        "colab_type": "code",
        "outputId": "50513c0a-448b-4fef-d0a5-78269914967d",
        "colab": {
          "base_uri": "https://localhost:8080/",
          "height": 35
        }
      },
      "source": [
        "%matplotlib notebook\n",
        "import sqlite3\n",
        "import pandas as pd\n",
        "import matplotlib\n",
        "import matplotlib.pyplot as plt\n",
        "import numpy as np\n",
        "import tensorflow as tf\n",
        "from datetime import timedelta\n",
        "from google.colab import drive\n",
        "drive.mount('/content/gdrive')"
      ],
      "execution_count": 3,
      "outputs": [
        {
          "output_type": "stream",
          "text": [
            "Drive already mounted at /content/gdrive; to attempt to forcibly remount, call drive.mount(\"/content/gdrive\", force_remount=True).\n"
          ],
          "name": "stdout"
        }
      ]
    },
    {
      "cell_type": "code",
      "metadata": {
        "id": "l6L9Fgt2zgto",
        "colab_type": "code",
        "colab": {}
      },
      "source": [
        "conn = sqlite3.connect('/content/gdrive/My Drive/collection.anki2')\n",
        "data = []\n",
        "for row in conn.execute('SELECT id, cid, ease, time, type FROM revlog;'):\n",
        "  id, cid, ease, time, type = row\n",
        "  data.append((pd.Timestamp(id, unit='ms'), cid, ease, time, type))\n",
        "df = pd.DataFrame(data, columns = ['id', 'cid', 'ease', 'time', 'type'])"
      ],
      "execution_count": 0,
      "outputs": []
    },
    {
      "cell_type": "markdown",
      "metadata": {
        "id": "YMJ086KkCYGC",
        "colab_type": "text"
      },
      "source": [
        "Let's get the number of cards I have."
      ]
    },
    {
      "cell_type": "code",
      "metadata": {
        "id": "raQj0FHXyI5I",
        "colab_type": "code",
        "outputId": "73a620c9-de79-401d-b42e-3234674142a9",
        "colab": {
          "base_uri": "https://localhost:8080/",
          "height": 35
        }
      },
      "source": [
        "print(len(pd.unique(df['cid'])))"
      ],
      "execution_count": 6,
      "outputs": [
        {
          "output_type": "stream",
          "text": [
            "34537\n"
          ],
          "name": "stdout"
        }
      ]
    },
    {
      "cell_type": "markdown",
      "metadata": {
        "id": "O8jc2cu2CPWJ",
        "colab_type": "text"
      },
      "source": [
        "Forgetting curves\n",
        "=="
      ]
    },
    {
      "cell_type": "code",
      "metadata": {
        "id": "uIWhCsnQ4YCG",
        "colab_type": "code",
        "colab": {}
      },
      "source": [
        "%matplotlib inline"
      ],
      "execution_count": 0,
      "outputs": []
    },
    {
      "cell_type": "code",
      "metadata": {
        "id": "pZ45dWes9B-7",
        "colab_type": "code",
        "colab": {
          "base_uri": "https://localhost:8080/",
          "height": 342
        },
        "outputId": "1618feef-8b69-499a-8419-92bbf10fa6b7"
      },
      "source": [
        "x = np.linspace(0.0, 10.0)\n",
        "plt.plot(x, np.exp(-x), x, np.exp(-0.5 * x), x, np.exp(-0.25 * x), x, np.exp(-0.05 * x))"
      ],
      "execution_count": 12,
      "outputs": [
        {
          "output_type": "execute_result",
          "data": {
            "text/plain": [
              "[<matplotlib.lines.Line2D at 0x7fb4628c6128>,\n",
              " <matplotlib.lines.Line2D at 0x7fb4628c62b0>,\n",
              " <matplotlib.lines.Line2D at 0x7fb4628c6630>,\n",
              " <matplotlib.lines.Line2D at 0x7fb4628c6978>]"
            ]
          },
          "metadata": {
            "tags": []
          },
          "execution_count": 12
        },
        {
          "output_type": "display_data",
          "data": {
            "image/png": "[encoded data removed]",
            "text/plain": [
              "<Figure size 432x288 with 1 Axes>"
            ]
          },
          "metadata": {
            "tags": []
          }
        }
      ]
    },
    {
      "cell_type": "code",
      "metadata": {
        "id": "nHNXUJxPDeoy",
        "colab_type": "code",
        "colab": {}
      },
      "source": [
        "def get_card_reviews(cid):\n",
        "  card_reviews = df[df.cid == cid]\n",
        "  card_reviews = card_reviews.loc[:, ['id', 'ease', 'time', 'type']]\n",
        "  card_reviews['correct'] = card_reviews.ease > 1\n",
        "  card_reviews = card_reviews.loc[:, ['id', 'correct']]\n",
        "  card_reviews.head()\n",
        "  card_reviews['diff'] = card_reviews['id'].diff()\n",
        "  return card_reviews[~card_reviews['diff'].isnull()]\n",
        "\n",
        "def get_sample_card_ids(n):\n",
        "  return pd.Series(pd.unique(df['cid'])).sort_values().sample(n=n, random_state=1).to_numpy()"
      ],
      "execution_count": 0,
      "outputs": []
    },
    {
      "cell_type": "markdown",
      "metadata": {
        "id": "_rN7g3WXf5gm",
        "colab_type": "text"
      },
      "source": [
        "Card difficulty - making lambda smaller/bigger on win/loss\n",
        "==="
      ]
    },
    {
      "cell_type": "markdown",
      "metadata": {
        "id": "eZnbx0r99D_E",
        "colab_type": "text"
      },
      "source": [
        "Model: probability of getting a card right is $\\hat{p} = e^{-\\lambda \\cdot t}$.\n",
        "If you get a card right, $\\lambda$ gets multiplied by $w$, and if you get it wrong, it gets multiplied by $l$.\n",
        "The initial value of $\\lambda$ is $\\lambda_1$. $t$ is measured in floating-point days since last review. Parameters are $[\\lambda_1, w, l]$ and they are initialized with ones. To prevent taking logs of numbers very close to 0, we cap $\\hat{p}$ between 0.001 and 0.998. Here we try to fit one global model.\n",
        "\n",
        "We optimize $H(p, \\hat{p})$ by stochastic gradient descent. The model is trained on 1000 random cards."
      ]
    },
    {
      "cell_type": "code",
      "metadata": {
        "id": "0zpZCsgn-cXK",
        "colab_type": "code",
        "colab": {},
        "cellView": "both"
      },
      "source": [
        "num_cards = 100 #@param {type:\"integer\"}\n",
        "epochs = 1000 #@param {type:\"integer\"}\n"
      ],
      "execution_count": 0,
      "outputs": []
    },
    {
      "cell_type": "code",
      "metadata": {
        "id": "gubhQKRbfxuB",
        "colab_type": "code",
        "outputId": "44101eef-20f5-443d-bfbc-0e41ac7791d7",
        "colab": {
          "base_uri": "https://localhost:8080/",
          "height": 2176
        }
      },
      "source": [
        "lambda1 = tf.Variable(1.0, name=\"lambda1\", trainable=True)\n",
        "win_p = tf.Variable(1.0)\n",
        "loss_p = tf.Variable(1.0)\n",
        "variables = [lambda1, win_p, loss_p]\n",
        "\n",
        "l = lambda1\n",
        "losses = []\n",
        "probabilities = []\n",
        "\n",
        "def build_losses_for_reviews(card_reviews):\n",
        "  l = lambda1\n",
        "  for index, row in card_reviews.iterrows():\n",
        "    #print(row)\n",
        "    diff_seconds = row['diff'].total_seconds()\n",
        "    diff_days = diff_seconds / 86400.0\n",
        "    current_probability = 0.998 * tf.exp(-l * diff_days) + 0.001\n",
        "    probabilities.append(current_probability)\n",
        "\n",
        "    if row['correct']:\n",
        "      # we predicted probability current_probability --> if it was 1, do nothing\n",
        "      loss_bit = -tf.log(current_probability)\n",
        "      losses.append(loss_bit)\n",
        "      l = l * win_p\n",
        "    else:\n",
        "      loss_bit = -tf.log(1.0 - current_probability)\n",
        "      losses.append(loss_bit)\n",
        "      l = l * loss_p\n",
        "      \n",
        "from IPython.display import HTML, display\n",
        "\n",
        "def progress(value, max=100):\n",
        "    return HTML(\"\"\"\n",
        "        <progress value='{value}' max='{max}' style='width: 100%'>\n",
        "            {value}\n",
        "        </progress>\n",
        "    \"\"\".format(value=value, max=max))\n",
        "\n",
        "out = display(progress(0, num_cards), display_id=True)\n",
        "for i, card in enumerate(get_sample_card_ids(num_cards)):\n",
        "  build_losses_for_reviews(get_card_reviews(card))\n",
        "  out.update(progress(i, num_cards))\n",
        "out.update(HTML(\"Losses for reviews built.\"))\n",
        "  \n",
        "loss = tf.reduce_sum(losses) / len(losses)\n",
        "# Making training rate higher than 0.01 leads to shooting out to NaNs.\n",
        "opt = tf.train.GradientDescentOptimizer(learning_rate=0.01)\n",
        "train_op = opt.minimize(loss, var_list=variables)\n",
        "\n",
        "losses = []\n",
        "values = []\n",
        "\n",
        "with tf.Session() as sess:\n",
        "  sess.run(tf.global_variables_initializer())\n",
        " \n",
        "  epoch_progress = display(progress(0, epochs), display_id=True)\n",
        "  for i in range(epochs):\n",
        "    metadata = tf.RunMetadata()\n",
        "    sess.run(train_op)\n",
        "    epoch_progress.update(progress(i, epochs))\n",
        "    vars_value = sess.run(variables)\n",
        "    loss_value = sess.run(loss)\n",
        "    if i % 10 == 0:\n",
        "      print(\"after round\", i, vars_value, \"loss=\", loss_value)\n",
        "      values.append(tuple(vars_value + [loss_value]))\n",
        "    losses.append(loss_value)\n",
        "  \n",
        "  print('Final:')\n",
        "  print(sess.run(variables))\n",
        "#  print('Probs: ', sess.run(probabilities))\n",
        "#  print('Loss: ', sess.run(loss))\n",
        "\n",
        "plt.plot(range(epochs), losses)\n",
        "    "
      ],
      "execution_count": 28,
      "outputs": [
        {
          "output_type": "display_data",
          "data": {
            "text/html": [
              "Losses for reviews built."
            ],
            "text/plain": [
              "<IPython.core.display.HTML object>"
            ]
          },
          "metadata": {
            "tags": []
          }
        },
        {
          "output_type": "display_data",
          "data": {
            "text/html": [
              "\n",
              "        <progress value='999' max='1000' style='width: 100%'>\n",
              "            999\n",
              "        </progress>\n",
              "    "
            ],
            "text/plain": [
              "<IPython.core.display.HTML object>"
            ]
          },
          "metadata": {
            "tags": []
          }
        },
        {
          "output_type": "stream",
          "text": [
            "after round 0 [0.9945055, 0.93423533, 0.97033834] loss= 2.7519743\n",
            "after round 10 [0.94985366, 0.66264117, 0.9748742] loss= 1.9895054\n",
            "after round 20 [0.91090345, 0.43794712, 1.0167735] loss= 1.4496759\n",
            "after round 30 [0.88259596, 0.30348274, 1.0486419] loss= 1.2508247\n",
            "after round 40 [0.8660628, 0.2434753, 1.0730766] loss= 1.2056427\n",
            "after round 50 [0.853892, 0.21343252, 1.0952047] loss= 1.1902815\n",
            "after round 60 [0.84347653, 0.19556598, 1.1166805] loss= 1.1814158\n",
            "after round 70 [0.8340132, 0.18460307, 1.1382266] loss= 1.1746796\n",
            "after round 80 [0.82515955, 0.17861727, 1.1603539] loss= 1.1686306\n",
            "after round 90 [0.8167018, 0.17667276, 1.1836007] loss= 1.1624476\n",
            "after round 100 [0.8084728, 0.17826156, 1.208644] loss= 1.1554301\n",
            "after round 110 [0.8003359, 0.18324481, 1.2363651] loss= 1.1467637\n",
            "after round 120 [0.792171, 0.1916948, 1.267818] loss= 1.1353811\n",
            "after round 130 [0.78385144, 0.20355752, 1.3039334] loss= 1.1201038\n",
            "after round 140 [0.77517134, 0.2176452, 1.3444469] loss= 1.1008602\n",
            "after round 150 [0.7658337, 0.2316324, 1.3873332] loss= 1.0796208\n",
            "after round 160 [0.75559264, 0.24302438, 1.4296981] loss= 1.0593747\n",
            "after round 170 [0.74441785, 0.24940325, 1.468233] loss= 1.0429357\n",
            "after round 180 [0.7325445, 0.24977177, 1.5002775] loss= 1.031294\n",
            "after round 190 [0.7204183, 0.24510564, 1.5250545] loss= 1.0234948\n",
            "after round 200 [0.7084571, 0.2387589, 1.5445366] loss= 1.0178922\n",
            "after round 210 [0.6968015, 0.23283839, 1.5606765] loss= 1.013598\n",
            "after round 220 [0.6854263, 0.22802138, 1.5746033] loss= 1.0101452\n",
            "after round 230 [0.67426205, 0.22473735, 1.5871369] loss= 1.0072259\n",
            "after round 240 [0.66320884, 0.22362626, 1.599063] loss= 1.0045698\n",
            "after round 250 [0.65208036, 0.22296125, 1.6096673] loss= 1.002207\n",
            "after round 260 [0.6408724, 0.22094637, 1.6180409] loss= 1.0002127\n",
            "after round 270 [0.62972003, 0.21864836, 1.6249233] loss= 0.9984457\n",
            "after round 280 [0.6186671, 0.21662226, 1.6307919] loss= 0.99684143\n",
            "after round 290 [0.60771424, 0.21496978, 1.63585] loss= 0.9953613\n",
            "after round 300 [0.5968532, 0.21367954, 1.6402125] loss= 0.9939763\n",
            "after round 310 [0.58607495, 0.21271926, 1.6439636] loss= 0.992666\n",
            "after round 320 [0.5753717, 0.21205588, 1.6471713] loss= 0.99141395\n",
            "after round 330 [0.5647367, 0.21165925, 1.6498941] loss= 0.9902074\n",
            "after round 340 [0.5541648, 0.21150294, 1.6521822] loss= 0.98903805\n",
            "after round 350 [0.54365164, 0.21156336, 1.6540797] loss= 0.9878971\n",
            "after round 360 [0.53319454, 0.21182032, 1.6556251] loss= 0.9867795\n",
            "after round 370 [0.5227919, 0.21225603, 1.6568527] loss= 0.98568094\n",
            "after round 380 [0.51244307, 0.21285515, 1.6577928] loss= 0.9845975\n",
            "after round 390 [0.5021486, 0.21360451, 1.6584724] loss= 0.9835278\n",
            "after round 400 [0.49191007, 0.21449295, 1.6589153] loss= 0.9824702\n",
            "after round 410 [0.48172978, 0.21551119, 1.6591427] loss= 0.98142296\n",
            "after round 420 [0.4716108, 0.21665207, 1.6591742] loss= 0.9803862\n",
            "after round 430 [0.4615568, 0.21791048, 1.6590272] loss= 0.97935975\n",
            "after round 440 [0.45157164, 0.21928394, 1.6587181] loss= 0.9783434\n",
            "after round 450 [0.44165948, 0.22077326, 1.6582624] loss= 0.9773364\n",
            "after round 460 [0.4318242, 0.2223839, 1.6576756] loss= 0.97633964\n",
            "after round 470 [0.42206928, 0.22412919, 1.6569757] loss= 0.97535294\n",
            "after round 480 [0.41239676, 0.22603698, 1.6561854] loss= 0.97437483\n",
            "after round 490 [0.40280658, 0.22816895, 1.6553414] loss= 0.97340226\n",
            "after round 500 [0.39329475, 0.23068431, 1.6545271] loss= 0.9724278\n",
            "after round 510 [0.38385454, 0.23415786, 1.6540364] loss= 0.9714082\n",
            "after round 520 [0.37450927, 0.2414973, 1.6554636] loss= 0.96989906\n",
            "after round 530 [0.3647451, 0.25012764, 1.6582152] loss= 0.9681005\n",
            "after round 540 [0.35439223, 0.25332227, 1.6583586] loss= 0.9669219\n",
            "after round 550 [0.34408197, 0.2552557, 1.6576759] loss= 0.96581775\n",
            "after round 560 [0.3339769, 0.2570836, 1.6567389] loss= 0.96475536\n",
            "after round 570 [0.32411173, 0.2589623, 1.655644] loss= 0.9637359\n",
            "after round 580 [0.31450298, 0.2609043, 1.6544168] loss= 0.96276116\n",
            "after round 590 [0.30516475, 0.26290363, 1.653072] loss= 0.96183175\n",
            "after round 600 [0.29611078, 0.26495194, 1.6516217] loss= 0.96095073\n",
            "after round 610 [0.2873546, 0.2670408, 1.6500765] loss= 0.96011734\n",
            "after round 620 [0.27890894, 0.26916158, 1.6484456] loss= 0.95933324\n",
            "after round 630 [0.27078557, 0.27130613, 1.6467367] loss= 0.9585992\n",
            "after round 640 [0.26299506, 0.27346632, 1.644956] loss= 0.9579154\n",
            "after round 650 [0.25554624, 0.27563462, 1.6431078] loss= 0.9572806\n",
            "after round 660 [0.2484458, 0.277804, 1.6411954] loss= 0.956694\n",
            "after round 670 [0.2416982, 0.27996805, 1.6392206] loss= 0.95615345\n",
            "after round 680 [0.23530535, 0.28212103, 1.6371831] loss= 0.9556579\n",
            "after round 690 [0.22926632, 0.28425804, 1.6350812] loss= 0.95520437\n",
            "after round 700 [0.22357734, 0.2863755, 1.6329117] loss= 0.9547896\n",
            "after round 710 [0.21823187, 0.2884708, 1.6306702] loss= 0.9544105\n",
            "after round 720 [0.21322063, 0.2905431, 1.628352] loss= 0.9540634\n",
            "after round 730 [0.20853202, 0.2925932, 1.6259528] loss= 0.95374465\n",
            "after round 740 [0.20415257, 0.29462424, 1.623471] loss= 0.95345074\n",
            "after round 750 [0.20006755, 0.29664144, 1.6209098] loss= 0.953178\n",
            "after round 760 [0.19626153, 0.29865178, 1.6182793] loss= 0.9529238\n",
            "after round 770 [0.1927189, 0.30066213, 1.6155978] loss= 0.9526862\n",
            "after round 780 [0.18942381, 0.30267686, 1.6128896] loss= 0.9524639\n",
            "after round 790 [0.18636036, 0.30469567, 1.6101828] loss= 0.9522567\n",
            "after round 800 [0.18351233, 0.3067129, 1.6075046] loss= 0.95206314\n",
            "after round 810 [0.18086368, 0.30871877, 1.6048788] loss= 0.9518838\n",
            "after round 820 [0.17839874, 0.3107017, 1.6023245] loss= 0.95171887\n",
            "after round 830 [0.17610273, 0.3126502, 1.599855] loss= 0.9515677\n",
            "after round 840 [0.17396191, 0.3145545, 1.5974797] loss= 0.9514294\n",
            "after round 850 [0.17196366, 0.31640685, 1.5952045] loss= 0.9513044\n",
            "after round 860 [0.17009644, 0.3182017, 1.5930322] loss= 0.95119\n",
            "after round 870 [0.16834973, 0.31993538, 1.5909638] loss= 0.9510867\n",
            "after round 880 [0.16671394, 0.32160598, 1.5889983] loss= 0.9509934\n",
            "after round 890 [0.1651803, 0.32321313, 1.5871335] loss= 0.9509097\n",
            "after round 900 [0.16374065, 0.3247573, 1.5853666] loss= 0.95083433\n",
            "after round 910 [0.16238756, 0.32623997, 1.583694] loss= 0.95076567\n",
            "after round 920 [0.16111417, 0.32766333, 1.5821118] loss= 0.95070523\n",
            "after round 930 [0.15991403, 0.32902998, 1.5806161] loss= 0.9506493\n",
            "after round 940 [0.15878114, 0.33034298, 1.5792022] loss= 0.950599\n",
            "after round 950 [0.15770996, 0.33160588, 1.5778664] loss= 0.95055443\n",
            "after round 960 [0.15669514, 0.33282262, 1.5766041] loss= 0.95051336\n",
            "after round 970 [0.15573166, 0.3339972, 1.5754118] loss= 0.9504761\n",
            "after round 980 [0.15481469, 0.33513418, 1.5742855] loss= 0.950442\n",
            "after round 990 [0.15393949, 0.3362388, 1.5732214] loss= 0.95041114\n",
            "Final:\n",
            "[0.15318371, 0.33721024, 1.5723146]\n"
          ],
          "name": "stdout"
        },
        {
          "output_type": "execute_result",
          "data": {
            "text/plain": [
              "[<matplotlib.lines.Line2D at 0x7fb3d5e12c50>]"
            ]
          },
          "metadata": {
            "tags": []
          },
          "execution_count": 28
        },
        {
          "output_type": "display_data",
          "data": {
            "image/png": "[encoded data removed]",
            "text/plain": [
              "<Figure size 432x288 with 1 Axes>"
            ]
          },
          "metadata": {
            "tags": []
          }
        }
      ]
    },
    {
      "cell_type": "markdown",
      "metadata": {
        "id": "cVZna9rzMChC",
        "colab_type": "text"
      },
      "source": [
        "3D + color plot of the optimization\n",
        "=="
      ]
    },
    {
      "cell_type": "code",
      "metadata": {
        "id": "OVs1yU6fLo7O",
        "colab_type": "code",
        "colab": {
          "base_uri": "https://localhost:8080/",
          "height": 256
        },
        "outputId": "7d4eb42e-a404-4df8-ed6e-3d4f1bcb7d9d"
      },
      "source": [
        "from mpl_toolkits.mplot3d import Axes3D\n",
        "fig = plt.figure()\n",
        "ax = fig.add_subplot(111, projection='3d')\n",
        "\n",
        "x = list(map(lambda p: p[0], values))\n",
        "y = list(map(lambda p: p[1], values))\n",
        "z = list(map(lambda p: p[2], values))\n",
        "c = list(map(lambda p: p[3], values))\n",
        "\n",
        "img = ax.scatter(x, y, z, c=c, cmap=plt.hot())\n",
        "fig.colorbar(img)\n",
        "plt.show()"
      ],
      "execution_count": 33,
      "outputs": [
        {
          "output_type": "display_data",
          "data": {
            "image/png": "[encoded data removed]",
            "text/plain": [
              "<Figure size 432x288 with 2 Axes>"
            ]
          },
          "metadata": {
            "tags": []
          }
        }
      ]
    },
    {
      "cell_type": "markdown",
      "metadata": {
        "id": "oCek4Tnh-HCM",
        "colab_type": "text"
      },
      "source": [
        "One training gave the result: $\\lambda_1\\approx 0.2016$, $w\\approx 0.2432$, $l\\approx 1.8975$.\n",
        "\n",
        "Looks like we are bottoming out at a cross-entropy of about 1.1 on each review. From $-\\log(x)=1.1$, we have $x=e^{-1.1}\\approx 0.33$. So that's about as much entropy as if we predicted the probability of a true event at $1/3$.\n",
        "\n",
        "Questions:\n",
        "\n",
        "* What if I let this run longer?\n",
        "* Can I do constrained optimization in Tensorflow, so that $\\lambda$ in model below is fixed to positive?\n",
        "* Would other optimizers be faster?\n",
        "\n",
        "Extension ideas:\n",
        "\n",
        "* Use softplus or exp to coerce real numbers into positives \n",
        "* Would it be useful to model per-card state?\n",
        "* Compute test-set loss on a withheld set of cards\n",
        "* Operate on batches; construct one computation graph for one card, do not throw them all into the graph.\n",
        "* Anki's SR algorithm uses the *interval*, the *card difficulty* and the *number of last successful reviews*. Would integrating the number of last successful reviews into the model help?\n",
        "* It would be nice to get a visualization of how the probabilities look for a given card, with review points.\n",
        "* It might be helpful to distinguish between \"learn\" reviews, \"relearn\" reviews and others."
      ]
    },
    {
      "cell_type": "markdown",
      "metadata": {
        "id": "JuC5QxS-fysR",
        "colab_type": "text"
      },
      "source": [
        "Basic model - the same forgetting curve starting after every revision\n",
        "==="
      ]
    },
    {
      "cell_type": "markdown",
      "metadata": {
        "id": "fPokEB70-puc",
        "colab_type": "text"
      },
      "source": [
        "This one currently does not work, and tends to somehow run into NaN's. I should fix that at some point."
      ]
    },
    {
      "cell_type": "code",
      "metadata": {
        "id": "wIk8oIoiCFf_",
        "colab_type": "code",
        "outputId": "9d95e172-5b29-4397-8c8d-0e430ab845cd",
        "colab": {
          "base_uri": "https://localhost:8080/",
          "height": 632
        }
      },
      "source": [
        "lambda1 = tf.Variable(1.0, name=\"lambda1\", trainable=True)\n",
        "losses = []\n",
        "probabilities = []\n",
        "\n",
        "def build_losses_for_reviews(card_reviews):\n",
        "  l = lambda1\n",
        "  for index, row in card_reviews.iterrows():\n",
        "    #print(row)\n",
        "    diff_seconds = row['diff'].total_seconds()\n",
        "    diff_days = diff_seconds / 86400.0\n",
        "    current_probability = 0.9998 * tf.exp(-l * diff_days) + 0.0001\n",
        "    probabilities.append(current_probability)\n",
        "\n",
        "    if row['correct']:\n",
        "      # we predicted probability current_probability --> if it was 1, do nothing\n",
        "      loss_bit = -tf.log(current_probability)\n",
        "      losses.append(loss_bit)\n",
        "    else:\n",
        "      loss_bit = -tf.log(1.0 - current_probability)\n",
        "      losses.append(loss_bit)\n",
        "\n",
        "for card in get_sample_card_ids(10):\n",
        "  build_losses_for_reviews(get_card_reviews(card))\n",
        "\n",
        "loss = tf.reduce_sum(losses) / len(losses)\n",
        "opt = tf.train.GradientDescentOptimizer(learning_rate=0.001)\n",
        "variables = [lambda1, lambda2]\n",
        "train_op = opt.minimize(loss, var_list=variables)\n",
        "\n",
        "with tf.Session() as sess:\n",
        "  sess.run(tf.global_variables_initializer())\n",
        "  for i in range(100):\n",
        "    loss_value = sess.run(loss)\n",
        "    if np.isnan(loss_value):\n",
        "      print('Reached NaN!')\n",
        "    sess.run(train_op)\n",
        "    if i % 10 == 0:\n",
        "      print('Probs: ', sess.run(probabilities))\n",
        "      print('Loss: ', loss_value)\n",
        "      print(\"after round\", i, sess.run(variables))\n",
        "  "
      ],
      "execution_count": 0,
      "outputs": [
        {
          "output_type": "stream",
          "text": [
            "Probs:  [0.983854, 0.9731835, 0.6304561, 0.6378329, 0.00010707023, 0.00010000005, 1e-04, 0.9870601, 0.98080695, 0.00013492166, 0.8915018, 0.80357873, 0.11786603, 0.018518459, 0.0012241048, 0.9928614, 0.9825855, 0.33358455, 0.9917703, 0.9197108, 0.83498573, 0.08052481, 0.12274151, 0.062798, 0.0043989536, 0.00038960838, 0.000100002035, 1e-04, 1e-04, 0.9921068, 0.91639555, 1e-04, 1e-04, 1e-04, 0.94125444, 0.52467954, 0.00011422679, 1e-04, 1e-04, 0.99875134, 0.9923497, 0.98533535, 0.018801449, 0.0022194902, 0.000100337245, 1e-04, 1e-04, 0.9986431, 0.69440746, 0.6172623, 0.00010000204, 1e-04, 1e-04, 0.9929457, 0.6246892, 0.00010000494, 1e-04, 1e-04, 0.9922447, 0.95966107, 0.20310037, 0.05310323, 0.000100000056, 1e-04, 1e-04, 0.9995254, 0.9995709, 0.62954056, 0.014662209, 0.00034591663, 0.00010002474, 1e-04, 1e-04, 0.85582453, 0.89602727, 0.8652565, 0.00012321361, 0.992933, 0.99084216, 0.9657137, 0.00010600637, 0.98374814, 0.98277557, 0.15442748, 0.0008701521, 0.00022042947, 0.00010003694, 1e-04, 1e-04, 1e-04, 0.99916565, 0.99204767, 0.98255646, 0.000100376885, 0.00010000003, 1e-04, 1e-04, 0.98831, 0.8771266, 0.024217416, 1e-04, 1e-04]\n",
            "Loss:  4.0319557\n",
            "after round 0 [0.9993052, 1.0]\n",
            "Probs:  [0.9839651, 0.9733676, 0.6324894, 0.639838, 0.00010768054, 0.000100000056, 1e-04, 0.98714924, 0.9809391, 0.00013751545, 0.89221627, 0.8048059, 0.11963778, 0.019039303, 0.0012786803, 0.9929103, 0.98270535, 0.33615074, 0.9918269, 0.9202476, 0.83603716, 0.0819524, 0.12455136, 0.06402197, 0.004565652, 0.0004065579, 0.00010000234, 1e-04, 1e-04, 0.992161, 0.91695374, 1e-04, 1e-04, 1e-04, 0.94165164, 0.5270469, 0.0001153796, 1e-04, 1e-04, 0.9987594, 0.99240226, 0.9854363, 0.019328244, 0.0023125743, 0.00010037422, 1e-04, 1e-04, 0.9986519, 0.69617724, 0.6193445, 0.000100002355, 1e-04, 1e-04, 0.99299407, 0.6267441, 0.00010000564, 1e-04, 1e-04, 0.9922979, 0.9599363, 0.20537262, 0.054201342, 0.00010000007, 1e-04, 1e-04, 0.99952805, 0.99957323, 0.63157725, 0.01509858, 0.0003606064, 0.00010002796, 1e-04, 1e-04, 0.8567547, 0.89671355, 0.86613065, 0.00012500901, 0.99298143, 0.9909051, 0.9659482, 0.00010653229, 0.98386, 0.9828941, 0.15645386, 0.0009096781, 0.00022826108, 0.00010004163, 1e-04, 1e-04, 1e-04, 0.9991708, 0.99210227, 0.98267657, 0.000100417885, 0.00010000003, 1e-04, 1e-04, 0.98839045, 0.87792915, 0.024852784, 1e-04, 1e-04]\n",
            "Loss:  4.027094\n",
            "after round 10 [0.99232846, 1.0]\n",
            "Probs:  [0.9840771, 0.97355294, 0.63454455, 0.64186454, 0.000108348744, 0.00010000007, 1e-04, 0.9872389, 0.98107207, 0.00014032371, 0.8929367, 0.8060443, 0.12144981, 0.019578962, 0.0013363472, 0.9929597, 0.98282605, 0.33875608, 0.9918839, 0.92078894, 0.83709776, 0.08341639, 0.12640184, 0.06527931, 0.004740146, 0.00042463842, 0.0001000027, 1e-04, 1e-04, 0.9922156, 0.91751635, 1e-04, 1e-04, 1e-04, 0.9420521, 0.52944297, 0.00011663557, 1e-04, 1e-04, 0.99876744, 0.9924551, 0.985538, 0.019874016, 0.0024104947, 0.00010041558, 1e-04, 1e-04, 0.99866074, 0.69796497, 0.62144935, 0.00010000271, 1e-04, 1e-04, 0.9930428, 0.6288213, 0.00010000646, 1e-04, 1e-04, 0.9923516, 0.9602137, 0.20768766, 0.055330735, 0.00010000008, 1e-04, 1e-04, 0.9995307, 0.99957556, 0.633636, 0.015551467, 0.00037629457, 0.000100031626, 1e-04, 1e-04, 0.85769284, 0.8974057, 0.8670122, 0.00012695839, 0.99303025, 0.9909686, 0.9661846, 0.00010710874, 0.9839727, 0.98301363, 0.15852241, 0.0009515539, 0.00023666673, 0.00010004696, 1e-04, 1e-04, 1e-04, 0.99917597, 0.9921573, 0.9827975, 0.00010046371, 0.000100000034, 1e-04, 1e-04, 0.9884715, 0.8787385, 0.025509862, 1e-04, 1e-04]\n",
            "Loss:  4.022158\n",
            "after round 20 [0.9852992, 1.0]\n",
            "Probs:  [0.9841899, 0.9737399, 0.6366221, 0.64391303, 0.00010908081, 0.000100000085, 1e-04, 0.98732936, 0.9812062, 0.00014336582, 0.89366317, 0.80729383, 0.12330339, 0.020138264, 0.0013973047, 0.99300945, 0.9829478, 0.34140173, 0.9919413, 0.92133474, 0.83816785, 0.08491796, 0.12829417, 0.0665712, 0.0049228556, 0.00044393467, 0.000100003104, 1e-04, 1e-04, 0.9922706, 0.91808367, 1e-04, 1e-04, 1e-04, 0.9424558, 0.5318682, 0.00011800485, 1e-04, 1e-04, 0.99877554, 0.9925085, 0.9856405, 0.020439593, 0.0025135402, 0.000100461875, 1e-04, 1e-04, 0.9986696, 0.6997708, 0.62357754, 0.00010000312, 1e-04, 1e-04, 0.993092, 0.6309212, 0.0001000074, 1e-04, 1e-04, 0.9924056, 0.9604933, 0.21004666, 0.05649254, 0.00010000009, 1e-04, 1e-04, 0.99953336, 0.9995779, 0.6357171, 0.016021611, 0.00039305686, 0.00010003581, 1e-04, 1e-04, 0.8586392, 0.8981036, 0.8679014, 0.00012907624, 0.99307954, 0.9910325, 0.9664228, 0.00010774103, 0.98408633, 0.983134, 0.1606343, 0.0009959375, 0.0002456934, 0.00010005301, 1e-04, 1e-04, 1e-04, 0.99918115, 0.9922128, 0.9829194, 0.00010051496, 0.00010000004, 1e-04, 1e-04, 0.98855317, 0.8795548, 0.02618956, 1e-04, 1e-04]\n",
            "Loss:  4.017148\n",
            "after round 30 [0.9782167, 1.0]\n",
            "Probs:  [0.9843036, 0.9739283, 0.6387224, 0.64598376, 0.00010988343, 0.0001000001, 1e-04, 0.9874205, 0.9813412, 0.00014666346, 0.8943958, 0.80855507, 0.12519976, 0.020718098, 0.0014617703, 0.9930595, 0.98307043, 0.3440885, 0.99199915, 0.92188495, 0.8392474, 0.08645842, 0.13022967, 0.067898884, 0.005114245, 0.0004645392, 0.000100003585, 1e-04, 1e-04, 0.9923261, 0.9186556, 1e-04, 1e-04, 1e-04, 0.94286263, 0.53432316, 0.00011949864, 1e-04, 1e-04, 0.99878377, 0.9925622, 0.9857438, 0.021025864, 0.0026220244, 0.00010051374, 1e-04, 1e-04, 0.99867857, 0.70159525, 0.6257293, 0.0001000036, 1e-04, 1e-04, 0.9931415, 0.63304424, 0.00010000848, 1e-04, 1e-04, 0.9924601, 0.9607751, 0.21245088, 0.05768797, 0.000100000114, 1e-04, 1e-04, 0.99953604, 0.99958014, 0.637821, 0.016509835, 0.0004109763, 0.00010004058, 1e-04, 1e-04, 0.85959387, 0.89880735, 0.86879826, 0.00013137865, 0.9931292, 0.9910969, 0.966663, 0.00010843505, 0.9842008, 0.98325527, 0.16279085, 0.0010430014, 0.00025539228, 0.0001000599, 1e-04, 1e-04, 1e-04, 0.99918634, 0.9922686, 0.98304224, 0.00010057233, 0.00010000005, 1e-04, 1e-04, 0.98863554, 0.88037807, 0.026892867, 1e-04, 1e-04]\n",
            "Loss:  4.01206\n",
            "after round 40 [0.97107995, 1.0]\n",
            "Probs:  [0.9844183, 0.9741182, 0.64084595, 0.64807713, 0.00011076402, 0.000100000114, 1e-04, 0.9875124, 0.98147744, 0.00015024022, 0.89513475, 0.809828, 0.12714028, 0.021319363, 0.0015299724, 0.99311006, 0.983194, 0.34681734, 0.9920573, 0.9224397, 0.8403367, 0.08803901, 0.13220967, 0.06926363, 0.005314793, 0.0004865511, 0.00010000414, 1e-04, 1e-04, 0.99238193, 0.9192323, 1e-04, 1e-04, 1e-04, 0.9432729, 0.5368086, 0.000121129306, 1e-04, 1e-04, 0.99879205, 0.99261636, 0.98584795, 0.021633746, 0.0027362758, 0.0001005719, 1e-04, 1e-04, 0.9986876, 0.7034386, 0.6279052, 0.00010000416, 1e-04, 1e-04, 0.99319136, 0.63519084, 0.00010000973, 1e-04, 1e-04, 0.992515, 0.9610591, 0.21490142, 0.05891823, 0.000100000136, 1e-04, 1e-04, 0.9995387, 0.9995826, 0.6399483, 0.017016955, 0.0004301422, 0.00010004603, 1e-04, 1e-04, 0.8605569, 0.8995172, 0.869703, 0.00013388324, 0.99317914, 0.9911618, 0.9669051, 0.00010919737, 0.9843161, 0.9833775, 0.16499332, 0.0010929285, 0.0002658192, 0.00010006775, 1e-04, 1e-04, 1e-04, 0.99919164, 0.9923249, 0.983166, 0.00010063662, 0.00010000006, 1e-04, 1e-04, 0.98871845, 0.8812084, 0.027620759, 1e-04, 1e-04]\n",
            "Loss:  4.006894\n",
            "after round 50 [0.9638882, 1.0]\n",
            "Probs:  [0.98453385, 0.97430944, 0.64299315, 0.65019363, 0.00011173085, 0.000100000136, 1e-04, 0.9876049, 0.98161465, 0.00015412219, 0.89588, 0.8111129, 0.12912637, 0.021943051, 0.0016021611, 0.9931609, 0.98331857, 0.34958932, 0.99211615, 0.92299914, 0.84143597, 0.0896612, 0.13423552, 0.07066678, 0.005525015, 0.00051007903, 0.000100004785, 1e-04, 1e-04, 0.99243826, 0.91981393, 1e-04, 1e-04, 1e-04, 0.9436865, 0.53932506, 0.00012291066, 1e-04, 1e-04, 0.9988004, 0.9926709, 0.9859529, 0.022264224, 0.0028566543, 0.000100637175, 1e-04, 1e-04, 0.99869674, 0.70530117, 0.6301056, 0.00010000481, 1e-04, 1e-04, 0.99324155, 0.6373616, 0.00010001118, 1e-04, 1e-04, 0.9925703, 0.9613455, 0.21739964, 0.060184646, 0.00010000016, 1e-04, 1e-04, 0.9995414, 0.999585, 0.6420992, 0.01754388, 0.00045065233, 0.00010005227, 1e-04, 1e-04, 0.86152846, 0.900233, 0.8706158, 0.00013660963, 0.9932294, 0.99122715, 0.967149, 0.00011003534, 0.98443234, 0.9835007, 0.16724306, 0.0011459189, 0.00027703505, 0.00010007671, 1e-04, 1e-04, 1e-04, 0.999197, 0.9923817, 0.9832908, 0.00010070871, 0.00010000007, 1e-04, 1e-04, 0.9888021, 0.8820461, 0.028374324, 1e-04, 1e-04]\n",
            "Loss:  4.001647\n",
            "after round 60 [0.9566406, 1.0]\n",
            "Probs:  [0.9846502, 0.9745023, 0.64516443, 0.65233374, 0.00011279314, 0.000100000165, 1e-04, 0.98769826, 0.98175305, 0.00015833817, 0.8966318, 0.81240976, 0.13115942, 0.02259018, 0.0016786045, 0.99321216, 0.98344415, 0.3524055, 0.99217534, 0.92356324, 0.8425452, 0.09132635, 0.13630868, 0.07210974, 0.0057454607, 0.0005352407, 0.00010000554, 1e-04, 1e-04, 0.992495, 0.92040044, 1e-04, 1e-04, 1e-04, 0.9441035, 0.54187316, 0.00012485795, 1e-04, 1e-04, 0.9988088, 0.9927259, 0.9860586, 0.022918325, 0.0029835375, 0.00010071051, 1e-04, 1e-04, 0.998706, 0.70718324, 0.63233113, 0.00010000556, 1e-04, 1e-04, 0.9932923, 0.63955677, 0.00010001286, 1e-04, 1e-04, 0.992626, 0.96163416, 0.21994688, 0.0614886, 0.00010000019, 1e-04, 1e-04, 0.99954414, 0.99958736, 0.6442743, 0.018091543, 0.00047261282, 0.000100059406, 1e-04, 1e-04, 0.8625089, 0.9009551, 0.8715367, 0.00013957938, 0.99328023, 0.99129313, 0.96739495, 0.00011095715, 0.9845496, 0.9836249, 0.16954154, 0.0012021863, 0.00028910674, 0.00010008693, 1e-04, 1e-04, 1e-04, 0.9992024, 0.99243885, 0.9834165, 0.00010078963, 0.00010000009, 1e-04, 1e-04, 0.9888863, 0.8828912, 0.029154675, 1e-04, 1e-04]\n",
            "Loss:  3.996318\n",
            "after round 70 [0.9493361, 1.0]\n",
            "Probs:  [0.9847676, 0.9746968, 0.6473603, 0.654498, 0.000113961236, 0.000100000194, 1e-04, 0.9877923, 0.9818924, 0.00016292004, 0.8973901, 0.81371915, 0.13324106, 0.02326185, 0.0017595915, 0.9932639, 0.98357075, 0.35526696, 0.992235, 0.9241323, 0.8436648, 0.09303606, 0.13843074, 0.073594, 0.005976722, 0.0005621648, 0.00010000642, 1e-04, 1e-04, 0.9925523, 0.92099196, 1e-04, 1e-04, 1e-04, 0.944524, 0.5444536, 0.00012698825, 1e-04, 1e-04, 0.9988172, 0.9927814, 0.98616517, 0.023597151, 0.003117341, 0.00010079296, 1e-04, 1e-04, 0.9987152, 0.7090854, 0.6345822, 0.00010000645, 1e-04, 1e-04, 0.99334335, 0.6417771, 0.000100014804, 1e-04, 1e-04, 0.9926823, 0.96192527, 0.22254454, 0.062831536, 0.00010000022, 1e-04, 1e-04, 0.99954695, 0.99958974, 0.6464741, 0.018660963, 0.00049613987, 0.00010006759, 1e-04, 1e-04, 0.86349815, 0.90168345, 0.87246585, 0.00014281654, 0.9933314, 0.99135965, 0.9676429, 0.00011197199, 0.9846677, 0.9837501, 0.17189023, 0.0012619648, 0.00030210734, 0.000100098616, 1e-04, 1e-04, 1e-04, 0.99920774, 0.9924965, 0.9835433, 0.00010088054, 0.00010000011, 1e-04, 1e-04, 0.9889713, 0.8837437, 0.02996302, 1e-04, 1e-04]\n",
            "Loss:  3.9909039\n",
            "after round 80 [0.9419736, 1.0]\n",
            "Probs:  [0.9848859, 0.9748929, 0.64958143, 0.6566869, 0.00011524663, 0.00010000024, 1e-04, 0.9878871, 0.9820331, 0.00016790276, 0.89815515, 0.815041, 0.1353728, 0.023959193, 0.0018454314, 0.993316, 0.9836983, 0.35817486, 0.9922952, 0.92470616, 0.8447948, 0.09479189, 0.14060324, 0.07512112, 0.006219423, 0.0005909902, 0.00010000745, 1e-04, 1e-04, 0.99260986, 0.9215886, 1e-04, 1e-04, 1e-04, 0.944948, 0.5470673, 0.0001293204, 1e-04, 1e-04, 0.9988257, 0.99283725, 0.9862727, 0.024301847, 0.0032584965, 0.00010088576, 1e-04, 1e-04, 0.9987245, 0.71100795, 0.63685954, 0.000100007484, 1e-04, 1e-04, 0.9933949, 0.64402294, 0.00010001707, 1e-04, 1e-04, 0.9927389, 0.9622187, 0.22519405, 0.06421494, 0.00010000027, 1e-04, 1e-04, 0.9995497, 0.99959224, 0.6486992, 0.019253172, 0.0005213584, 0.00010007698, 1e-04, 1e-04, 0.8644965, 0.9024182, 0.8734034, 0.00014634764, 0.993383, 0.9914266, 0.96789294, 0.00011309008, 0.9847868, 0.9838763, 0.17429066, 0.0013255026, 0.00031611643, 0.000100111974, 1e-04, 1e-04, 1e-04, 0.9992132, 0.9925546, 0.98367107, 0.00010098278, 0.00010000013, 1e-04, 1e-04, 0.9890569, 0.8846039, 0.030800594, 1e-04, 1e-04]\n",
            "Loss:  3.9854028\n",
            "after round 90 [0.93455225, 1.0]\n",
            "Final:\n",
            "[0.9278214, 1.0]\n",
            "Probs:  [0.9849933, 0.97507066, 0.65160245, 0.6586784, 0.00011651449, 0.000100000274, 1e-04, 0.98797315, 0.9821606, 0.00017276232, 0.8988496, 0.81624186, 0.13733567, 0.024609787, 0.0019271182, 0.99336326, 0.98381406, 0.36083275, 0.9923497, 0.92522705, 0.8458211, 0.09641302, 0.14260307, 0.07653356, 0.006448197, 0.0006186852, 0.000100008525, 1e-04, 1e-04, 0.9926622, 0.92213017, 1e-04, 1e-04, 1e-04, 0.9453328, 0.54944855, 0.00013160935, 1e-04, 1e-04, 0.9988335, 0.992888, 0.9863701, 0.024959235, 0.0033922226, 0.00010097928, 1e-04, 1e-04, 0.9987329, 0.71275616, 0.63893193, 0.00010000857, 1e-04, 1e-04, 0.9934416, 0.64606667, 0.00010001941, 1e-04, 1e-04, 0.99279034, 0.96248496, 0.22762431, 0.065496, 0.00010000032, 1e-04, 1e-04, 0.99955225, 0.99959445, 0.6507239, 0.019806601, 0.0005456163, 0.00010008662, 1e-04, 1e-04, 0.86540294, 0.9030852, 0.8742547, 0.00014980134, 0.9934298, 0.9914874, 0.9681198, 0.00011419419, 0.9848949, 0.9839908, 0.17649673, 0.0013861279, 0.00032966016, 0.00010012566, 1e-04, 1e-04, 1e-04, 0.99921817, 0.9926073, 0.9837871, 0.00010108574, 0.00010000015, 1e-04, 1e-04, 0.98913455, 0.88538486, 0.031580538, 1e-04, 1e-04]\n",
            "Loss:  3.980375\n"
          ],
          "name": "stdout"
        }
      ]
    }
  ]
}