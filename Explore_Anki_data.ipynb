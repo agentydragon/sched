{
  "nbformat": 4,
  "nbformat_minor": 0,
  "metadata": {
    "colab": {
      "name": "Explore Anki data",
      "version": "0.3.2",
      "provenance": [],
      "collapsed_sections": [],
      "include_colab_link": true
    },
    "kernelspec": {
      "name": "python3",
      "display_name": "Python 3"
    },
    "accelerator": "GPU"
  },
  "cells": [
    {
      "cell_type": "markdown",
      "metadata": {
        "id": "view-in-github",
        "colab_type": "text"
      },
      "source": [
        "<a href=\"https://colab.research.google.com/github/agentydragon/sched/blob/master/Explore_Anki_data.ipynb\" target=\"_parent\"><img src=\"https://colab.research.google.com/assets/colab-badge.svg\" alt=\"Open In Colab\"/></a>"
      ]
    },
    {
      "cell_type": "code",
      "metadata": {
        "id": "U67javkAzODA",
        "colab_type": "code",
        "outputId": "2b16200d-39e2-415c-ce45-e5f3e84bd491",
        "colab": {
          "base_uri": "https://localhost:8080/",
          "height": 124
        }
      },
      "source": [
        "import sqlite3\n",
        "import pandas as pd\n",
        "import matplotlib\n",
        "import matplotlib.pyplot as plt\n",
        "import numpy as np\n",
        "import tensorflow as tf\n",
        "from datetime import timedelta\n",
        "from google.colab import drive\n",
        "drive.mount('/content/gdrive')"
      ],
      "execution_count": 1,
      "outputs": [
        {
          "output_type": "stream",
          "text": [
            "Go to this URL in a browser: https://accounts.google.com/o/oauth2/auth?client_id=947318989803-6bn6qk8qdgf4n4g3pfee6491hc0brc4i.apps.googleusercontent.com&redirect_uri=urn%3Aietf%3Awg%3Aoauth%3A2.0%3Aoob&scope=email%20https%3A%2F%2Fwww.googleapis.com%2Fauth%2Fdocs.test%20https%3A%2F%2Fwww.googleapis.com%2Fauth%2Fdrive%20https%3A%2F%2Fwww.googleapis.com%2Fauth%2Fdrive.photos.readonly%20https%3A%2F%2Fwww.googleapis.com%2Fauth%2Fpeopleapi.readonly&response_type=code\n",
            "\n",
            "Enter your authorization code:\n",
            "··········\n",
            "Mounted at /content/gdrive\n"
          ],
          "name": "stdout"
        }
      ]
    },
    {
      "cell_type": "code",
      "metadata": {
        "id": "l6L9Fgt2zgto",
        "colab_type": "code",
        "colab": {}
      },
      "source": [
        "conn = sqlite3.connect('/content/gdrive/My Drive/collection.anki2')\n",
        "data = []\n",
        "for row in conn.execute('SELECT id, cid, ease, time, type FROM revlog;'):\n",
        "  id, cid, ease, time, type = row\n",
        "  data.append((pd.Timestamp(id, unit='ms'), cid, ease, time, type))\n",
        "df = pd.DataFrame(data, columns = ['id', 'cid', 'ease', 'time', 'type'])"
      ],
      "execution_count": 0,
      "outputs": []
    },
    {
      "cell_type": "code",
      "metadata": {
        "id": "raQj0FHXyI5I",
        "colab_type": "code",
        "colab": {
          "base_uri": "https://localhost:8080/",
          "height": 34
        },
        "outputId": "88121de0-a626-4bcf-add7-f58e30115f33"
      },
      "source": [
        "print(len(pd.unique(df['cid'])))"
      ],
      "execution_count": 3,
      "outputs": [
        {
          "output_type": "stream",
          "text": [
            "34537\n"
          ],
          "name": "stdout"
        }
      ]
    },
    {
      "cell_type": "code",
      "metadata": {
        "id": "pZ45dWes9B-7",
        "colab_type": "code",
        "outputId": "d833551e-9f7d-44bb-afc2-48202a640c66",
        "colab": {
          "base_uri": "https://localhost:8080/",
          "height": 341
        }
      },
      "source": [
        "x = np.linspace(0.0, 10.0)\n",
        "plt.plot(x, np.exp(-x), x, np.exp(-0.5 * x), x, np.exp(-0.25 * x), x, np.exp(-0.05 * x))"
      ],
      "execution_count": 0,
      "outputs": [
        {
          "output_type": "execute_result",
          "data": {
            "text/plain": [
              "[<matplotlib.lines.Line2D at 0x7fc8a6d39240>,\n",
              " <matplotlib.lines.Line2D at 0x7fc8a6d390b8>,\n",
              " <matplotlib.lines.Line2D at 0x7fc8a6d44c88>,\n",
              " <matplotlib.lines.Line2D at 0x7fc8a6d44940>]"
            ]
          },
          "metadata": {
            "tags": []
          },
          "execution_count": 7
        },
        {
          "output_type": "display_data",
          "data": {
            "image/png": "[encoded data removed]",
            "text/plain": [
              "<Figure size 432x288 with 1 Axes>"
            ]
          },
          "metadata": {
            "tags": []
          }
        }
      ]
    },
    {
      "cell_type": "code",
      "metadata": {
        "id": "Pa5EBa48Xruw",
        "colab_type": "code",
        "outputId": "d0a399d9-f21d-4f58-e583-aaf459c764b7",
        "colab": {
          "base_uri": "https://localhost:8080/",
          "height": 323
        }
      },
      "source": [
        "plt.plot(x, -np.log(1-np.exp(-x)))"
      ],
      "execution_count": 0,
      "outputs": [
        {
          "output_type": "stream",
          "text": [
            "/usr/local/lib/python3.6/dist-packages/ipykernel_launcher.py:1: RuntimeWarning: divide by zero encountered in log\n",
            "  \"\"\"Entry point for launching an IPython kernel.\n"
          ],
          "name": "stderr"
        },
        {
          "output_type": "execute_result",
          "data": {
            "text/plain": [
              "[<matplotlib.lines.Line2D at 0x7fc888853eb8>]"
            ]
          },
          "metadata": {
            "tags": []
          },
          "execution_count": 8
        },
        {
          "output_type": "display_data",
          "data": {
            "image/png": "[encoded data removed]",
            "text/plain": [
              "<Figure size 432x288 with 1 Axes>"
            ]
          },
          "metadata": {
            "tags": []
          }
        }
      ]
    },
    {
      "cell_type": "code",
      "metadata": {
        "id": "nHNXUJxPDeoy",
        "colab_type": "code",
        "colab": {}
      },
      "source": [
        "def get_card_reviews(cid):\n",
        "  card_reviews = df[df.cid == cid]\n",
        "  card_reviews = card_reviews.loc[:, ['id', 'ease', 'time', 'type']]\n",
        "  card_reviews['correct'] = card_reviews.ease > 1\n",
        "  card_reviews = card_reviews.loc[:, ['id', 'correct']]\n",
        "  card_reviews.head()\n",
        "  card_reviews['diff'] = card_reviews['id'].diff()\n",
        "  return card_reviews[~card_reviews['diff'].isnull()]\n",
        "\n",
        "def get_sample_card_ids(n):\n",
        "  return pd.Series(pd.unique(df['cid'])).sort_values().sample(n=n, random_state=1).to_numpy()"
      ],
      "execution_count": 0,
      "outputs": []
    },
    {
      "cell_type": "markdown",
      "metadata": {
        "id": "_rN7g3WXf5gm",
        "colab_type": "text"
      },
      "source": [
        "Card difficulty - making lambda smaller/bigger on win/loss\n",
        "==="
      ]
    },
    {
      "cell_type": "markdown",
      "metadata": {
        "id": "eZnbx0r99D_E",
        "colab_type": "text"
      },
      "source": [
        "Model: probability of getting a card right is $\\hat{p} = e^{-\\lambda \\cdot t}$.\n",
        "If you get a card right, $\\lambda$ gets multiplied by $w$, and if you get it wrong, it gets multiplied by $l$.\n",
        "The initial value of $\\lambda$ is $\\lambda_1$. $t$ is measured in floating-point days since last review. Parameters are $[\\lambda_1, w, l]$ and they are initialized with ones. To prevent taking logs of numbers very close to 0, we cap $\\hat{p}$ between 0.001 and 0.998. Here we try to fit one global model.\n",
        "\n",
        "We optimize $H(p, \\hat{p})$ by stochastic gradient descent. The model is trained on 1000 random cards."
      ]
    },
    {
      "cell_type": "code",
      "metadata": {
        "id": "gubhQKRbfxuB",
        "colab_type": "code",
        "outputId": "0c881002-575e-41ae-fa32-740b9c37127b",
        "colab": {
          "base_uri": "https://localhost:8080/",
          "height": 1874
        }
      },
      "source": [
        "lambda1 = tf.Variable(1.0, name=\"lambda1\", trainable=True)\n",
        "win_p = tf.Variable(1.0)\n",
        "loss_p = tf.Variable(1.0)\n",
        "l = lambda1\n",
        "losses = []\n",
        "probabilities = []\n",
        "\n",
        "def build_losses_for_reviews(card_reviews):\n",
        "  l = lambda1\n",
        "  for index, row in card_reviews.iterrows():\n",
        "    #print(row)\n",
        "    diff_seconds = row['diff'].total_seconds()\n",
        "    diff_days = diff_seconds / 86400.0\n",
        "    current_probability = 0.998 * tf.exp(-l * diff_days) + 0.001\n",
        "    probabilities.append(current_probability)\n",
        "\n",
        "    if row['correct']:\n",
        "      # we predicted probability current_probability --> if it was 1, do nothing\n",
        "      loss_bit = -tf.log(current_probability)\n",
        "      losses.append(loss_bit)\n",
        "      l = l * win_p\n",
        "    else:\n",
        "      #print('not correct')\n",
        "      loss_bit = -tf.log(1.0 - current_probability)\n",
        "      losses.append(loss_bit)\n",
        "      l = l * loss_p\n",
        "      \n",
        "for card in get_sample_card_ids(1000):\n",
        "  build_losses_for_reviews(get_card_reviews(card))\n",
        "\n",
        "loss = tf.reduce_sum(losses) / len(losses)\n",
        "opt = tf.train.GradientDescentOptimizer(learning_rate=0.01) #0.01\n",
        "variables = [lambda1, win_p, loss_p]\n",
        "train_op = opt.minimize(loss, var_list=variables)\n",
        "\n",
        "with tf.Session() as sess:\n",
        "  sess.run(tf.global_variables_initializer())\n",
        "  for i in range(1000):\n",
        "#    print('Probs: ', sess.run(probabilities))\n",
        "#    print('Loss: ', sess.run(loss))\n",
        "    metadata = tf.RunMetadata()\n",
        "    sess.run(train_op)\n",
        "    if i % 10 == 0:\n",
        "      print(\"after round\", i, sess.run(variables), \"loss=\", sess.run(loss))\n",
        "  \n",
        "  print('Final:')\n",
        "  print(sess.run(variables))\n",
        "#  print('Probs: ', sess.run(probabilities))\n",
        "#  print('Loss: ', sess.run(loss))\n",
        "    "
      ],
      "execution_count": 5,
      "outputs": [
        {
          "output_type": "stream",
          "text": [
            "WARNING:tensorflow:From /usr/local/lib/python3.6/dist-packages/tensorflow/python/framework/op_def_library.py:263: colocate_with (from tensorflow.python.framework.ops) is deprecated and will be removed in a future version.\n",
            "Instructions for updating:\n",
            "Colocations handled automatically by placer.\n",
            "after round 0 [0.9948127, 0.9265158, 0.9574966] loss= 2.7989676\n",
            "after round 10 [0.9554716, 0.68867004, 0.9956161] loss= 2.1950507\n",
            "after round 20 [0.9174773, 0.481618, 1.0700268] loss= 1.695402\n",
            "after round 30 [0.88792366, 0.32574418, 1.129935] loss= 1.406148\n",
            "after round 40 [0.8711519, 0.25430214, 1.1740621] loss= 1.3325257\n",
            "after round 50 [0.8594233, 0.21829039, 1.2124249] loss= 1.3035784\n",
            "after round 60 [0.8498727, 0.1991274, 1.2484754] loss= 1.285962\n",
            "after round 70 [0.84135073, 0.18910672, 1.2822889] loss= 1.2728657\n",
            "after round 80 [0.8332972, 0.18492456, 1.313216] loss= 1.2624648\n",
            "after round 90 [0.82545394, 0.18372652, 1.3425608] loss= 1.2532506\n",
            "after round 100 [0.8176308, 0.184057, 1.3704917] loss= 1.2448472\n",
            "after round 110 [0.8097611, 0.18538415, 1.3975385] loss= 1.2368796\n",
            "after round 120 [0.80181926, 0.18691508, 1.4235996] loss= 1.2294636\n",
            "after round 130 [0.79371446, 0.18824933, 1.4475842] loss= 1.2230388\n",
            "after round 140 [0.78545254, 0.19196247, 1.4714849] loss= 1.2165002\n",
            "after round 150 [0.776898, 0.19425538, 1.4935955] loss= 1.2108402\n",
            "after round 160 [0.76821333, 0.19777526, 1.5160556] loss= 1.2048961\n",
            "after round 170 [0.7593222, 0.20103462, 1.5387163] loss= 1.1988586\n",
            "after round 180 [0.75019246, 0.20364767, 1.5610934] loss= 1.1929554\n",
            "after round 190 [0.74085903, 0.20378019, 1.5812999] loss= 1.1880132\n",
            "after round 200 [0.73139876, 0.20320415, 1.5996745] loss= 1.1837499\n",
            "after round 210 [0.7218786, 0.20360534, 1.6171799] loss= 1.1797816\n",
            "after round 220 [0.7123076, 0.20506462, 1.634834] loss= 1.1757168\n",
            "after round 230 [0.7026262, 0.20578456, 1.652115] loss= 1.1717966\n",
            "after round 240 [0.6928912, 0.20386794, 1.6674023] loss= 1.1684824\n",
            "after round 250 [0.6832763, 0.2017405, 1.6813397] loss= 1.1655768\n",
            "after round 260 [0.6737732, 0.19982128, 1.69425] loss= 1.1629767\n",
            "after round 270 [0.664388, 0.19756012, 1.7059708] loss= 1.1606768\n",
            "after round 280 [0.65513986, 0.19567718, 1.7168326] loss= 1.1586096\n",
            "after round 290 [0.6459753, 0.19607657, 1.7277392] loss= 1.1565613\n",
            "after round 300 [0.63666934, 0.19805421, 1.7388307] loss= 1.1544269\n",
            "after round 310 [0.62715596, 0.19902977, 1.7491552] loss= 1.1524458\n",
            "after round 320 [0.6175738, 0.19842315, 1.7584177] loss= 1.1506683\n",
            "after round 330 [0.6080107, 0.19951843, 1.7678361] loss= 1.1488308\n",
            "after round 340 [0.59821206, 0.20396543, 1.7784035] loss= 1.1465538\n",
            "after round 350 [0.5880123, 0.20448917, 1.7876587] loss= 1.1446452\n",
            "after round 360 [0.57780087, 0.20322198, 1.795783] loss= 1.1429291\n",
            "after round 370 [0.5676877, 0.20197555, 1.803311] loss= 1.1413263\n",
            "after round 380 [0.55766827, 0.20104733, 1.8103667] loss= 1.1398176\n",
            "after round 390 [0.547712, 0.20079467, 1.8171072] loss= 1.1383715\n",
            "after round 400 [0.53774315, 0.20166796, 1.8237517] loss= 1.1369276\n",
            "after round 410 [0.5276889, 0.20274831, 1.830165] loss= 1.1354939\n",
            "after round 420 [0.5175623, 0.20430088, 1.8365498] loss= 1.1340352\n",
            "after round 430 [0.5073325, 0.20570639, 1.842727] loss= 1.1325878\n",
            "after round 440 [0.49706802, 0.20600146, 1.848348] loss= 1.1312184\n",
            "after round 450 [0.48686522, 0.20615691, 1.8536726] loss= 1.1298944\n",
            "after round 460 [0.4767335, 0.20663004, 1.8588828] loss= 1.1285946\n",
            "after round 470 [0.4666578, 0.2069601, 1.8638595] loss= 1.1273316\n",
            "after round 480 [0.45667508, 0.20693403, 1.868475] loss= 1.1261232\n",
            "after round 490 [0.44682425, 0.20689829, 1.8727915] loss= 1.1249676\n",
            "after round 500 [0.43711102, 0.20719427, 1.8769014] loss= 1.1238549\n",
            "after round 510 [0.42750153, 0.20861425, 1.8810337] loss= 1.1227366\n",
            "after round 520 [0.41787663, 0.21091068, 1.8851271] loss= 1.1215905\n",
            "after round 530 [0.4082349, 0.21250364, 1.8887758] loss= 1.1205032\n",
            "after round 540 [0.39865494, 0.21383905, 1.8921739] loss= 1.1194531\n",
            "after round 550 [0.3891794, 0.21461216, 1.8952122] loss= 1.1184579\n",
            "after round 560 [0.37988234, 0.21495502, 1.897886] loss= 1.1175221\n",
            "after round 570 [0.3708146, 0.2151793, 1.9002813] loss= 1.1166433\n",
            "after round 580 [0.36199838, 0.21540985, 1.902444] loss= 1.1158202\n",
            "after round 590 [0.35344434, 0.2156938, 1.9044002] loss= 1.1150506\n",
            "after round 600 [0.34515786, 0.21606976, 1.9061731] loss= 1.1143321\n",
            "after round 610 [0.33713877, 0.21660756, 1.907794] loss= 1.1136608\n",
            "after round 620 [0.32937774, 0.2174823, 1.9093223] loss= 1.1130282\n",
            "after round 630 [0.32184282, 0.21901163, 1.910853] loss= 1.1124133\n",
            "after round 640 [0.3144754, 0.22115079, 1.9123731] loss= 1.1118007\n",
            "after round 650 [0.30719778, 0.22510442, 1.9142525] loss= 1.1110716\n",
            "after round 660 [0.2997926, 0.22741033, 1.9155314] loss= 1.1104472\n",
            "after round 670 [0.29256842, 0.22806177, 1.9161619] loss= 1.1099181\n",
            "after round 680 [0.28568208, 0.22856674, 1.9166003] loss= 1.1094406\n",
            "after round 690 [0.27914876, 0.22906958, 1.9169018] loss= 1.1090114\n",
            "after round 700 [0.27296898, 0.2295785, 1.9170797] loss= 1.1086277\n",
            "after round 710 [0.2671404, 0.23009257, 1.9171445] loss= 1.108286\n",
            "after round 720 [0.26165864, 0.23061039, 1.9171052] loss= 1.1079837\n",
            "after round 730 [0.2565175, 0.23113035, 1.9169707] loss= 1.1077173\n",
            "after round 740 [0.25170898, 0.23165092, 1.916749] loss= 1.1074835\n",
            "after round 750 [0.24722353, 0.23217069, 1.9164478] loss= 1.1072793\n",
            "after round 760 [0.2430502, 0.23268841, 1.916074] loss= 1.1071016\n",
            "after round 770 [0.23917678, 0.233203, 1.9156344] loss= 1.1069475\n",
            "after round 780 [0.2355901, 0.23371336, 1.9151353] loss= 1.1068141\n",
            "after round 790 [0.23227614, 0.23421873, 1.9145825] loss= 1.1066991\n",
            "after round 800 [0.22922038, 0.23471843, 1.9139814] loss= 1.1066\n",
            "after round 810 [0.22640787, 0.23521179, 1.9133373] loss= 1.1065146\n",
            "after round 820 [0.22382356, 0.23569839, 1.9126549] loss= 1.106441\n",
            "after round 830 [0.22145239, 0.23617786, 1.9119384] loss= 1.1063774\n",
            "after round 840 [0.21927954, 0.23664999, 1.9111922] loss= 1.1063228\n",
            "after round 850 [0.21729048, 0.23711452, 1.9104198] loss= 1.106275\n",
            "after round 860 [0.21547109, 0.23757142, 1.9096249] loss= 1.1062336\n",
            "after round 870 [0.21380788, 0.23802054, 1.9088107] loss= 1.1061975\n",
            "after round 880 [0.21228804, 0.23846203, 1.90798] loss= 1.1061656\n",
            "after round 890 [0.2108993, 0.23889595, 1.9071354] loss= 1.1061375\n",
            "after round 900 [0.20963018, 0.23932241, 1.906279] loss= 1.1061122\n",
            "after round 910 [0.20846999, 0.23974165, 1.9054129] loss= 1.1060895\n",
            "after round 920 [0.20740868, 0.24015383, 1.9045393] loss= 1.1060691\n",
            "after round 930 [0.20643702, 0.2405591, 1.90366] loss= 1.1060501\n",
            "after round 940 [0.2055465, 0.24095768, 1.9027765] loss= 1.1060328\n",
            "after round 950 [0.20472924, 0.24134983, 1.90189] loss= 1.1060169\n",
            "after round 960 [0.20397808, 0.2417358, 1.9010019] loss= 1.1060017\n",
            "after round 970 [0.20328644, 0.24211563, 1.9001138] loss= 1.1059877\n",
            "after round 980 [0.2026484, 0.24248976, 1.8992257] loss= 1.1059744\n",
            "after round 990 [0.20205858, 0.2428584, 1.8983392] loss= 1.1059618\n",
            "Final:\n",
            "[0.20156488, 0.2431856, 1.8975431]\n"
          ],
          "name": "stdout"
        }
      ]
    },
    {
      "cell_type": "markdown",
      "metadata": {
        "id": "oCek4Tnh-HCM",
        "colab_type": "text"
      },
      "source": [
        "One training gave the result: $\\lambda_1\\approx 0.2016$, $w\\approx 0.2432$, $l\\approx 1.8975$.\n",
        "\n",
        "Questions:\n",
        "\n",
        "* Looks like we are bottoming out at a cross-entropy of about 1.1 on each review. Is that a lot? Is that little? From $-\\log(x)=1.1$, we have $x=e^{-1.1}\\approx 0.33$. So that's about as much entropy as if we predicted the probability of a true event at $1/3$.\n",
        "\n",
        "Extension ideas:\n",
        "\n",
        "* Would it be useful to model per-card state?\n",
        "* Compute test-set loss on a withheld set of cards\n",
        "* Operate on batches; construct one computation graph for one card, do not throw them all into the graph.\n",
        "* Anki's SR algorithm uses the *interval*, the *card difficulty* and the *number of last successful reviews*. Would integrating the number of last successful reviews into the model help?\n",
        "* It would be nice to get a visualization of how the probabilities look for a given card, with review points.\n",
        "* It might be helpful to distinguish between \"learn\" reviews, \"relearn\" reviews and others."
      ]
    },
    {
      "cell_type": "markdown",
      "metadata": {
        "id": "JuC5QxS-fysR",
        "colab_type": "text"
      },
      "source": [
        "Basic model - the same forgetting curve starting after every revision\n",
        "==="
      ]
    },
    {
      "cell_type": "markdown",
      "metadata": {
        "id": "fPokEB70-puc",
        "colab_type": "text"
      },
      "source": [
        "This one currently does not work, and tends to somehow run into NaN's. I should fix that at some point."
      ]
    },
    {
      "cell_type": "code",
      "metadata": {
        "id": "wIk8oIoiCFf_",
        "colab_type": "code",
        "outputId": "ac0bdac9-ba1a-427b-a6e8-f14b055dcd2f",
        "colab": {
          "base_uri": "https://localhost:8080/",
          "height": 318
        }
      },
      "source": [
        "lambda1 = tf.Variable(1.0, name=\"lambda1\", trainable=True)\n",
        "losses = []\n",
        "probabilities = []\n",
        "\n",
        "def build_losses_for_reviews(card_reviews):\n",
        "  l = lambda1\n",
        "  for index, row in card_reviews.iterrows():\n",
        "    #print(row)\n",
        "    diff_seconds = row['diff'].total_seconds()\n",
        "    diff_days = diff_seconds / 86400.0\n",
        "    current_probability = 0.998 * tf.exp(-l * diff_days) + 0.001\n",
        "    probabilities.append(current_probability)\n",
        "\n",
        "    if row['correct']:\n",
        "      # we predicted probability current_probability --> if it was 1, do nothing\n",
        "      loss_bit = -tf.log(current_probability)\n",
        "      losses.append(loss_bit)\n",
        "    else:\n",
        "      loss_bit = -tf.log(1.0 - current_probability)\n",
        "      losses.append(loss_bit)\n",
        "\n",
        "for card in sample_cards:\n",
        "  build_losses_for_reviews(get_card_reviews(card))\n",
        "\n",
        "loss = tf.reduce_sum(losses) / len(losses)\n",
        "opt = tf.train.GradientDescentOptimizer(learning_rate=0.001)\n",
        "variables = [lambda1]\n",
        "train_op = opt.minimize(loss, var_list=variables)\n",
        "\n",
        "with tf.Session() as sess:\n",
        "  sess.run(tf.global_variables_initializer())\n",
        "  print(sess.run([lambda1]))\n",
        "  for i in range(1000):\n",
        "    print('Probs: ', sess.run(probabilities))\n",
        "    print('Loss: ', sess.run(loss))\n",
        "    metadata = tf.RunMetadata()\n",
        "    sess.run(train_op)\n",
        "    print(\"after round\", i, sess.run([lambda1]))\n",
        "  \n",
        "  print('Final:')\n",
        "  print(sess.run(variables))\n",
        "  print('Probs: ', sess.run(probabilities))\n",
        "  loss_value = sess.run(loss)\n",
        "  print('Loss: ', loss_value)  # todo: stop if the loss is nan\n",
        "  if np.isnan(loss_value):\n",
        "    print('Reached NaN!')\n",
        "    break\n",
        "    \n",
        "# TODO: why does the lambda get optimized down into negative numbers? >:("
      ],
      "execution_count": 0,
      "outputs": [
        {
          "output_type": "stream",
          "text": [
            "WARNING:tensorflow:From /usr/local/lib/python3.6/dist-packages/tensorflow/python/framework/op_def_library.py:263: colocate_with (from tensorflow.python.framework.ops) is deprecated and will be removed in a future version.\n",
            "Instructions for updating:\n",
            "Colocations handled automatically by placer.\n"
          ],
          "name": "stdout"
        },
        {
          "output_type": "error",
          "ename": "NameError",
          "evalue": "ignored",
          "traceback": [
            "\u001b[0;31m---------------------------------------------------------------------------\u001b[0m",
            "\u001b[0;31mNameError\u001b[0m                                 Traceback (most recent call last)",
            "\u001b[0;32m<ipython-input-1-25183803c578>\u001b[0m in \u001b[0;36m<module>\u001b[0;34m()\u001b[0m\n\u001b[1;32m     24\u001b[0m       \u001b[0mlosses\u001b[0m\u001b[0;34m.\u001b[0m\u001b[0mappend\u001b[0m\u001b[0;34m(\u001b[0m\u001b[0mloss_bit\u001b[0m\u001b[0;34m)\u001b[0m\u001b[0;34m\u001b[0m\u001b[0;34m\u001b[0m\u001b[0m\n\u001b[1;32m     25\u001b[0m \u001b[0;34m\u001b[0m\u001b[0m\n\u001b[0;32m---> 26\u001b[0;31m \u001b[0;32mfor\u001b[0m \u001b[0mcard\u001b[0m \u001b[0;32min\u001b[0m \u001b[0msample_cards\u001b[0m\u001b[0;34m:\u001b[0m\u001b[0;34m\u001b[0m\u001b[0;34m\u001b[0m\u001b[0m\n\u001b[0m\u001b[1;32m     27\u001b[0m   \u001b[0mbuild_losses_for_reviews\u001b[0m\u001b[0;34m(\u001b[0m\u001b[0mget_card_reviews\u001b[0m\u001b[0;34m(\u001b[0m\u001b[0mcard\u001b[0m\u001b[0;34m)\u001b[0m\u001b[0;34m)\u001b[0m\u001b[0;34m\u001b[0m\u001b[0;34m\u001b[0m\u001b[0m\n\u001b[1;32m     28\u001b[0m \u001b[0;34m\u001b[0m\u001b[0m\n",
            "\u001b[0;31mNameError\u001b[0m: name 'sample_cards' is not defined"
          ]
        }
      ]
    }
  ]
}